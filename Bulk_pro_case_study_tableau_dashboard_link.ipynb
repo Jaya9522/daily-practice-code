{
  "nbformat": 4,
  "nbformat_minor": 0,
  "metadata": {
    "colab": {
      "provenance": [],
      "authorship_tag": "ABX9TyMCsL70IrmKivcF0FPhs4tL",
      "include_colab_link": true
    },
    "kernelspec": {
      "name": "python3",
      "display_name": "Python 3"
    },
    "language_info": {
      "name": "python"
    }
  },
  "cells": [
    {
      "cell_type": "markdown",
      "metadata": {
        "id": "view-in-github",
        "colab_type": "text"
      },
      "source": [
        "<a href=\"https://colab.research.google.com/github/Jaya9522/daily-practice-code/blob/main/Bulk_pro_case_study_tableau_dashboard_link.ipynb\" target=\"_parent\"><img src=\"https://colab.research.google.com/assets/colab-badge.svg\" alt=\"Open In Colab\"/></a>"
      ]
    },
    {
      "cell_type": "markdown",
      "source": [
        "Bulk pro case study tableau dashboard link:\n",
        "\n",
        "https://public.tableau.com/app/profile/jayalaxmi.mekap/viz/BulkproCseStudyJayalaxmi/Dashboard1?publish=yes\n"
      ],
      "metadata": {
        "id": "9sA1nFzMRrGF"
      }
    }
  ]
}