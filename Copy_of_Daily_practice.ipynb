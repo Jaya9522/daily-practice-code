{
  "nbformat": 4,
  "nbformat_minor": 0,
  "metadata": {
    "colab": {
      "provenance": [],
      "authorship_tag": "ABX9TyN3cUALc3GXk7EbMitVwaWn",
      "include_colab_link": true
    },
    "kernelspec": {
      "name": "python3",
      "display_name": "Python 3"
    },
    "language_info": {
      "name": "python"
    }
  },
  "cells": [
    {
      "cell_type": "markdown",
      "metadata": {
        "id": "view-in-github",
        "colab_type": "text"
      },
      "source": [
        "<a href=\"https://colab.research.google.com/github/Jaya9522/daily-practice-code/blob/main/Copy_of_Daily_practice.ipynb\" target=\"_parent\"><img src=\"https://colab.research.google.com/assets/colab-badge.svg\" alt=\"Open In Colab\"/></a>"
      ]
    },
    {
      "cell_type": "code",
      "execution_count": null,
      "metadata": {
        "id": "_aq1_8YyHqk3",
        "colab": {
          "base_uri": "https://localhost:8080/"
        },
        "outputId": "76900df5-8eba-4c13-e20b-3803c2131914"
      },
      "outputs": [
        {
          "output_type": "execute_result",
          "data": {
            "text/plain": [
              "5"
            ]
          },
          "metadata": {},
          "execution_count": 1
        }
      ],
      "source": [
        "# Addition\n",
        "2+3"
      ]
    },
    {
      "cell_type": "code",
      "source": [
        "5.3+6.7"
      ],
      "metadata": {
        "colab": {
          "base_uri": "https://localhost:8080/"
        },
        "id": "mjNbKC3UIiHx",
        "outputId": "9cb152ea-600d-437f-b2a3-346630e8f435"
      },
      "execution_count": null,
      "outputs": [
        {
          "output_type": "execute_result",
          "data": {
            "text/plain": [
              "12.0"
            ]
          },
          "metadata": {},
          "execution_count": 2
        }
      ]
    },
    {
      "cell_type": "code",
      "source": [
        "#subtraction\n",
        "9-4"
      ],
      "metadata": {
        "colab": {
          "base_uri": "https://localhost:8080/"
        },
        "id": "-klUx5pWIqXp",
        "outputId": "1802f4ca-a6ee-49b8-a980-c57e6bcf6df4"
      },
      "execution_count": null,
      "outputs": [
        {
          "output_type": "execute_result",
          "data": {
            "text/plain": [
              "5"
            ]
          },
          "metadata": {},
          "execution_count": 3
        }
      ]
    },
    {
      "cell_type": "code",
      "source": [
        "0-5"
      ],
      "metadata": {
        "colab": {
          "base_uri": "https://localhost:8080/"
        },
        "id": "VfOW_Ek7IzIG",
        "outputId": "b41fe307-cf6f-42cd-e779-d2eaec976c4d"
      },
      "execution_count": null,
      "outputs": [
        {
          "output_type": "execute_result",
          "data": {
            "text/plain": [
              "-5"
            ]
          },
          "metadata": {},
          "execution_count": 4
        }
      ]
    },
    {
      "cell_type": "code",
      "source": [
        "-4-6"
      ],
      "metadata": {
        "colab": {
          "base_uri": "https://localhost:8080/"
        },
        "id": "d0A8U9hHI1o2",
        "outputId": "ae6ed25b-bf50-4604-f055-df8a56403fc5"
      },
      "execution_count": null,
      "outputs": [
        {
          "output_type": "execute_result",
          "data": {
            "text/plain": [
              "-10"
            ]
          },
          "metadata": {},
          "execution_count": 5
        }
      ]
    },
    {
      "cell_type": "code",
      "source": [
        "# multiplication\n",
        "8*4"
      ],
      "metadata": {
        "colab": {
          "base_uri": "https://localhost:8080/"
        },
        "id": "HqfOiL_eI3qi",
        "outputId": "81e49056-21ea-4894-8ff1-051950638594"
      },
      "execution_count": null,
      "outputs": [
        {
          "output_type": "execute_result",
          "data": {
            "text/plain": [
              "32"
            ]
          },
          "metadata": {},
          "execution_count": 6
        }
      ]
    },
    {
      "cell_type": "code",
      "source": [
        "9*0"
      ],
      "metadata": {
        "colab": {
          "base_uri": "https://localhost:8080/"
        },
        "id": "6LV1btO6JBb2",
        "outputId": "727cb0f7-a580-464c-8bba-fbd7c28b735f"
      },
      "execution_count": null,
      "outputs": [
        {
          "output_type": "execute_result",
          "data": {
            "text/plain": [
              "0"
            ]
          },
          "metadata": {},
          "execution_count": 7
        }
      ]
    },
    {
      "cell_type": "code",
      "source": [
        "11*1"
      ],
      "metadata": {
        "colab": {
          "base_uri": "https://localhost:8080/"
        },
        "id": "F8M8HE3CJDfk",
        "outputId": "51b4f63e-53c9-4b69-b4c4-d5c6cd013b85"
      },
      "execution_count": null,
      "outputs": [
        {
          "output_type": "execute_result",
          "data": {
            "text/plain": [
              "11"
            ]
          },
          "metadata": {},
          "execution_count": 8
        }
      ]
    },
    {
      "cell_type": "code",
      "source": [
        "# Division\n",
        "11/3"
      ],
      "metadata": {
        "colab": {
          "base_uri": "https://localhost:8080/"
        },
        "id": "QA6r9Ew9JE8k",
        "outputId": "2da52a40-0d72-4bc8-f97b-8333b0b45546"
      },
      "execution_count": null,
      "outputs": [
        {
          "output_type": "execute_result",
          "data": {
            "text/plain": [
              "3.6666666666666665"
            ]
          },
          "metadata": {},
          "execution_count": 9
        }
      ]
    },
    {
      "cell_type": "code",
      "source": [
        "9/0"
      ],
      "metadata": {
        "colab": {
          "base_uri": "https://localhost:8080/",
          "height": 165
        },
        "id": "_YNk1qtvJLIH",
        "outputId": "57432f3a-9155-4038-c097-8927b89ca3ac"
      },
      "execution_count": null,
      "outputs": [
        {
          "output_type": "error",
          "ename": "ZeroDivisionError",
          "evalue": "ignored",
          "traceback": [
            "\u001b[0;31m---------------------------------------------------------------------------\u001b[0m",
            "\u001b[0;31mZeroDivisionError\u001b[0m                         Traceback (most recent call last)",
            "\u001b[0;32m<ipython-input-10-7a5050487faa>\u001b[0m in \u001b[0;36m<module>\u001b[0;34m\u001b[0m\n\u001b[0;32m----> 1\u001b[0;31m \u001b[0;36m9\u001b[0m\u001b[0;34m/\u001b[0m\u001b[0;36m0\u001b[0m\u001b[0;34m\u001b[0m\u001b[0;34m\u001b[0m\u001b[0m\n\u001b[0m",
            "\u001b[0;31mZeroDivisionError\u001b[0m: division by zero"
          ]
        }
      ]
    },
    {
      "cell_type": "code",
      "source": [
        "0/9"
      ],
      "metadata": {
        "colab": {
          "base_uri": "https://localhost:8080/"
        },
        "id": "hQdvqK1MJQER",
        "outputId": "6b570cd5-7f11-4e16-f2cb-7b936d32addf"
      },
      "execution_count": null,
      "outputs": [
        {
          "output_type": "execute_result",
          "data": {
            "text/plain": [
              "0.0"
            ]
          },
          "metadata": {},
          "execution_count": 11
        }
      ]
    },
    {
      "cell_type": "code",
      "source": [
        "9/2"
      ],
      "metadata": {
        "colab": {
          "base_uri": "https://localhost:8080/"
        },
        "id": "Mz-VHVeTJcj3",
        "outputId": "a8a39a6d-e159-4e4a-bf80-3a3f147f120d"
      },
      "execution_count": null,
      "outputs": [
        {
          "output_type": "execute_result",
          "data": {
            "text/plain": [
              "4.5"
            ]
          },
          "metadata": {},
          "execution_count": 13
        }
      ]
    },
    {
      "cell_type": "code",
      "source": [
        "# floor division (quotient)\n",
        "9//2"
      ],
      "metadata": {
        "colab": {
          "base_uri": "https://localhost:8080/"
        },
        "id": "cSYoEpK7JS81",
        "outputId": "ae949b3a-fe3c-4236-b5e0-34df19678d63"
      },
      "execution_count": null,
      "outputs": [
        {
          "output_type": "execute_result",
          "data": {
            "text/plain": [
              "4"
            ]
          },
          "metadata": {},
          "execution_count": 14
        }
      ]
    },
    {
      "cell_type": "code",
      "source": [
        "9/4"
      ],
      "metadata": {
        "colab": {
          "base_uri": "https://localhost:8080/"
        },
        "id": "jCMjJj92Ji_B",
        "outputId": "104f62a7-57a7-4cbb-da49-7ca837b8720c"
      },
      "execution_count": null,
      "outputs": [
        {
          "output_type": "execute_result",
          "data": {
            "text/plain": [
              "2.25"
            ]
          },
          "metadata": {},
          "execution_count": 15
        }
      ]
    },
    {
      "cell_type": "code",
      "source": [
        "9//4"
      ],
      "metadata": {
        "colab": {
          "base_uri": "https://localhost:8080/"
        },
        "id": "6FSwa0EMJu9E",
        "outputId": "4028cfc3-9ba8-4837-928e-3b9c48d7cf14"
      },
      "execution_count": null,
      "outputs": [
        {
          "output_type": "execute_result",
          "data": {
            "text/plain": [
              "2"
            ]
          },
          "metadata": {},
          "execution_count": 16
        }
      ]
    },
    {
      "cell_type": "code",
      "source": [
        "# Exponentiation"
      ],
      "metadata": {
        "id": "OKeeqNViJyEw"
      },
      "execution_count": null,
      "outputs": []
    },
    {
      "cell_type": "code",
      "source": [
        "2**6"
      ],
      "metadata": {
        "colab": {
          "base_uri": "https://localhost:8080/"
        },
        "id": "GbE8pYrrJ4Rb",
        "outputId": "39c5e8e2-16cc-444a-fc4e-30b8fe1ca0c8"
      },
      "execution_count": null,
      "outputs": [
        {
          "output_type": "execute_result",
          "data": {
            "text/plain": [
              "64"
            ]
          },
          "metadata": {},
          "execution_count": 17
        }
      ]
    },
    {
      "cell_type": "code",
      "source": [
        "8**4"
      ],
      "metadata": {
        "colab": {
          "base_uri": "https://localhost:8080/"
        },
        "id": "TqIgqHprJ5mO",
        "outputId": "8b77a8dc-2f6f-40db-94f2-691e7bc3e331"
      },
      "execution_count": null,
      "outputs": [
        {
          "output_type": "execute_result",
          "data": {
            "text/plain": [
              "4096"
            ]
          },
          "metadata": {},
          "execution_count": 18
        }
      ]
    },
    {
      "cell_type": "code",
      "source": [
        "10**3"
      ],
      "metadata": {
        "colab": {
          "base_uri": "https://localhost:8080/"
        },
        "id": "dgk0ajf5J7Qo",
        "outputId": "8826c4f3-7330-4196-ee44-53c0c8f0f369"
      },
      "execution_count": null,
      "outputs": [
        {
          "output_type": "execute_result",
          "data": {
            "text/plain": [
              "1000"
            ]
          },
          "metadata": {},
          "execution_count": 19
        }
      ]
    },
    {
      "cell_type": "code",
      "source": [
        "3**10"
      ],
      "metadata": {
        "colab": {
          "base_uri": "https://localhost:8080/"
        },
        "id": "MKs6upfDJ9tl",
        "outputId": "3627ad63-214c-44ee-d9ba-f6ae7963b9a6"
      },
      "execution_count": null,
      "outputs": [
        {
          "output_type": "execute_result",
          "data": {
            "text/plain": [
              "59049"
            ]
          },
          "metadata": {},
          "execution_count": 20
        }
      ]
    },
    {
      "cell_type": "code",
      "source": [
        "# Modulus(remainder)\n",
        "5%2"
      ],
      "metadata": {
        "colab": {
          "base_uri": "https://localhost:8080/"
        },
        "id": "PSbLLruPKCIK",
        "outputId": "68229d52-46ea-48e6-8f3b-70fc7730574c"
      },
      "execution_count": null,
      "outputs": [
        {
          "output_type": "execute_result",
          "data": {
            "text/plain": [
              "1"
            ]
          },
          "metadata": {},
          "execution_count": 21
        }
      ]
    },
    {
      "cell_type": "code",
      "source": [
        "7%3"
      ],
      "metadata": {
        "id": "k9idEjtuKO01",
        "outputId": "ffe83bd8-cc89-4822-8d03-d650fbb2d7d7",
        "colab": {
          "base_uri": "https://localhost:8080/"
        }
      },
      "execution_count": null,
      "outputs": [
        {
          "output_type": "execute_result",
          "data": {
            "text/plain": [
              "1"
            ]
          },
          "metadata": {},
          "execution_count": 22
        }
      ]
    },
    {
      "cell_type": "code",
      "source": [
        "3%4"
      ],
      "metadata": {
        "id": "jlLYsNzYKXz2",
        "outputId": "9d9d29fd-0698-4629-b027-1693c6479841",
        "colab": {
          "base_uri": "https://localhost:8080/"
        }
      },
      "execution_count": null,
      "outputs": [
        {
          "output_type": "execute_result",
          "data": {
            "text/plain": [
              "3"
            ]
          },
          "metadata": {},
          "execution_count": 23
        }
      ]
    },
    {
      "cell_type": "code",
      "source": [
        "# Order of Operations followed in Python\n",
        "2 + 10 * 10 + 3"
      ],
      "metadata": {
        "id": "idJBvFDtKZrX",
        "outputId": "42e3f11f-5cb0-4040-8836-5d82eb09f392",
        "colab": {
          "base_uri": "https://localhost:8080/"
        }
      },
      "execution_count": null,
      "outputs": [
        {
          "output_type": "execute_result",
          "data": {
            "text/plain": [
              "105"
            ]
          },
          "metadata": {},
          "execution_count": 24
        }
      ]
    },
    {
      "cell_type": "code",
      "source": [
        "10+10-10*10/10"
      ],
      "metadata": {
        "id": "Jydt4z2XKl3a",
        "outputId": "3579b22b-ba56-4708-ae95-55fbdf3c9d9f",
        "colab": {
          "base_uri": "https://localhost:8080/"
        }
      },
      "execution_count": null,
      "outputs": [
        {
          "output_type": "execute_result",
          "data": {
            "text/plain": [
              "10.0"
            ]
          },
          "metadata": {},
          "execution_count": 25
        }
      ]
    },
    {
      "cell_type": "code",
      "source": [
        "3*9+40-8*3**2+5+10/2"
      ],
      "metadata": {
        "id": "bVrp9es2Ktt2",
        "outputId": "a5a23690-0c4a-4a2e-b4f1-7e2e1427e9ed",
        "colab": {
          "base_uri": "https://localhost:8080/"
        }
      },
      "execution_count": null,
      "outputs": [
        {
          "output_type": "execute_result",
          "data": {
            "text/plain": [
              "5.0"
            ]
          },
          "metadata": {},
          "execution_count": 26
        }
      ]
    },
    {
      "cell_type": "code",
      "source": [
        "67-72+5+5"
      ],
      "metadata": {
        "id": "Zv2NQsCxK-eE",
        "outputId": "2ab8167b-5390-4b07-e915-e91e7170e12c",
        "colab": {
          "base_uri": "https://localhost:8080/"
        }
      },
      "execution_count": null,
      "outputs": [
        {
          "output_type": "execute_result",
          "data": {
            "text/plain": [
              "5"
            ]
          },
          "metadata": {},
          "execution_count": 27
        }
      ]
    },
    {
      "cell_type": "code",
      "source": [
        "2***2"
      ],
      "metadata": {
        "id": "EdCotbzQLeNd",
        "outputId": "368e7f73-ab7b-4cf2-b430-4110a12861e3",
        "colab": {
          "base_uri": "https://localhost:8080/",
          "height": 130
        }
      },
      "execution_count": null,
      "outputs": [
        {
          "output_type": "error",
          "ename": "SyntaxError",
          "evalue": "ignored",
          "traceback": [
            "\u001b[0;36m  File \u001b[0;32m\"<ipython-input-29-2a090700a745>\"\u001b[0;36m, line \u001b[0;32m1\u001b[0m\n\u001b[0;31m    2***2\u001b[0m\n\u001b[0m       ^\u001b[0m\n\u001b[0;31mSyntaxError\u001b[0m\u001b[0;31m:\u001b[0m invalid syntax\n"
          ]
        }
      ]
    },
    {
      "cell_type": "code",
      "source": [
        "2*2*2*2"
      ],
      "metadata": {
        "id": "dN37qFdCLhmn",
        "outputId": "063b33f6-cb47-4584-e70d-71fcb4e9a88b",
        "colab": {
          "base_uri": "https://localhost:8080/"
        }
      },
      "execution_count": null,
      "outputs": [
        {
          "output_type": "execute_result",
          "data": {
            "text/plain": [
              "16"
            ]
          },
          "metadata": {},
          "execution_count": 30
        }
      ]
    },
    {
      "cell_type": "code",
      "source": [
        "2+ 10*(10+3)"
      ],
      "metadata": {
        "id": "QIBVxJjVLp7F",
        "outputId": "930af8d3-afce-461b-cecc-abe33222d0c3",
        "colab": {
          "base_uri": "https://localhost:8080/"
        }
      },
      "execution_count": null,
      "outputs": [
        {
          "output_type": "execute_result",
          "data": {
            "text/plain": [
              "132"
            ]
          },
          "metadata": {},
          "execution_count": 33
        }
      ]
    },
    {
      "cell_type": "code",
      "source": [
        "# Scientific Notation for representing large numbers\n",
        "4E6"
      ],
      "metadata": {
        "id": "_KZGT_rXL3n-",
        "outputId": "b34751bf-9c1d-46b6-a3b2-38fa78f0786c",
        "colab": {
          "base_uri": "https://localhost:8080/"
        }
      },
      "execution_count": null,
      "outputs": [
        {
          "output_type": "execute_result",
          "data": {
            "text/plain": [
              "4000000.0"
            ]
          },
          "metadata": {},
          "execution_count": 34
        }
      ]
    },
    {
      "cell_type": "code",
      "source": [
        "10E6"
      ],
      "metadata": {
        "id": "lf8uR9gXMSzs",
        "outputId": "394aeb21-7585-4459-d35c-afb22959ba45",
        "colab": {
          "base_uri": "https://localhost:8080/"
        }
      },
      "execution_count": null,
      "outputs": [
        {
          "output_type": "execute_result",
          "data": {
            "text/plain": [
              "10000000.0"
            ]
          },
          "metadata": {},
          "execution_count": 35
        }
      ]
    },
    {
      "cell_type": "code",
      "source": [
        "6E6"
      ],
      "metadata": {
        "id": "eZCUTLHYMXBY",
        "outputId": "dfad6b6d-7fd0-4ad6-f273-2e3ede2726e8",
        "colab": {
          "base_uri": "https://localhost:8080/"
        }
      },
      "execution_count": null,
      "outputs": [
        {
          "output_type": "execute_result",
          "data": {
            "text/plain": [
              "6000000.0"
            ]
          },
          "metadata": {},
          "execution_count": 36
        }
      ]
    },
    {
      "cell_type": "code",
      "source": [
        "# You can store numbers in variables.\n",
        "# The standard rule is you write the variable name followed by = sign and the value it will take\n"
      ],
      "metadata": {
        "id": "wMTl5EGFMaw4"
      },
      "execution_count": null,
      "outputs": []
    },
    {
      "cell_type": "code",
      "source": [
        "x=8\n",
        "y=9"
      ],
      "metadata": {
        "id": "Pj1hh4hnMmkd"
      },
      "execution_count": null,
      "outputs": []
    },
    {
      "cell_type": "code",
      "source": [
        "x"
      ],
      "metadata": {
        "id": "osSmbgEKMt3X",
        "outputId": "4b40e853-6042-4add-dac0-d47272f52526",
        "colab": {
          "base_uri": "https://localhost:8080/"
        }
      },
      "execution_count": null,
      "outputs": [
        {
          "output_type": "execute_result",
          "data": {
            "text/plain": [
              "8"
            ]
          },
          "metadata": {},
          "execution_count": 38
        }
      ]
    },
    {
      "cell_type": "code",
      "source": [
        "y"
      ],
      "metadata": {
        "id": "lkUbHlzEMuvY",
        "outputId": "eebfa35e-89a9-4fce-8b22-74a3fa17e3a4",
        "colab": {
          "base_uri": "https://localhost:8080/"
        }
      },
      "execution_count": null,
      "outputs": [
        {
          "output_type": "execute_result",
          "data": {
            "text/plain": [
              "9"
            ]
          },
          "metadata": {},
          "execution_count": 39
        }
      ]
    },
    {
      "cell_type": "code",
      "source": [
        "print(x+y)"
      ],
      "metadata": {
        "id": "OHpXX7WsMvua",
        "outputId": "7b58c65a-e805-4008-c90b-f7d43c050bb4",
        "colab": {
          "base_uri": "https://localhost:8080/"
        }
      },
      "execution_count": null,
      "outputs": [
        {
          "output_type": "stream",
          "name": "stdout",
          "text": [
            "17\n"
          ]
        }
      ]
    },
    {
      "cell_type": "code",
      "source": [
        "x+y"
      ],
      "metadata": {
        "id": "U-OqZkh5M00Q",
        "outputId": "52df5acb-6c5a-4f57-983b-3c79f1ee79ce",
        "colab": {
          "base_uri": "https://localhost:8080/"
        }
      },
      "execution_count": null,
      "outputs": [
        {
          "output_type": "execute_result",
          "data": {
            "text/plain": [
              "17"
            ]
          },
          "metadata": {},
          "execution_count": 41
        }
      ]
    },
    {
      "cell_type": "code",
      "source": [
        "type(x+y)"
      ],
      "metadata": {
        "id": "YZoZqp4JM1rR",
        "outputId": "72c8f5db-8acf-428f-cd06-ee70cf3574c5",
        "colab": {
          "base_uri": "https://localhost:8080/"
        }
      },
      "execution_count": null,
      "outputs": [
        {
          "output_type": "execute_result",
          "data": {
            "text/plain": [
              "int"
            ]
          },
          "metadata": {},
          "execution_count": 42
        }
      ]
    },
    {
      "cell_type": "code",
      "source": [
        "# Printing the memory address the variable z occupies\n",
        "print(hex(id(x+y)))"
      ],
      "metadata": {
        "id": "NBNS6Vj-M634",
        "outputId": "c958b3a9-0ea3-4a92-9072-8daf8f8c4581",
        "colab": {
          "base_uri": "https://localhost:8080/"
        }
      },
      "execution_count": null,
      "outputs": [
        {
          "output_type": "stream",
          "name": "stdout",
          "text": [
            "0xa9b9a0\n"
          ]
        }
      ]
    },
    {
      "cell_type": "code",
      "source": [
        "print(hex(id(x)))"
      ],
      "metadata": {
        "id": "TtMA4pgbNHai",
        "outputId": "0b8656a1-5a04-4f3f-a526-db210fef92a9",
        "colab": {
          "base_uri": "https://localhost:8080/"
        }
      },
      "execution_count": null,
      "outputs": [
        {
          "output_type": "stream",
          "name": "stdout",
          "text": [
            "0xa9b880\n"
          ]
        }
      ]
    },
    {
      "cell_type": "code",
      "source": [
        "print(hex(id(y)))"
      ],
      "metadata": {
        "id": "ojqNzQjKNMMp",
        "outputId": "b2863057-4d63-492c-9887-8d40c4457d06",
        "colab": {
          "base_uri": "https://localhost:8080/"
        }
      },
      "execution_count": null,
      "outputs": [
        {
          "output_type": "stream",
          "name": "stdout",
          "text": [
            "0xa9b8a0\n"
          ]
        }
      ]
    },
    {
      "cell_type": "code",
      "source": [
        "z=x-y"
      ],
      "metadata": {
        "id": "jPoWFfsUNV7D"
      },
      "execution_count": null,
      "outputs": []
    },
    {
      "cell_type": "code",
      "source": [
        "z"
      ],
      "metadata": {
        "id": "Rs81-1slNZl4",
        "outputId": "a4f65596-790f-4217-90d2-c5a82a4236e6",
        "colab": {
          "base_uri": "https://localhost:8080/"
        }
      },
      "execution_count": null,
      "outputs": [
        {
          "output_type": "execute_result",
          "data": {
            "text/plain": [
              "-1"
            ]
          },
          "metadata": {},
          "execution_count": 47
        }
      ]
    },
    {
      "cell_type": "code",
      "source": [
        "type(z)"
      ],
      "metadata": {
        "id": "W8wNfr3tNZ2w",
        "outputId": "9e21e53a-06a2-4909-adca-f3203a5444d4",
        "colab": {
          "base_uri": "https://localhost:8080/"
        }
      },
      "execution_count": null,
      "outputs": [
        {
          "output_type": "execute_result",
          "data": {
            "text/plain": [
              "int"
            ]
          },
          "metadata": {},
          "execution_count": 48
        }
      ]
    },
    {
      "cell_type": "code",
      "source": [
        "print(hex(id(z)))"
      ],
      "metadata": {
        "id": "G4n8RVGyNctl",
        "outputId": "0b4d3285-e85e-455b-fc49-ef138ed97790",
        "colab": {
          "base_uri": "https://localhost:8080/"
        }
      },
      "execution_count": null,
      "outputs": [
        {
          "output_type": "stream",
          "name": "stdout",
          "text": [
            "0xa9b760\n"
          ]
        }
      ]
    },
    {
      "cell_type": "code",
      "source": [
        "a=5\n",
        "b=7.9"
      ],
      "metadata": {
        "id": "gXBgKYZ5NhJQ"
      },
      "execution_count": null,
      "outputs": []
    },
    {
      "cell_type": "code",
      "source": [
        "a-b"
      ],
      "metadata": {
        "id": "TWRFtaoyNrDn",
        "outputId": "c9db2c28-e4d6-43c5-a64a-eb2497d827ed",
        "colab": {
          "base_uri": "https://localhost:8080/"
        }
      },
      "execution_count": null,
      "outputs": [
        {
          "output_type": "execute_result",
          "data": {
            "text/plain": [
              "-2.9000000000000004"
            ]
          },
          "metadata": {},
          "execution_count": 51
        }
      ]
    },
    {
      "cell_type": "code",
      "source": [
        "c=b-a"
      ],
      "metadata": {
        "id": "LwVeMKoqNtBm"
      },
      "execution_count": null,
      "outputs": []
    },
    {
      "cell_type": "code",
      "source": [
        "c"
      ],
      "metadata": {
        "id": "eqHmpFcnNw-t",
        "outputId": "a2cf8925-da30-48bc-c57e-08d7ae52eaa0",
        "colab": {
          "base_uri": "https://localhost:8080/"
        }
      },
      "execution_count": null,
      "outputs": [
        {
          "output_type": "execute_result",
          "data": {
            "text/plain": [
              "2.9000000000000004"
            ]
          },
          "metadata": {},
          "execution_count": 53
        }
      ]
    },
    {
      "cell_type": "code",
      "source": [
        "type(c)"
      ],
      "metadata": {
        "id": "mqWc_Bd3NyaL",
        "outputId": "5679626d-f387-45c8-a088-59ba18a5be06",
        "colab": {
          "base_uri": "https://localhost:8080/"
        }
      },
      "execution_count": null,
      "outputs": [
        {
          "output_type": "execute_result",
          "data": {
            "text/plain": [
              "float"
            ]
          },
          "metadata": {},
          "execution_count": 54
        }
      ]
    },
    {
      "cell_type": "code",
      "source": [
        "print(hex(id(c)))"
      ],
      "metadata": {
        "id": "8cDIu6dCN2fN",
        "outputId": "1315be9c-9907-4e59-ca86-d9af48485f3d",
        "colab": {
          "base_uri": "https://localhost:8080/"
        }
      },
      "execution_count": null,
      "outputs": [
        {
          "output_type": "stream",
          "name": "stdout",
          "text": [
            "0x7fefa7669fb0\n"
          ]
        }
      ]
    },
    {
      "cell_type": "code",
      "source": [
        "d=c*b"
      ],
      "metadata": {
        "id": "LJFQmYUaOART"
      },
      "execution_count": null,
      "outputs": []
    },
    {
      "cell_type": "code",
      "source": [
        "print(d)\n",
        "type(d)"
      ],
      "metadata": {
        "id": "PIvc9XQPOC1R",
        "outputId": "5c20516f-dfe8-4e82-dd46-2bcb1db9ee9f",
        "colab": {
          "base_uri": "https://localhost:8080/"
        }
      },
      "execution_count": null,
      "outputs": [
        {
          "output_type": "stream",
          "name": "stdout",
          "text": [
            "22.910000000000004\n"
          ]
        },
        {
          "output_type": "execute_result",
          "data": {
            "text/plain": [
              "float"
            ]
          },
          "metadata": {},
          "execution_count": 57
        }
      ]
    },
    {
      "cell_type": "code",
      "source": [
        "e=d/c"
      ],
      "metadata": {
        "id": "Beou9kicOMtD"
      },
      "execution_count": null,
      "outputs": []
    },
    {
      "cell_type": "code",
      "source": [
        "print(e)\n",
        "type(e)"
      ],
      "metadata": {
        "id": "iT9L_XTDON9p",
        "outputId": "e62636d9-158d-4c8b-ad8a-8e7c085438df",
        "colab": {
          "base_uri": "https://localhost:8080/"
        }
      },
      "execution_count": null,
      "outputs": [
        {
          "output_type": "stream",
          "name": "stdout",
          "text": [
            "7.9\n"
          ]
        },
        {
          "output_type": "execute_result",
          "data": {
            "text/plain": [
              "float"
            ]
          },
          "metadata": {},
          "execution_count": 59
        }
      ]
    },
    {
      "cell_type": "code",
      "source": [
        "d//e"
      ],
      "metadata": {
        "id": "h7NZpcsMOTjp",
        "outputId": "fef30244-4e45-41ae-9772-a7bb8d1ce6ef",
        "colab": {
          "base_uri": "https://localhost:8080/"
        }
      },
      "execution_count": null,
      "outputs": [
        {
          "output_type": "execute_result",
          "data": {
            "text/plain": [
              "2.0"
            ]
          },
          "metadata": {},
          "execution_count": 60
        }
      ]
    },
    {
      "cell_type": "code",
      "source": [
        "d%e"
      ],
      "metadata": {
        "id": "xd1r3olsOY2a",
        "outputId": "e09cf0b4-7771-4888-ed1a-bfb25fcc0247",
        "colab": {
          "base_uri": "https://localhost:8080/"
        }
      },
      "execution_count": null,
      "outputs": [
        {
          "output_type": "execute_result",
          "data": {
            "text/plain": [
              "7.110000000000003"
            ]
          },
          "metadata": {},
          "execution_count": 61
        }
      ]
    },
    {
      "cell_type": "code",
      "source": [
        "type(d%e)"
      ],
      "metadata": {
        "id": "kvvAilgaOara",
        "outputId": "80599802-7a10-4b33-9822-316c1ddcbe09",
        "colab": {
          "base_uri": "https://localhost:8080/"
        }
      },
      "execution_count": null,
      "outputs": [
        {
          "output_type": "execute_result",
          "data": {
            "text/plain": [
              "float"
            ]
          },
          "metadata": {},
          "execution_count": 62
        }
      ]
    },
    {
      "cell_type": "code",
      "source": [
        "type(d//e)"
      ],
      "metadata": {
        "id": "SoaEVhyxOdXB",
        "outputId": "89c9179a-4fff-408b-dc3f-e1f14d0a1117",
        "colab": {
          "base_uri": "https://localhost:8080/"
        }
      },
      "execution_count": null,
      "outputs": [
        {
          "output_type": "execute_result",
          "data": {
            "text/plain": [
              "float"
            ]
          },
          "metadata": {},
          "execution_count": 63
        }
      ]
    },
    {
      "cell_type": "code",
      "source": [
        "# Modulo operator\n",
        "y=5\n",
        "x=3"
      ],
      "metadata": {
        "id": "e6WsUWvIOgKL"
      },
      "execution_count": null,
      "outputs": []
    },
    {
      "cell_type": "code",
      "source": [
        "x%y"
      ],
      "metadata": {
        "id": "grhBJSXJOr-w",
        "outputId": "d495bde5-e25e-4488-d711-44b87815cd6d",
        "colab": {
          "base_uri": "https://localhost:8080/"
        }
      },
      "execution_count": null,
      "outputs": [
        {
          "output_type": "execute_result",
          "data": {
            "text/plain": [
              "3"
            ]
          },
          "metadata": {},
          "execution_count": 65
        }
      ]
    },
    {
      "cell_type": "code",
      "source": [
        "y%x"
      ],
      "metadata": {
        "id": "ANvQ3F77OuJg",
        "outputId": "4ca076f5-0e53-434c-9f65-cb0476b49dab",
        "colab": {
          "base_uri": "https://localhost:8080/"
        }
      },
      "execution_count": null,
      "outputs": [
        {
          "output_type": "execute_result",
          "data": {
            "text/plain": [
              "2"
            ]
          },
          "metadata": {},
          "execution_count": 66
        }
      ]
    },
    {
      "cell_type": "code",
      "source": [
        "y//x"
      ],
      "metadata": {
        "id": "Y-i3IIFmOwaU",
        "outputId": "f21e7b8a-ea7b-465b-d380-92aea8a5c26f",
        "colab": {
          "base_uri": "https://localhost:8080/"
        }
      },
      "execution_count": null,
      "outputs": [
        {
          "output_type": "execute_result",
          "data": {
            "text/plain": [
              "1"
            ]
          },
          "metadata": {},
          "execution_count": 67
        }
      ]
    },
    {
      "cell_type": "code",
      "source": [
        "x//y"
      ],
      "metadata": {
        "id": "lA88tDvXOyb7",
        "outputId": "c8fb795d-dbf0-4f18-e3ba-e7f34f74b71a",
        "colab": {
          "base_uri": "https://localhost:8080/"
        }
      },
      "execution_count": null,
      "outputs": [
        {
          "output_type": "execute_result",
          "data": {
            "text/plain": [
              "0"
            ]
          },
          "metadata": {},
          "execution_count": 68
        }
      ]
    },
    {
      "cell_type": "code",
      "source": [
        "# BODMAS nostalgia\n",
        "some_random_operation =(x+y)/y + (y-x)*x     \n",
        "\n",
        "print(some_random_operation)\n",
        "type(some_random_operation)"
      ],
      "metadata": {
        "id": "xkqPg5NkOzqe",
        "outputId": "50b99d93-6015-4729-ff2f-37787877ce32",
        "colab": {
          "base_uri": "https://localhost:8080/"
        }
      },
      "execution_count": null,
      "outputs": [
        {
          "output_type": "stream",
          "name": "stdout",
          "text": [
            "7.6\n"
          ]
        },
        {
          "output_type": "execute_result",
          "data": {
            "text/plain": [
              "float"
            ]
          },
          "metadata": {},
          "execution_count": 69
        }
      ]
    },
    {
      "cell_type": "code",
      "source": [
        "some_random_operation =(x+y)/y+a + b*(y-x)*x     \n",
        "\n",
        "print(some_random_operation)\n",
        "type(some_random_operation)"
      ],
      "metadata": {
        "id": "BjIfD1QVPE0O",
        "outputId": "33e8e0bb-bf6d-4301-c9a3-ea13fff1218a",
        "colab": {
          "base_uri": "https://localhost:8080/"
        }
      },
      "execution_count": null,
      "outputs": [
        {
          "output_type": "stream",
          "name": "stdout",
          "text": [
            "54.00000000000001\n"
          ]
        },
        {
          "output_type": "execute_result",
          "data": {
            "text/plain": [
              "float"
            ]
          },
          "metadata": {},
          "execution_count": 70
        }
      ]
    },
    {
      "cell_type": "code",
      "source": [
        "# Storing large integer numbers\n",
        "avogadro = 6.22E23\n",
        "print(avogadro)\n",
        "type(avogadro)"
      ],
      "metadata": {
        "id": "GfgFWuevPPJ6",
        "outputId": "bf7bcae3-b517-422c-80cb-c2bcde87dc50",
        "colab": {
          "base_uri": "https://localhost:8080/"
        }
      },
      "execution_count": null,
      "outputs": [
        {
          "output_type": "stream",
          "name": "stdout",
          "text": [
            "6.22e+23\n"
          ]
        },
        {
          "output_type": "execute_result",
          "data": {
            "text/plain": [
              "float"
            ]
          },
          "metadata": {},
          "execution_count": 73
        }
      ]
    },
    {
      "cell_type": "code",
      "source": [
        "# Naming a variable name\n",
        "1oNone = 4\n"
      ],
      "metadata": {
        "id": "tdKIJUvZPhh8",
        "outputId": "61f5aa5b-7469-4ba8-c35d-1137176434a2",
        "colab": {
          "base_uri": "https://localhost:8080/",
          "height": 130
        }
      },
      "execution_count": null,
      "outputs": [
        {
          "output_type": "error",
          "ename": "SyntaxError",
          "evalue": "ignored",
          "traceback": [
            "\u001b[0;36m  File \u001b[0;32m\"<ipython-input-74-290773a78c34>\"\u001b[0;36m, line \u001b[0;32m2\u001b[0m\n\u001b[0;31m    1oNone = 4\u001b[0m\n\u001b[0m         ^\u001b[0m\n\u001b[0;31mSyntaxError\u001b[0m\u001b[0;31m:\u001b[0m invalid syntax\n"
          ]
        }
      ]
    },
    {
      "cell_type": "code",
      "source": [
        "abh_67_hSA=7"
      ],
      "metadata": {
        "id": "Up2uWkSWPqpU"
      },
      "execution_count": null,
      "outputs": []
    },
    {
      "cell_type": "code",
      "source": [
        "print(abh_67_hSA)"
      ],
      "metadata": {
        "id": "tElWNY81PxD2",
        "outputId": "9e1bae3c-71f2-4360-9db7-70779b936c3b",
        "colab": {
          "base_uri": "https://localhost:8080/"
        }
      },
      "execution_count": null,
      "outputs": [
        {
          "output_type": "stream",
          "name": "stdout",
          "text": [
            "7\n"
          ]
        }
      ]
    },
    {
      "cell_type": "code",
      "source": [
        "list = 5"
      ],
      "metadata": {
        "id": "c2CLrJ9rP4nl"
      },
      "execution_count": null,
      "outputs": []
    },
    {
      "cell_type": "code",
      "source": [
        "# Set object to be a boolean\n",
        "boolean_variable = False\n",
        "print(boolean_variable)\n",
        "type(boolean_variable)"
      ],
      "metadata": {
        "id": "r_Gg_mBFQA5D",
        "outputId": "ea800fa1-8bbc-48ac-d799-a6522993ec4d",
        "colab": {
          "base_uri": "https://localhost:8080/"
        }
      },
      "execution_count": null,
      "outputs": [
        {
          "output_type": "stream",
          "name": "stdout",
          "text": [
            "False\n"
          ]
        },
        {
          "output_type": "execute_result",
          "data": {
            "text/plain": [
              "bool"
            ]
          },
          "metadata": {},
          "execution_count": 81
        }
      ]
    },
    {
      "cell_type": "code",
      "source": [
        "#equals\n",
        "2==3"
      ],
      "metadata": {
        "id": "BGErKHnjRKiy",
        "outputId": "43a9dbd3-cc2e-4640-af7f-501877037be7",
        "colab": {
          "base_uri": "https://localhost:8080/"
        }
      },
      "execution_count": null,
      "outputs": [
        {
          "output_type": "execute_result",
          "data": {
            "text/plain": [
              "False"
            ]
          },
          "metadata": {},
          "execution_count": 82
        }
      ]
    },
    {
      "cell_type": "code",
      "source": [
        "10==10"
      ],
      "metadata": {
        "id": "7d97LdM2RNXy",
        "outputId": "169e1f68-5ff2-4ee3-aa90-9f5a941d17c2",
        "colab": {
          "base_uri": "https://localhost:8080/"
        }
      },
      "execution_count": null,
      "outputs": [
        {
          "output_type": "execute_result",
          "data": {
            "text/plain": [
              "True"
            ]
          },
          "metadata": {},
          "execution_count": 83
        }
      ]
    },
    {
      "cell_type": "code",
      "source": [
        "2**2==4"
      ],
      "metadata": {
        "id": "8PyBXwRwRQVU",
        "outputId": "41b8962f-bc13-4a3d-c802-6295d3dff24c",
        "colab": {
          "base_uri": "https://localhost:8080/"
        }
      },
      "execution_count": null,
      "outputs": [
        {
          "output_type": "execute_result",
          "data": {
            "text/plain": [
              "True"
            ]
          },
          "metadata": {},
          "execution_count": 84
        }
      ]
    },
    {
      "cell_type": "code",
      "source": [
        "3+5+8==8+3+5"
      ],
      "metadata": {
        "id": "us6cg0H9RTVV",
        "outputId": "6510a7b9-67cf-473e-cf2b-5114d8a4cc26",
        "colab": {
          "base_uri": "https://localhost:8080/"
        }
      },
      "execution_count": null,
      "outputs": [
        {
          "output_type": "execute_result",
          "data": {
            "text/plain": [
              "True"
            ]
          },
          "metadata": {},
          "execution_count": 85
        }
      ]
    },
    {
      "cell_type": "code",
      "source": [
        "#not equal\n",
        "2!=3"
      ],
      "metadata": {
        "id": "CRGYkoM5RcWy",
        "outputId": "2899c792-dbbf-488e-8694-858b152dec71",
        "colab": {
          "base_uri": "https://localhost:8080/"
        }
      },
      "execution_count": null,
      "outputs": [
        {
          "output_type": "execute_result",
          "data": {
            "text/plain": [
              "True"
            ]
          },
          "metadata": {},
          "execution_count": 87
        }
      ]
    },
    {
      "cell_type": "code",
      "source": [
        "2!=2"
      ],
      "metadata": {
        "id": "LnbCh9eARiPi",
        "outputId": "8428007b-2f48-4cfb-bbe1-47a31fd1c89d",
        "colab": {
          "base_uri": "https://localhost:8080/"
        }
      },
      "execution_count": null,
      "outputs": [
        {
          "output_type": "execute_result",
          "data": {
            "text/plain": [
              "False"
            ]
          },
          "metadata": {},
          "execution_count": 88
        }
      ]
    },
    {
      "cell_type": "code",
      "source": [
        "2**2!=4"
      ],
      "metadata": {
        "id": "IYfSQNLQRnOU",
        "outputId": "31d5321f-0609-4356-857d-3e638f902adf",
        "colab": {
          "base_uri": "https://localhost:8080/"
        }
      },
      "execution_count": null,
      "outputs": [
        {
          "output_type": "execute_result",
          "data": {
            "text/plain": [
              "False"
            ]
          },
          "metadata": {},
          "execution_count": 89
        }
      ]
    },
    {
      "cell_type": "code",
      "source": [
        "#greater than\n",
        "7>0"
      ],
      "metadata": {
        "id": "MtTs_lt5RqU_",
        "outputId": "f921fd42-2048-4e6e-a5ef-95864ebf1538",
        "colab": {
          "base_uri": "https://localhost:8080/"
        }
      },
      "execution_count": null,
      "outputs": [
        {
          "output_type": "execute_result",
          "data": {
            "text/plain": [
              "True"
            ]
          },
          "metadata": {},
          "execution_count": 90
        }
      ]
    },
    {
      "cell_type": "code",
      "source": [
        "8>9"
      ],
      "metadata": {
        "id": "RWR9Q4s_Rz4z",
        "outputId": "f4df8e6c-08df-4198-b44a-70c682f83f3f",
        "colab": {
          "base_uri": "https://localhost:8080/"
        }
      },
      "execution_count": null,
      "outputs": [
        {
          "output_type": "execute_result",
          "data": {
            "text/plain": [
              "False"
            ]
          },
          "metadata": {},
          "execution_count": 91
        }
      ]
    },
    {
      "cell_type": "code",
      "source": [
        "10>98"
      ],
      "metadata": {
        "id": "MeT5wPjTR16C",
        "outputId": "d4c57bb6-fc86-44ce-f560-7ccd67c2216c",
        "colab": {
          "base_uri": "https://localhost:8080/"
        }
      },
      "execution_count": null,
      "outputs": [
        {
          "output_type": "execute_result",
          "data": {
            "text/plain": [
              "False"
            ]
          },
          "metadata": {},
          "execution_count": 92
        }
      ]
    },
    {
      "cell_type": "code",
      "source": [
        "2**5>100"
      ],
      "metadata": {
        "id": "FDd43UVPR30d",
        "outputId": "bd5dbe62-5a38-4a2d-88f7-18226dabc1e6",
        "colab": {
          "base_uri": "https://localhost:8080/"
        }
      },
      "execution_count": null,
      "outputs": [
        {
          "output_type": "execute_result",
          "data": {
            "text/plain": [
              "False"
            ]
          },
          "metadata": {},
          "execution_count": 93
        }
      ]
    },
    {
      "cell_type": "code",
      "source": [
        "8+9+7>9"
      ],
      "metadata": {
        "id": "B3TOfqfoR6mx",
        "outputId": "191207dc-3380-4ab4-a33b-2f75571f9da8",
        "colab": {
          "base_uri": "https://localhost:8080/"
        }
      },
      "execution_count": null,
      "outputs": [
        {
          "output_type": "execute_result",
          "data": {
            "text/plain": [
              "True"
            ]
          },
          "metadata": {},
          "execution_count": 94
        }
      ]
    },
    {
      "cell_type": "code",
      "source": [
        "#less than\n",
        "9<0"
      ],
      "metadata": {
        "id": "tody3yfvSEek",
        "outputId": "6e3348cb-3db7-4f49-8322-81b7d8ad5d1b",
        "colab": {
          "base_uri": "https://localhost:8080/"
        }
      },
      "execution_count": null,
      "outputs": [
        {
          "output_type": "execute_result",
          "data": {
            "text/plain": [
              "False"
            ]
          },
          "metadata": {},
          "execution_count": 95
        }
      ]
    },
    {
      "cell_type": "code",
      "source": [
        "0<0"
      ],
      "metadata": {
        "id": "sYBIUMp_R9S5",
        "outputId": "75e12362-d5ed-4984-f930-4b96e5607281",
        "colab": {
          "base_uri": "https://localhost:8080/"
        }
      },
      "execution_count": null,
      "outputs": [
        {
          "output_type": "execute_result",
          "data": {
            "text/plain": [
              "False"
            ]
          },
          "metadata": {},
          "execution_count": 96
        }
      ]
    },
    {
      "cell_type": "code",
      "source": [
        "6<3"
      ],
      "metadata": {
        "id": "qe1aJDV8SMo7",
        "outputId": "c70e14eb-9833-4564-a586-492c07c90173",
        "colab": {
          "base_uri": "https://localhost:8080/"
        }
      },
      "execution_count": null,
      "outputs": [
        {
          "output_type": "execute_result",
          "data": {
            "text/plain": [
              "False"
            ]
          },
          "metadata": {},
          "execution_count": 97
        }
      ]
    },
    {
      "cell_type": "code",
      "source": [
        "2**5<89"
      ],
      "metadata": {
        "id": "cuurUBRzSOeO",
        "outputId": "052e97ad-42ff-44bf-996e-059f50904c13",
        "colab": {
          "base_uri": "https://localhost:8080/"
        }
      },
      "execution_count": null,
      "outputs": [
        {
          "output_type": "execute_result",
          "data": {
            "text/plain": [
              "True"
            ]
          },
          "metadata": {},
          "execution_count": 98
        }
      ]
    },
    {
      "cell_type": "code",
      "source": [
        "#greater than or equal to\n",
        "89>=98"
      ],
      "metadata": {
        "id": "BZJdZlnWSRBg",
        "outputId": "0b6eb40e-0e5c-4c52-c42e-831668132da0",
        "colab": {
          "base_uri": "https://localhost:8080/"
        }
      },
      "execution_count": null,
      "outputs": [
        {
          "output_type": "execute_result",
          "data": {
            "text/plain": [
              "False"
            ]
          },
          "metadata": {},
          "execution_count": 99
        }
      ]
    },
    {
      "cell_type": "code",
      "source": [
        "56>=56"
      ],
      "metadata": {
        "id": "g9CwaQN5SZ92",
        "outputId": "0549bc6b-26f9-4e64-e336-7fec4d1c7c64",
        "colab": {
          "base_uri": "https://localhost:8080/"
        }
      },
      "execution_count": null,
      "outputs": [
        {
          "output_type": "execute_result",
          "data": {
            "text/plain": [
              "True"
            ]
          },
          "metadata": {},
          "execution_count": 100
        }
      ]
    },
    {
      "cell_type": "code",
      "source": [
        "a<z<b"
      ],
      "metadata": {
        "id": "0MVRAYW5SdJM",
        "outputId": "989ea73e-6f2e-4575-99ca-cc5057fee038",
        "colab": {
          "base_uri": "https://localhost:8080/"
        }
      },
      "execution_count": null,
      "outputs": [
        {
          "output_type": "execute_result",
          "data": {
            "text/plain": [
              "False"
            ]
          },
          "metadata": {},
          "execution_count": 105
        }
      ]
    },
    {
      "cell_type": "code",
      "source": [
        "x<y"
      ],
      "metadata": {
        "id": "delmOYVISgpF",
        "outputId": "2d5f205b-f1c8-4de4-e158-d918e648704d",
        "colab": {
          "base_uri": "https://localhost:8080/"
        }
      },
      "execution_count": null,
      "outputs": [
        {
          "output_type": "execute_result",
          "data": {
            "text/plain": [
              "True"
            ]
          },
          "metadata": {},
          "execution_count": 106
        }
      ]
    },
    {
      "cell_type": "code",
      "source": [
        "z>b>a"
      ],
      "metadata": {
        "id": "gHkE1matSlTG",
        "outputId": "adc19d29-970a-498b-d29f-83645c34f02c",
        "colab": {
          "base_uri": "https://localhost:8080/"
        }
      },
      "execution_count": null,
      "outputs": [
        {
          "output_type": "execute_result",
          "data": {
            "text/plain": [
              "False"
            ]
          },
          "metadata": {},
          "execution_count": 107
        }
      ]
    },
    {
      "cell_type": "code",
      "source": [
        "b>a>z"
      ],
      "metadata": {
        "id": "9rzxeTW7SuW7",
        "outputId": "cbc2c1f3-dd7b-4626-f63a-29677c45362a",
        "colab": {
          "base_uri": "https://localhost:8080/"
        }
      },
      "execution_count": null,
      "outputs": [
        {
          "output_type": "execute_result",
          "data": {
            "text/plain": [
              "True"
            ]
          },
          "metadata": {},
          "execution_count": 111
        }
      ]
    },
    {
      "cell_type": "code",
      "source": [
        "z,a,b"
      ],
      "metadata": {
        "id": "WrXSPM0aSw8k",
        "outputId": "b5d71426-59fc-4951-d6ce-bc4bf74b4490",
        "colab": {
          "base_uri": "https://localhost:8080/"
        }
      },
      "execution_count": null,
      "outputs": [
        {
          "output_type": "execute_result",
          "data": {
            "text/plain": [
              "(-1, 5, 7.9)"
            ]
          },
          "metadata": {},
          "execution_count": 110
        }
      ]
    },
    {
      "cell_type": "code",
      "source": [
        "#less than or equal to\n",
        "z<=4"
      ],
      "metadata": {
        "id": "o4At3TimSyqd",
        "outputId": "6301e417-8d1e-430e-df88-3ceb6b080e3a",
        "colab": {
          "base_uri": "https://localhost:8080/"
        }
      },
      "execution_count": null,
      "outputs": [
        {
          "output_type": "execute_result",
          "data": {
            "text/plain": [
              "True"
            ]
          },
          "metadata": {},
          "execution_count": 112
        }
      ]
    },
    {
      "cell_type": "code",
      "source": [
        "2*8<=8"
      ],
      "metadata": {
        "id": "IOFIJIOmTDGS",
        "outputId": "5543ab85-e346-49bc-dfcf-d9bf5414903c",
        "colab": {
          "base_uri": "https://localhost:8080/"
        }
      },
      "execution_count": null,
      "outputs": [
        {
          "output_type": "execute_result",
          "data": {
            "text/plain": [
              "False"
            ]
          },
          "metadata": {},
          "execution_count": 114
        }
      ]
    },
    {
      "cell_type": "markdown",
      "source": [
        "In a cricket tournament, based on the outcome of a particular match a team gets following points:\n",
        "\n",
        "* wins gets 3 points\n",
        "* draws gets 1 points\n",
        "* losses gets 0 points\n",
        "Team Aravali plays 8 matches in this tournament. It wins 4 matches, loses 3 matches and draws 1. What is the total number of points gained by the Team Aravali?"
      ],
      "metadata": {
        "id": "TsCD34klTfMa"
      }
    },
    {
      "cell_type": "code",
      "source": [
        "# The outcome variables are defined below\n",
        "wins = 4\n",
        "losses = 3\n",
        "draws = 1\n",
        "# Calculate the total points gained by Team Aravali\n",
        "aravali_points =wins*3+losses*0+draws*1\n",
        "# Print the variable aravali_points\n",
        "print(aravali_points)"
      ],
      "metadata": {
        "id": "_NPOWBo4TFPt",
        "outputId": "c8c81680-5ae1-474a-8704-4692cd689a40",
        "colab": {
          "base_uri": "https://localhost:8080/"
        }
      },
      "execution_count": null,
      "outputs": [
        {
          "output_type": "stream",
          "name": "stdout",
          "text": [
            "13\n"
          ]
        }
      ]
    },
    {
      "cell_type": "markdown",
      "source": [
        "Root of a function  $f(x)$  is defined as the value  $x$  where  $f(x)=0$ \n",
        "* Consider a quadratic function  $f(x)=x2+3x−4$ \n",
        "* Find the value of the function  $f(x)$  at points  $x=2,x=−1,x=1$ ."
      ],
      "metadata": {
        "id": "Fo-SW2CVUXvn"
      }
    },
    {
      "cell_type": "code",
      "source": [
        "# Calculate the value of the function f(x) at x = 2\n",
        "func_evaluated_at_2 =2^2+3*2-4 \n",
        "# Print the value below\n",
        "print(func_evaluated_at_2)"
      ],
      "metadata": {
        "id": "fG4ba14cUW_8",
        "outputId": "3b33d1f8-42a3-4f1c-a7d3-25a9415976f8",
        "colab": {
          "base_uri": "https://localhost:8080/"
        }
      },
      "execution_count": null,
      "outputs": [
        {
          "output_type": "stream",
          "name": "stdout",
          "text": [
            "6\n"
          ]
        }
      ]
    },
    {
      "cell_type": "code",
      "metadata": {
        "id": "uD4MAyKIDelo",
        "outputId": "0a391202-2974-45d2-9e22-d2a820e02054",
        "colab": {
          "base_uri": "https://localhost:8080/"
        }
      },
      "source": [
        "# Calculate the value of the function f(x) at x = -1\n",
        "func_evaluated_at_minus1 =-1^2+3*(-1)-4 \n",
        "# Print the value below\n",
        "print(func_evaluated_at_minus1)"
      ],
      "execution_count": null,
      "outputs": [
        {
          "output_type": "stream",
          "name": "stdout",
          "text": [
            "4\n"
          ]
        }
      ]
    },
    {
      "cell_type": "code",
      "source": [
        "# Calculate the value of the function f(x) at x = 1\n",
        "func_evaluated_at_1 =1^2+3*1-4 \n",
        "# Print the type of the variable below\n",
        "print(func_evaluated_at_1)"
      ],
      "metadata": {
        "id": "_4KVOq-tVqHT",
        "outputId": "0cd3ce00-5c25-4c4b-804a-c5ddd6445b1a",
        "colab": {
          "base_uri": "https://localhost:8080/"
        }
      },
      "execution_count": null,
      "outputs": [
        {
          "output_type": "stream",
          "name": "stdout",
          "text": [
            "0\n"
          ]
        }
      ]
    },
    {
      "cell_type": "markdown",
      "source": [
        "Return the boolean for each value of  $x$  to find out whether that value is a root of  $f(x)$"
      ],
      "metadata": {
        "id": "dWs9zFDIVwwr"
      }
    },
    {
      "cell_type": "code",
      "source": [
        "# Check whether 2 is a root of f(x)\n",
        "func_evaluated_at_2 == 0"
      ],
      "metadata": {
        "id": "YjKzIfc5V5DW",
        "outputId": "f3e40e37-6267-4dc2-bd24-e155da2f45a6",
        "colab": {
          "base_uri": "https://localhost:8080/"
        }
      },
      "execution_count": null,
      "outputs": [
        {
          "output_type": "execute_result",
          "data": {
            "text/plain": [
              "False"
            ]
          },
          "metadata": {},
          "execution_count": 119
        }
      ]
    },
    {
      "cell_type": "code",
      "source": [
        "# Check whether -1 is a root of f(x)\n",
        "func_evaluated_at_minus1==0"
      ],
      "metadata": {
        "id": "NolpoJDeV8fq",
        "outputId": "9bf2484e-0b16-4897-9cbc-d8f18261f2f1",
        "colab": {
          "base_uri": "https://localhost:8080/"
        }
      },
      "execution_count": null,
      "outputs": [
        {
          "output_type": "execute_result",
          "data": {
            "text/plain": [
              "False"
            ]
          },
          "metadata": {},
          "execution_count": 120
        }
      ]
    },
    {
      "cell_type": "code",
      "source": [
        "# Check whether 1 is a root of f(x)\n",
        "func_evaluated_at_1==0"
      ],
      "metadata": {
        "id": "aGRHZkVUWAPY",
        "outputId": "1ec8cb34-b481-4ed1-d66b-088313b9e756",
        "colab": {
          "base_uri": "https://localhost:8080/"
        }
      },
      "execution_count": null,
      "outputs": [
        {
          "output_type": "execute_result",
          "data": {
            "text/plain": [
              "True"
            ]
          },
          "metadata": {},
          "execution_count": 121
        }
      ]
    },
    {
      "cell_type": "markdown",
      "source": [
        "A bag contains 45 apples, 65 oranges and 30 bananas. Find the percentage of each type of food items in the bag.\n",
        "\n"
      ],
      "metadata": {
        "id": "daq3PlYUW4Nq"
      }
    },
    {
      "cell_type": "code",
      "source": [
        "apples=45\n",
        "oranges=65\n",
        "bananas=30"
      ],
      "metadata": {
        "id": "r2QwCoFDXUYC"
      },
      "execution_count": null,
      "outputs": []
    },
    {
      "cell_type": "code",
      "source": [
        "# Calculate the percentage of apples and print the variable\n",
        "apple_Percent=(apples/(apples+oranges+bananas))*100\n",
        "print(apple_Percent)"
      ],
      "metadata": {
        "id": "tIK_DGj2W7gy",
        "outputId": "4a2237dd-99e9-4290-c417-7eb29d0c44fb",
        "colab": {
          "base_uri": "https://localhost:8080/"
        }
      },
      "execution_count": null,
      "outputs": [
        {
          "output_type": "stream",
          "name": "stdout",
          "text": [
            "32.142857142857146\n"
          ]
        }
      ]
    },
    {
      "cell_type": "code",
      "source": [
        "# Calculate the percentage of oranges and print the variable\n",
        "oranges_percent=(oranges/(apples+oranges+bananas))*100\n",
        "print(oranges_percent)"
      ],
      "metadata": {
        "id": "BxbTKfeMW-TA",
        "outputId": "9b041962-a3f7-40c3-e33c-3884d408da79",
        "colab": {
          "base_uri": "https://localhost:8080/"
        }
      },
      "execution_count": null,
      "outputs": [
        {
          "output_type": "stream",
          "name": "stdout",
          "text": [
            "46.42857142857143\n"
          ]
        }
      ]
    },
    {
      "cell_type": "code",
      "source": [
        "# Calculate the percentage of bananas and print the variable\n",
        "banana_percent=(bananas/(apples+oranges+bananas))*100\n",
        "print(banana_percent)"
      ],
      "metadata": {
        "id": "os-C1zmdXApu",
        "outputId": "4eec9725-bb4c-415e-8865-e3dfd20d226f",
        "colab": {
          "base_uri": "https://localhost:8080/"
        }
      },
      "execution_count": null,
      "outputs": [
        {
          "output_type": "stream",
          "name": "stdout",
          "text": [
            "21.428571428571427\n"
          ]
        }
      ]
    },
    {
      "cell_type": "markdown",
      "source": [
        "You were playing a fun guessing game during your school break. There were a total of 100 participants excluding you. Out of these 100 people, 30 were Maths Majors, 45 were Economics Majors and 25 were Physics Majors.\n",
        "\n",
        "The game was divided into three rounds.\n",
        "\n",
        "* In the first round, you had to guess the number of Maths Majors and you correctly guessed 20 of them.\n",
        "* In the second round, you had to guess the number of Economics Majors and you correctly guessed 30 of them.\n",
        "* In the final third round, you had to guess the number of Physics Majors and you correctly guessed 20 of them.\n",
        "* Accuracy is defined as the number of correct guesses upon total number of people in the group (expressed in percentage)"
      ],
      "metadata": {
        "id": "CGxQwWv8YdOW"
      }
    },
    {
      "cell_type": "code",
      "metadata": {
        "id": "OfXY9LcVDemF"
      },
      "source": [
        "# Store the number of Maths majors\n",
        "math_maj=30\n",
        "\n",
        "# Store the number of Economics majors\n",
        "eco_maj=45\n",
        "\n",
        "# Store the number of Physics majors\n",
        "phy_maj=25\n",
        "\n",
        "# Store the number of your correct guesses of Maths majors\n",
        "corr_math_guess=20\n",
        "\n",
        "# Store the number of your correct guesses of Economics majors\n",
        "corr_eco_guess=30\n",
        "\n",
        "# Store the number of your correct guesses of Physics majors\n",
        "corr_phy_guess=20"
      ],
      "execution_count": null,
      "outputs": []
    },
    {
      "cell_type": "code",
      "source": [
        "# Print the Maths accuracy\n",
        "math_accuracy=(corr_math_guess/math_maj)*100\n",
        "print(math_accuracy)"
      ],
      "metadata": {
        "id": "EM5dMYv0Yz_H",
        "outputId": "69c4d23a-949b-4aff-c2ed-a78b14059ab5",
        "colab": {
          "base_uri": "https://localhost:8080/"
        }
      },
      "execution_count": null,
      "outputs": [
        {
          "output_type": "stream",
          "name": "stdout",
          "text": [
            "66.66666666666666\n"
          ]
        }
      ]
    },
    {
      "cell_type": "code",
      "source": [
        "# Print the Economics accuracy\n",
        "eco_accuracy=(corr_eco_guess/eco_maj)*100\n",
        "print(eco_accuracy)"
      ],
      "metadata": {
        "id": "b__gly7yY1-M",
        "outputId": "74021c91-4e5e-40e0-aad5-f066004ca1ec",
        "colab": {
          "base_uri": "https://localhost:8080/"
        }
      },
      "execution_count": null,
      "outputs": [
        {
          "output_type": "stream",
          "name": "stdout",
          "text": [
            "66.66666666666666\n"
          ]
        }
      ]
    },
    {
      "cell_type": "code",
      "source": [
        "# Print the Physics accuracy\n",
        "phy_accuracy=(corr_phy_guess/phy_maj)*100\n",
        "print(phy_accuracy)"
      ],
      "metadata": {
        "id": "gFua4v7jY4lR",
        "outputId": "4a1124b4-5d09-4ebe-90d5-11b55ec2b9e7",
        "colab": {
          "base_uri": "https://localhost:8080/"
        }
      },
      "execution_count": null,
      "outputs": [
        {
          "output_type": "stream",
          "name": "stdout",
          "text": [
            "80.0\n"
          ]
        }
      ]
    },
    {
      "cell_type": "code",
      "source": [
        "# Print the overall accuracy\n",
        "overall_accuracy=((corr_eco_guess+corr_math_guess+corr_phy_guess)/(math_maj+eco_maj+phy_maj))*100\n",
        "print(overall_accuracy)"
      ],
      "metadata": {
        "id": "SWZLBlKYY6t9",
        "outputId": "50d69c16-b5b7-4bb7-f854-4aa0a7f9a2ce",
        "colab": {
          "base_uri": "https://localhost:8080/"
        }
      },
      "execution_count": null,
      "outputs": [
        {
          "output_type": "stream",
          "name": "stdout",
          "text": [
            "70.0\n"
          ]
        }
      ]
    }
  ]
}