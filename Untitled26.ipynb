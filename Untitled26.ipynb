{
  "nbformat": 4,
  "nbformat_minor": 0,
  "metadata": {
    "colab": {
      "provenance": [],
      "authorship_tag": "ABX9TyM9OWGbSQzguvUjqWh1UeB1",
      "include_colab_link": true
    },
    "kernelspec": {
      "name": "python3",
      "display_name": "Python 3"
    },
    "language_info": {
      "name": "python"
    }
  },
  "cells": [
    {
      "cell_type": "markdown",
      "metadata": {
        "id": "view-in-github",
        "colab_type": "text"
      },
      "source": [
        "<a href=\"https://colab.research.google.com/github/Jaya9522/daily-practice-code/blob/main/Untitled26.ipynb\" target=\"_parent\"><img src=\"https://colab.research.google.com/assets/colab-badge.svg\" alt=\"Open In Colab\"/></a>"
      ]
    },
    {
      "cell_type": "code",
      "execution_count": null,
      "metadata": {
        "colab": {
          "base_uri": "https://localhost:8080/"
        },
        "id": "CP9ge-MvR4M_",
        "outputId": "75c00577-ae0b-4143-fc25-ded5fe2f587e"
      },
      "outputs": [
        {
          "output_type": "stream",
          "name": "stdout",
          "text": [
            "enter num: 45\n",
            "It is not Perfect Number\n"
          ]
        }
      ],
      "source": [
        "num = int(input(\"enter num: \"))\n",
        "def isperfect(num):\n",
        "    s=0\n",
        "for i in range(1, num):\n",
        "    if num % i ==0:\n",
        "       s=s+i\n",
        "if s==num:\n",
        "   print(\"It is Perfect Number\")\n",
        "else:\n",
        "   print(\"It is not Perfect Number\")         \n",
        "\n"
      ]
    },
    {
      "cell_type": "code",
      "source": [
        "num=int(input(\"Enter any Number \"))\n",
        "temp=num\n",
        "s=0\n",
        "for i in range(1,int(num/2)+1):\n",
        "    if num % i ==0:\n",
        "        s=s+i\n",
        "if (s==num):\n",
        "    print(\"It is not Perfect Number\") \n",
        "else:\n",
        "    print(\"It is not Perfect Number\") "
      ],
      "metadata": {
        "colab": {
          "base_uri": "https://localhost:8080/"
        },
        "id": "uViRDrp3UYSm",
        "outputId": "7c1a143e-aecd-4c2b-95dd-ddc5a005bcde"
      },
      "execution_count": null,
      "outputs": [
        {
          "output_type": "stream",
          "name": "stdout",
          "text": [
            "Enter any Number 28\n",
            "It is not Perfect Number\n"
          ]
        }
      ]
    },
    {
      "cell_type": "code",
      "source": [
        "num=int(input())\n",
        "result = 0\n",
        "for i in range(1, num):\n",
        "    if num % i == 0:\n",
        "        result= result+i\n",
        "if (result==num):\n",
        "    print(\"It is  Perfect Number\") \n",
        "else:\n",
        "    print(\"It is not Perfect Number\") "
      ],
      "metadata": {
        "colab": {
          "base_uri": "https://localhost:8080/"
        },
        "id": "eT5abeEQUaxx",
        "outputId": "4861e8af-6f66-4ba3-8b0f-ba814939f121"
      },
      "execution_count": null,
      "outputs": [
        {
          "output_type": "stream",
          "name": "stdout",
          "text": [
            "45\n",
            "It is not Perfect Number\n"
          ]
        }
      ]
    },
    {
      "cell_type": "code",
      "source": [
        "num=int(input())\n",
        "sum=0\n",
        "while i<num:\n",
        "  if num%i==0:\n",
        "    sum=sum+i\n",
        "  i=i+1\n",
        "if num==sum:\n",
        "  print(\"It is  Perfect Number\")\n",
        "else:\n",
        "  print(\"It is not Perfect Number\")    \n",
        "\n"
      ],
      "metadata": {
        "colab": {
          "base_uri": "https://localhost:8080/"
        },
        "id": "xPFzZKk3Xlp0",
        "outputId": "9aca8956-9168-4233-c52b-4f3d155eee6e"
      },
      "execution_count": null,
      "outputs": [
        {
          "output_type": "stream",
          "name": "stdout",
          "text": [
            "45\n",
            "It is not Perfect Number\n"
          ]
        }
      ]
    },
    {
      "cell_type": "code",
      "source": [
        "string = input()\n",
        "b=string[-1::-1]\n",
        "if(string==b):\n",
        "    print(\"String is a Palindrome\")\n",
        "else:\n",
        "    print(\"String is not a Palindrome\")    "
      ],
      "metadata": {
        "colab": {
          "base_uri": "https://localhost:8080/"
        },
        "id": "Mb9BBxXFZ6nm",
        "outputId": "ef792e01-b1d8-484b-d52c-50f68c1e5fd0"
      },
      "execution_count": null,
      "outputs": [
        {
          "output_type": "stream",
          "name": "stdout",
          "text": [
            "civic\n",
            "String is a Palindrome\n"
          ]
        }
      ]
    },
    {
      "cell_type": "code",
      "source": [
        "str1 =input()\n",
        "substr=input()\n",
        "b= str1.rfind(\"substr\")\n",
        "print(f\" Last occurrence of, {substr}. starts at index 4{b}\")"
      ],
      "metadata": {
        "colab": {
          "base_uri": "https://localhost:8080/"
        },
        "id": "zYsmiZSRg9f3",
        "outputId": "851702a2-29fc-4c8c-c2b5-d73857d4337a"
      },
      "execution_count": null,
      "outputs": [
        {
          "output_type": "stream",
          "name": "stdout",
          "text": [
            "Emma is a data scientist who knows Python. Emma works at google.\n",
            "Emma\n",
            " Last occurrence of, Emma. starts at index 4-1\n"
          ]
        }
      ]
    },
    {
      "cell_type": "code",
      "source": [],
      "metadata": {
        "id": "fDAySd1pmwZT"
      },
      "execution_count": null,
      "outputs": []
    }
  ]
}