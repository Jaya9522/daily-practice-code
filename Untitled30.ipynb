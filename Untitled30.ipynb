{
  "nbformat": 4,
  "nbformat_minor": 0,
  "metadata": {
    "colab": {
      "provenance": [],
      "authorship_tag": "ABX9TyPq0ee+HdIhdWV1iv4h/tXo",
      "include_colab_link": true
    },
    "kernelspec": {
      "name": "python3",
      "display_name": "Python 3"
    },
    "language_info": {
      "name": "python"
    }
  },
  "cells": [
    {
      "cell_type": "markdown",
      "metadata": {
        "id": "view-in-github",
        "colab_type": "text"
      },
      "source": [
        "<a href=\"https://colab.research.google.com/github/Jaya9522/daily-practice-code/blob/main/Untitled30.ipynb\" target=\"_parent\"><img src=\"https://colab.research.google.com/assets/colab-badge.svg\" alt=\"Open In Colab\"/></a>"
      ]
    },
    {
      "cell_type": "code",
      "execution_count": 1,
      "metadata": {
        "colab": {
          "base_uri": "https://localhost:8080/"
        },
        "id": "5ovqzOJqxOKJ",
        "outputId": "bf9930df-6be3-4be5-c168-9e6793fc3f90"
      },
      "outputs": [
        {
          "output_type": "stream",
          "name": "stdout",
          "text": [
            "153\n",
            "Number is Armstrong\n"
          ]
        }
      ],
      "source": [
        "num = int(input())\n",
        "sum = 0\n",
        "temp = num\n",
        "while temp > 0:\n",
        "     digit = temp % 10\n",
        "     sum += digit **3\n",
        "     temp //= 10\n",
        "if num ==sum:\n",
        "   print(\"Number is Armstrong\")\n",
        "else:\n",
        "   print(Number is not Armstrong)        \n"
      ]
    },
    {
      "cell_type": "code",
      "source": [
        "def harmonic_sum(n):\n",
        "  if n < 2:\n",
        "    return 1\n",
        "  else:\n",
        "    return 1 / n + (harmonic_sum(n - 1))\n",
        "n = int(input())\n",
        "print(harmonic_sum(n))"
      ],
      "metadata": {
        "colab": {
          "base_uri": "https://localhost:8080/"
        },
        "id": "eM-N8w9dxZeP",
        "outputId": "1ed7428a-3797-42ff-d7ee-b907f9781c2a"
      },
      "execution_count": 2,
      "outputs": [
        {
          "output_type": "stream",
          "name": "stdout",
          "text": [
            "7\n",
            "2.5928571428571425\n"
          ]
        }
      ]
    },
    {
      "cell_type": "code",
      "source": [
        "def test(nums):\n",
        "    pos = [n for n in nums if n > 0]\n",
        "    neg = [n for n in nums if n < 0]\n",
        "    return [max(neg) if neg else 0, min(pos) if pos else 0]  \n",
        "nums=eval(input())\n",
        "print(\"Largest negative and smallest positive numbers (or 0 if none) of the said list:\")\n",
        "print(test(nums))"
      ],
      "metadata": {
        "colab": {
          "base_uri": "https://localhost:8080/"
        },
        "id": "lLJEE_R9zD_j",
        "outputId": "888af36c-46d7-4c67-e1da-03ea9664370f"
      },
      "execution_count": 3,
      "outputs": [
        {
          "output_type": "stream",
          "name": "stdout",
          "text": [
            "[-12, -6, 300, -40, 2, 2, 3, 57, -50, -22, 12, 40, 9, 11, 18]\n",
            "Largest negative and smallest positive numbers (or 0 if none) of the said list:\n",
            "[-6, 2]\n"
          ]
        }
      ]
    },
    {
      "cell_type": "code",
      "source": [
        "def Largest_Prime_Factor(n):\n",
        "    return next(n // i for i in range(1, n) if n % i == 0 and is_prime(n // i))\n",
        "def is_prime(m):\n",
        "    return all(m % i for i in range(2, m - 1))\n",
        "n = int(input())\n",
        "print(Largest_Prime_Factor(n))"
      ],
      "metadata": {
        "colab": {
          "base_uri": "https://localhost:8080/"
        },
        "id": "g03l_SO-zLSp",
        "outputId": "b2ea3ce9-2524-4257-b197-8de1ea09631a"
      },
      "execution_count": 4,
      "outputs": [
        {
          "output_type": "stream",
          "name": "stdout",
          "text": [
            "330\n",
            "11\n"
          ]
        }
      ]
    },
    {
      "cell_type": "code",
      "source": [
        "def add_digits(num):\n",
        "        return (num - 1) % 9 + 1 if num > 0 else 0\n",
        "\n",
        "print(add_digits(48))\n",
        "print(add_digits(59))\n"
      ],
      "metadata": {
        "colab": {
          "base_uri": "https://localhost:8080/"
        },
        "id": "j3PXTcGwzu4h",
        "outputId": "66900f51-0432-4759-ec74-4a126373ced6"
      },
      "execution_count": 5,
      "outputs": [
        {
          "output_type": "stream",
          "name": "stdout",
          "text": [
            "3\n",
            "5\n"
          ]
        }
      ]
    },
    {
      "cell_type": "code",
      "source": [
        "def add_digits(num):\n",
        "        return (num - 1) % 9 + 1 if num > 0 else 0\n",
        "\n",
        "print(add_digits(7548))\n",
        "\n"
      ],
      "metadata": {
        "colab": {
          "base_uri": "https://localhost:8080/"
        },
        "id": "HzYuNoUS0Rvu",
        "outputId": "3533548c-0bf1-4583-ad7f-850eb3977af9"
      },
      "execution_count": 6,
      "outputs": [
        {
          "output_type": "stream",
          "name": "stdout",
          "text": [
            "6\n"
          ]
        }
      ]
    },
    {
      "cell_type": "code",
      "source": [
        "def GCD(a, b):\n",
        "    if(b == 0):\n",
        "        return a\n",
        "    else:\n",
        "        return GCD(b, a % b)\n",
        "a=int(input())\n",
        "b=int(input())\n",
        "print(GCD(a, b))\n"
      ],
      "metadata": {
        "colab": {
          "base_uri": "https://localhost:8080/"
        },
        "id": "lg7oGplwU31C",
        "outputId": "ac4680c4-3e4f-42a6-8ebf-46abed2261e3"
      },
      "execution_count": 7,
      "outputs": [
        {
          "output_type": "stream",
          "name": "stdout",
          "text": [
            "12\n",
            "14\n",
            "2\n"
          ]
        }
      ]
    },
    {
      "cell_type": "code",
      "source": [
        "def test(m, n):\n",
        "    if m > n or (m == n and m % 2 == 1):\n",
        "        return -1\n",
        "    return n if n % 2 == 0 else n - 1\n",
        "m = int(input())\n",
        "n = int(input())\n",
        "print(\"Biggest even number between \",m, \"and\", n)\n",
        "print(test(m, n))"
      ],
      "metadata": {
        "colab": {
          "base_uri": "https://localhost:8080/"
        },
        "id": "tX3Rg9AFU8K3",
        "outputId": "09cb5fb5-46ec-4ec5-bcba-3514ce1ba345"
      },
      "execution_count": 8,
      "outputs": [
        {
          "output_type": "stream",
          "name": "stdout",
          "text": [
            "12\n",
            "51\n",
            "Biggest even number between  12 and 51\n",
            "50\n"
          ]
        }
      ]
    },
    {
      "cell_type": "code",
      "source": [
        "def test(n,a):\n",
        "    m = 1\n",
        "    x = 0\n",
        "    while m != n:\n",
        "        x += 1\n",
        "        m *= a\n",
        "    return x\n",
        "n=int(input())\n",
        "a=int(input())\n",
        "print(test(n,a))"
      ],
      "metadata": {
        "colab": {
          "base_uri": "https://localhost:8080/"
        },
        "id": "mgjh-isqWOHK",
        "outputId": "efec6477-d0a7-4199-f3d9-84cc7cdc46f2"
      },
      "execution_count": 10,
      "outputs": [
        {
          "output_type": "stream",
          "name": "stdout",
          "text": [
            "81\n",
            "3\n",
            "4\n"
          ]
        }
      ]
    },
    {
      "cell_type": "code",
      "source": [
        "def test(strs):\n",
        "    return \" \".join(strs for strs in strs.split() if is_prime(len(strs))) \n",
        "def is_prime(n):\n",
        "    return n > 1 and all(n % j for j in range(2, int(n ** 0.5) + 1))\n",
        "strs = input()\n",
        "print(test(strs))"
      ],
      "metadata": {
        "colab": {
          "base_uri": "https://localhost:8080/"
        },
        "id": "VxeBYs2UW0lT",
        "outputId": "7141312a-2c9c-4c5c-e306-3a65a89b42c1"
      },
      "execution_count": 11,
      "outputs": [
        {
          "output_type": "stream",
          "name": "stdout",
          "text": [
            "Input: The quick brown fox jumps over the lazy dog.\n",
            "The quick brown fox jumps the\n"
          ]
        }
      ]
    },
    {
      "cell_type": "code",
      "source": [
        "def test(nums):\n",
        "    return sorted(n for n in nums if all(int(c) % 2 for c in str(abs(n))))\n",
        "nums = eval(input())\n",
        "print(\"Sublist of numbers of the said list with only odd digits in increasing order:\")\n",
        "print(test(nums))\n"
      ],
      "metadata": {
        "colab": {
          "base_uri": "https://localhost:8080/"
        },
        "id": "JeWmwk14XwWN",
        "outputId": "254d4f7f-ca2b-4f88-8ddf-ed9e6c88d2d6"
      },
      "execution_count": 12,
      "outputs": [
        {
          "output_type": "stream",
          "name": "stdout",
          "text": [
            "[1, 3, 79, 10, 4, 2, 39]\n",
            "Sublist of numbers of the said list with only odd digits in increasing order:\n",
            "[1, 3, 39, 79]\n"
          ]
        }
      ]
    },
    {
      "cell_type": "code",
      "source": [],
      "metadata": {
        "id": "s4XlpH1DY0Je"
      },
      "execution_count": null,
      "outputs": []
    }
  ]
}