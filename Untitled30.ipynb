{
  "nbformat": 4,
  "nbformat_minor": 0,
  "metadata": {
    "colab": {
      "provenance": [],
      "authorship_tag": "ABX9TyMu6m4EtaCXmTKtOAG4Zel7",
      "include_colab_link": true
    },
    "kernelspec": {
      "name": "python3",
      "display_name": "Python 3"
    },
    "language_info": {
      "name": "python"
    }
  },
  "cells": [
    {
      "cell_type": "markdown",
      "metadata": {
        "id": "view-in-github",
        "colab_type": "text"
      },
      "source": [
        "<a href=\"https://colab.research.google.com/github/Jaya9522/daily-practice-code/blob/main/Untitled30.ipynb\" target=\"_parent\"><img src=\"https://colab.research.google.com/assets/colab-badge.svg\" alt=\"Open In Colab\"/></a>"
      ]
    },
    {
      "cell_type": "code",
      "execution_count": null,
      "metadata": {
        "colab": {
          "base_uri": "https://localhost:8080/"
        },
        "id": "5ovqzOJqxOKJ",
        "outputId": "bf9930df-6be3-4be5-c168-9e6793fc3f90"
      },
      "outputs": [
        {
          "output_type": "stream",
          "name": "stdout",
          "text": [
            "153\n",
            "Number is Armstrong\n"
          ]
        }
      ],
      "source": [
        "num = int(input())\n",
        "sum = 0\n",
        "temp = num\n",
        "while temp > 0:\n",
        "     digit = temp % 10\n",
        "     sum += digit **3\n",
        "     temp //= 10\n",
        "if num ==sum:\n",
        "   print(\"Number is Armstrong\")\n",
        "else:\n",
        "   print(Number is not Armstrong)        \n"
      ]
    },
    {
      "cell_type": "code",
      "source": [
        "def harmonic_sum(n):\n",
        "  if n < 2:\n",
        "    return 1\n",
        "  else:\n",
        "    return 1 / n + (harmonic_sum(n - 1))\n",
        "n = int(input())\n",
        "print(harmonic_sum(n))"
      ],
      "metadata": {
        "colab": {
          "base_uri": "https://localhost:8080/"
        },
        "id": "eM-N8w9dxZeP",
        "outputId": "1ed7428a-3797-42ff-d7ee-b907f9781c2a"
      },
      "execution_count": null,
      "outputs": [
        {
          "output_type": "stream",
          "name": "stdout",
          "text": [
            "7\n",
            "2.5928571428571425\n"
          ]
        }
      ]
    },
    {
      "cell_type": "code",
      "source": [
        "def test(nums):\n",
        "    pos = [n for n in nums if n > 0]\n",
        "    neg = [n for n in nums if n < 0]\n",
        "    return [max(neg) if neg else 0, min(pos) if pos else 0]  \n",
        "nums=eval(input())\n",
        "print(\"Largest negative and smallest positive numbers (or 0 if none) of the said list:\")\n",
        "print(test(nums))"
      ],
      "metadata": {
        "colab": {
          "base_uri": "https://localhost:8080/"
        },
        "id": "lLJEE_R9zD_j",
        "outputId": "888af36c-46d7-4c67-e1da-03ea9664370f"
      },
      "execution_count": null,
      "outputs": [
        {
          "output_type": "stream",
          "name": "stdout",
          "text": [
            "[-12, -6, 300, -40, 2, 2, 3, 57, -50, -22, 12, 40, 9, 11, 18]\n",
            "Largest negative and smallest positive numbers (or 0 if none) of the said list:\n",
            "[-6, 2]\n"
          ]
        }
      ]
    },
    {
      "cell_type": "code",
      "source": [
        "def Largest_Prime_Factor(n):\n",
        "    return next(n // i for i in range(1, n) if n % i == 0 and is_prime(n // i))\n",
        "def is_prime(m):\n",
        "    return all(m % i for i in range(2, m - 1))\n",
        "n = int(input())\n",
        "print(Largest_Prime_Factor(n))"
      ],
      "metadata": {
        "colab": {
          "base_uri": "https://localhost:8080/"
        },
        "id": "g03l_SO-zLSp",
        "outputId": "b2ea3ce9-2524-4257-b197-8de1ea09631a"
      },
      "execution_count": null,
      "outputs": [
        {
          "output_type": "stream",
          "name": "stdout",
          "text": [
            "330\n",
            "11\n"
          ]
        }
      ]
    },
    {
      "cell_type": "code",
      "source": [
        "def add_digits(num):\n",
        "        return (num - 1) % 9 + 1 if num > 0 else 0\n",
        "\n",
        "print(add_digits(48))\n",
        "print(add_digits(59))\n"
      ],
      "metadata": {
        "colab": {
          "base_uri": "https://localhost:8080/"
        },
        "id": "j3PXTcGwzu4h",
        "outputId": "66900f51-0432-4759-ec74-4a126373ced6"
      },
      "execution_count": null,
      "outputs": [
        {
          "output_type": "stream",
          "name": "stdout",
          "text": [
            "3\n",
            "5\n"
          ]
        }
      ]
    },
    {
      "cell_type": "code",
      "source": [
        "def add_digits(num):\n",
        "        return (num - 1) % 9 + 1 if num > 0 else 0\n",
        "\n",
        "print(add_digits(7548))\n",
        "\n"
      ],
      "metadata": {
        "colab": {
          "base_uri": "https://localhost:8080/"
        },
        "id": "HzYuNoUS0Rvu",
        "outputId": "3533548c-0bf1-4583-ad7f-850eb3977af9"
      },
      "execution_count": null,
      "outputs": [
        {
          "output_type": "stream",
          "name": "stdout",
          "text": [
            "6\n"
          ]
        }
      ]
    },
    {
      "cell_type": "code",
      "source": [
        "def GCD(a, b):\n",
        "    if(b == 0):\n",
        "        return a\n",
        "    else:\n",
        "        return GCD(b, a % b)\n",
        "a=int(input())\n",
        "b=int(input())\n",
        "print(GCD(a, b))\n"
      ],
      "metadata": {
        "colab": {
          "base_uri": "https://localhost:8080/"
        },
        "id": "lg7oGplwU31C",
        "outputId": "ac4680c4-3e4f-42a6-8ebf-46abed2261e3"
      },
      "execution_count": null,
      "outputs": [
        {
          "output_type": "stream",
          "name": "stdout",
          "text": [
            "12\n",
            "14\n",
            "2\n"
          ]
        }
      ]
    },
    {
      "cell_type": "code",
      "source": [
        "def test(m, n):\n",
        "    if m > n or (m == n and m % 2 == 1):\n",
        "        return -1\n",
        "    return n if n % 2 == 0 else n - 1\n",
        "m = int(input())\n",
        "n = int(input())\n",
        "print(\"Biggest even number between \",m, \"and\", n)\n",
        "print(test(m, n))"
      ],
      "metadata": {
        "colab": {
          "base_uri": "https://localhost:8080/"
        },
        "id": "tX3Rg9AFU8K3",
        "outputId": "09cb5fb5-46ec-4ec5-bcba-3514ce1ba345"
      },
      "execution_count": null,
      "outputs": [
        {
          "output_type": "stream",
          "name": "stdout",
          "text": [
            "12\n",
            "51\n",
            "Biggest even number between  12 and 51\n",
            "50\n"
          ]
        }
      ]
    },
    {
      "cell_type": "code",
      "source": [
        "def test(n,a):\n",
        "    m = 1\n",
        "    x = 0\n",
        "    while m != n:\n",
        "        x += 1\n",
        "        m *= a\n",
        "    return x\n",
        "n=int(input())\n",
        "a=int(input())\n",
        "print(test(n,a))"
      ],
      "metadata": {
        "colab": {
          "base_uri": "https://localhost:8080/"
        },
        "id": "mgjh-isqWOHK",
        "outputId": "efec6477-d0a7-4199-f3d9-84cc7cdc46f2"
      },
      "execution_count": null,
      "outputs": [
        {
          "output_type": "stream",
          "name": "stdout",
          "text": [
            "81\n",
            "3\n",
            "4\n"
          ]
        }
      ]
    },
    {
      "cell_type": "code",
      "source": [
        "def test(strs):\n",
        "    return \" \".join(strs for strs in strs.split() if is_prime(len(strs))) \n",
        "def is_prime(n):\n",
        "    return n > 1 and all(n % j for j in range(2, int(n ** 0.5) + 1))\n",
        "strs = input()\n",
        "print(test(strs))"
      ],
      "metadata": {
        "colab": {
          "base_uri": "https://localhost:8080/"
        },
        "id": "VxeBYs2UW0lT",
        "outputId": "7141312a-2c9c-4c5c-e306-3a65a89b42c1"
      },
      "execution_count": null,
      "outputs": [
        {
          "output_type": "stream",
          "name": "stdout",
          "text": [
            "Input: The quick brown fox jumps over the lazy dog.\n",
            "The quick brown fox jumps the\n"
          ]
        }
      ]
    },
    {
      "cell_type": "code",
      "source": [
        "def test(nums):\n",
        "    return sorted(n for n in nums if all(int(c) % 2 for c in str(abs(n))))\n",
        "nums = eval(input())\n",
        "print(\"Sublist of numbers of the said list with only odd digits in increasing order:\")\n",
        "print(test(nums))\n"
      ],
      "metadata": {
        "colab": {
          "base_uri": "https://localhost:8080/"
        },
        "id": "JeWmwk14XwWN",
        "outputId": "254d4f7f-ca2b-4f88-8ddf-ed9e6c88d2d6"
      },
      "execution_count": null,
      "outputs": [
        {
          "output_type": "stream",
          "name": "stdout",
          "text": [
            "[1, 3, 79, 10, 4, 2, 39]\n",
            "Sublist of numbers of the said list with only odd digits in increasing order:\n",
            "[1, 3, 39, 79]\n"
          ]
        }
      ]
    },
    {
      "cell_type": "code",
      "source": [
        "num=int(input())\n",
        "factorial = 1\n",
        "if num < 0:\n",
        "   print(\" Factorial can't be calculated for negative number\")\n",
        "elif num == 0:\n",
        "   print(\"Factorial of 0 is 1\")\n",
        "else:\n",
        "   for i in range(1,num + 1):\n",
        "       factorial = factorial*i\n",
        "   print(\"factorial of\",num,\"is\",factorial)\n"
      ],
      "metadata": {
        "colab": {
          "base_uri": "https://localhost:8080/"
        },
        "id": "baJ99_O6mwkQ",
        "outputId": "f4f3fc42-6779-47c4-efd7-6b2c39a2aadf"
      },
      "execution_count": null,
      "outputs": [
        {
          "output_type": "stream",
          "name": "stdout",
          "text": [
            "7\n",
            "factorial of 7 is 5040\n"
          ]
        }
      ]
    },
    {
      "cell_type": "code",
      "source": [
        "def factorial(n):\n",
        "   if n == 1: #base case\n",
        "       return n\n",
        "   else:\n",
        "       return n*factorial(n-1) # recursive case\n",
        "\n",
        "number = int(input())\n",
        "if number < 0:\n",
        "   print(\"Factorial exists for positive numbers only\")\n",
        "elif number == 0:\n",
        "   print(\"Factorial of 0 is 1\")\n",
        "else:\n",
        "   print(\"Factorial of\",number,\"is\",factorial(number))"
      ],
      "metadata": {
        "colab": {
          "base_uri": "https://localhost:8080/"
        },
        "id": "HU94Ogndm5b7",
        "outputId": "ccdaa769-8682-4606-aee3-7a3d80da3535"
      },
      "execution_count": null,
      "outputs": [
        {
          "output_type": "stream",
          "name": "stdout",
          "text": [
            "5\n",
            "Factorial of 5 : 120\n"
          ]
        }
      ]
    },
    {
      "cell_type": "code",
      "source": [
        "def fibonacci(num):\n",
        "    a,b = 0,1\n",
        "    for i in range(num):\n",
        "        a,b = b,a+b\n",
        "    return a\n",
        "num = int(input())\n",
        "print(fibonacci(num))\n"
      ],
      "metadata": {
        "colab": {
          "base_uri": "https://localhost:8080/"
        },
        "id": "vx7jCx2XnzpZ",
        "outputId": "4e7179ea-e026-46cd-d59f-c51da20541b0"
      },
      "execution_count": null,
      "outputs": [
        {
          "output_type": "stream",
          "name": "stdout",
          "text": [
            "5\n",
            "5\n"
          ]
        }
      ]
    },
    {
      "cell_type": "code",
      "source": [
        "def fibonacci(num):\n",
        "    a,b = 0,1\n",
        "    print(a, end=\",\")\n",
        "    while (b<num):\n",
        "        print(b, end=\",\")\n",
        "        c = a+b\n",
        "        a = b\n",
        "        b = c\n",
        "num = int(input())\n",
        "print(fibonacci(num))        "
      ],
      "metadata": {
        "colab": {
          "base_uri": "https://localhost:8080/"
        },
        "id": "muSM0FoJpF-g",
        "outputId": "8cd8344f-35a4-45dd-993f-3efd30daa881"
      },
      "execution_count": null,
      "outputs": [
        {
          "output_type": "stream",
          "name": "stdout",
          "text": [
            "10\n",
            "0,1,1,2,3,5,8,None\n"
          ]
        }
      ]
    },
    {
      "cell_type": "code",
      "source": [
        "def fibonacci(n):\n",
        "    a = 0\n",
        "    b = 1\n",
        "    if n < 0:\n",
        "        print(\"Incorrect input\")\n",
        "    elif n == 0:\n",
        "        return 0\n",
        "    elif n == 1:\n",
        "        return b\n",
        "    else:\n",
        "        for i in range(1, n):\n",
        "            c = a + b\n",
        "            a = b\n",
        "            b = c\n",
        "        return b \n",
        "n=int(input()) \n",
        "print(fibonacci(n, end=\" \"))                  "
      ],
      "metadata": {
        "colab": {
          "base_uri": "https://localhost:8080/",
          "height": 217
        },
        "id": "7qyel38NsJHG",
        "outputId": "f1143e0f-87c7-418a-db1e-6e33a5c2eaef"
      },
      "execution_count": null,
      "outputs": [
        {
          "name": "stdout",
          "output_type": "stream",
          "text": [
            "5\n"
          ]
        },
        {
          "output_type": "error",
          "ename": "TypeError",
          "evalue": "ignored",
          "traceback": [
            "\u001b[0;31m---------------------------------------------------------------------------\u001b[0m",
            "\u001b[0;31mTypeError\u001b[0m                                 Traceback (most recent call last)",
            "\u001b[0;32m<ipython-input-7-81850c3de971>\u001b[0m in \u001b[0;36m<module>\u001b[0;34m\u001b[0m\n\u001b[1;32m     15\u001b[0m         \u001b[0;32mreturn\u001b[0m \u001b[0mb\u001b[0m\u001b[0;34m\u001b[0m\u001b[0;34m\u001b[0m\u001b[0m\n\u001b[1;32m     16\u001b[0m \u001b[0mn\u001b[0m\u001b[0;34m=\u001b[0m\u001b[0mint\u001b[0m\u001b[0;34m(\u001b[0m\u001b[0minput\u001b[0m\u001b[0;34m(\u001b[0m\u001b[0;34m)\u001b[0m\u001b[0;34m)\u001b[0m\u001b[0;34m\u001b[0m\u001b[0;34m\u001b[0m\u001b[0m\n\u001b[0;32m---> 17\u001b[0;31m \u001b[0mprint\u001b[0m\u001b[0;34m(\u001b[0m\u001b[0mfibonacci\u001b[0m\u001b[0;34m(\u001b[0m\u001b[0mn\u001b[0m\u001b[0;34m,\u001b[0m \u001b[0mend\u001b[0m\u001b[0;34m=\u001b[0m\u001b[0;34m\" \"\u001b[0m\u001b[0;34m)\u001b[0m\u001b[0;34m)\u001b[0m\u001b[0;34m\u001b[0m\u001b[0;34m\u001b[0m\u001b[0m\n\u001b[0m",
            "\u001b[0;31mTypeError\u001b[0m: fibonacci() got an unexpected keyword argument 'end'"
          ]
        }
      ]
    },
    {
      "cell_type": "code",
      "source": [
        "num = int(input())\n",
        "n1, n2 = 0, 1\n",
        "print(\"Fibonacci Series:\")\n",
        "for i in range(2, num):\n",
        "    n3 = n1 + n2\n",
        "    n1 = n2\n",
        "    n2 = n3\n",
        "    print(n3, end=\",\")\n",
        "\n",
        "print( n1, n2, end=\",\")"
      ],
      "metadata": {
        "colab": {
          "base_uri": "https://localhost:8080/"
        },
        "id": "ftUSPPSGsMic",
        "outputId": "e8e7488b-d168-4f2c-cd11-1fba65b5c820"
      },
      "execution_count": null,
      "outputs": [
        {
          "output_type": "stream",
          "name": "stdout",
          "text": [
            "10\n",
            "Fibonacci Series:\n",
            "1,2,3,5,8,13,21,34,21 34,"
          ]
        }
      ]
    },
    {
      "cell_type": "code",
      "source": [
        "num = 10\n",
        "n1, n2 = 0, 1\n",
        "print(\"Fibonacci Series:\", n1, n2, end=\" \")\n",
        "for i in range(2, num):\n",
        "    n3 = n1 + n2\n",
        "    n1 = n2\n",
        "    n2 = n3\n",
        "    print(n3, end=\" \")\n",
        "\n",
        "print()"
      ],
      "metadata": {
        "colab": {
          "base_uri": "https://localhost:8080/"
        },
        "id": "uGVMmnQ7twBr",
        "outputId": "8d4d7471-a6f3-4718-b92f-c9b3cfc09be1"
      },
      "execution_count": null,
      "outputs": [
        {
          "output_type": "stream",
          "name": "stdout",
          "text": [
            "Fibonacci Series: 0 1 1 2 3 5 8 13 21 34 \n"
          ]
        }
      ]
    },
    {
      "cell_type": "code",
      "source": [
        "def fib(number_of_terms):\n",
        "   counter = 0\n",
        "\n",
        "   first = 0\n",
        "   second = 1\n",
        "   temp = 0\n",
        " \n",
        "   while counter <= number_of_terms:\n",
        "      print(first, end=\",\")\n",
        "      temp = first + second\n",
        "      first = second\n",
        "      second = temp\n",
        "      counter = counter+1 \n",
        "\n",
        "# Driver Code\n",
        "fib(10)"
      ],
      "metadata": {
        "colab": {
          "base_uri": "https://localhost:8080/"
        },
        "id": "MqKXCa07uzrQ",
        "outputId": "034f822c-bca3-435e-a922-4030b736307f"
      },
      "execution_count": null,
      "outputs": [
        {
          "output_type": "stream",
          "name": "stdout",
          "text": [
            "0,1,1,2,3,5,8,13,21,34,55,"
          ]
        }
      ]
    },
    {
      "cell_type": "code",
      "source": [
        "def fib(term):\n",
        "   if term <= 1:\n",
        "       return (term)\n",
        "   else:\n",
        "       return (fib(term-1) + fib(term-2))\n",
        "\n",
        "# Change this value to adjust the number of terms in the sequence.\n",
        "print(\"Fibonacci Series:\")\n",
        "number_of_terms = int(input())\n",
        "for i in range(number_of_terms):\n",
        "    print(fib(i),end=\",\")"
      ],
      "metadata": {
        "colab": {
          "base_uri": "https://localhost:8080/"
        },
        "id": "ukRJIHE-v_sz",
        "outputId": "6618bfbd-c6a8-460a-9ed8-574065a7e4ac"
      },
      "execution_count": null,
      "outputs": [
        {
          "output_type": "stream",
          "name": "stdout",
          "text": [
            "Fibonacci Series:\n",
            "10\n",
            "0,1,1,2,3,5,8,13,21,34,"
          ]
        }
      ]
    },
    {
      "cell_type": "code",
      "source": [
        "num= int(input())\n",
        "reverse,temp = 0,n\n",
        "while temp!=0:\n",
        "    reverse = reverse*10 + temp%10;        \n",
        "    temp=temp//10;\n",
        "if reverse==n:\n",
        "    print(\"number is palindrom\")\n",
        "else:\n",
        "    print(\"number is not palindrom\")\n",
        " "
      ],
      "metadata": {
        "colab": {
          "base_uri": "https://localhost:8080/"
        },
        "id": "mOIXATR-w2vl",
        "outputId": "a9c43b7c-c888-4618-aea6-acc955602061"
      },
      "execution_count": null,
      "outputs": [
        {
          "output_type": "stream",
          "name": "stdout",
          "text": [
            "1331\n",
            "number is palindrom\n"
          ]
        }
      ]
    },
    {
      "cell_type": "code",
      "source": [
        "from collections import OrderedDict\n",
        "def remove_duplicate(str1):\n",
        "  return \"\".join(OrderedDict.fromkeys(str1))\n",
        "str1=str(input())\n",
        "print(remove_duplicate(str1))"
      ],
      "metadata": {
        "colab": {
          "base_uri": "https://localhost:8080/"
        },
        "id": "uO4aYT7yyW0Q",
        "outputId": "70ac8db7-8cab-45f3-eeee-efdacf4a9b0a"
      },
      "execution_count": null,
      "outputs": [
        {
          "output_type": "stream",
          "name": "stdout",
          "text": [
            "python exercises practice solution\n",
            "python exrcisalu\n"
          ]
        }
      ]
    },
    {
      "cell_type": "code",
      "source": [
        "from collections import OrderedDict\n",
        "\n",
        "def remove_duplicate(s):\n",
        "    string=set(s)\n",
        "    string=\"\".join(string)\n",
        "    dup=\"\"\n",
        "    for i in s:\n",
        "        if(i in dup):\n",
        "            pass\n",
        "        else:\n",
        "            dup=dup+i\n",
        "    print(dup)   \n",
        "\n"
      ],
      "metadata": {
        "id": "WW53a_7MzzSP"
      },
      "execution_count": null,
      "outputs": []
    },
    {
      "cell_type": "code",
      "source": [
        "s=input()\n",
        "print(remove_duplicate(s))"
      ],
      "metadata": {
        "colab": {
          "base_uri": "https://localhost:8080/"
        },
        "id": "OZ9n33oh0R1b",
        "outputId": "563e04dd-b444-4471-dc7e-03057690253c"
      },
      "execution_count": null,
      "outputs": [
        {
          "output_type": "stream",
          "name": "stdout",
          "text": [
            "print(dup)\n",
            "print(du)\n",
            "None\n"
          ]
        }
      ]
    },
    {
      "cell_type": "code",
      "source": [
        "from collections import OrderedDict\n",
        "def solve(s):\n",
        "   d = OrderedDict()\n",
        "   for c in s:\n",
        "      if c not in d:\n",
        "         d[c] = 0\n",
        "      d[c] += 1\n",
        "\n",
        "   return ''.join(d.keys())\n",
        "\n",
        "s =str(input())\n",
        "print(solve(s))\n"
      ],
      "metadata": {
        "colab": {
          "base_uri": "https://localhost:8080/"
        },
        "id": "1MvilAJQ1ca5",
        "outputId": "f0916f91-655e-4a07-a2a0-deaf0e3e8df6"
      },
      "execution_count": null,
      "outputs": [
        {
          "output_type": "stream",
          "name": "stdout",
          "text": [
            "python exercises practice solution\n",
            "python exrcisalu\n"
          ]
        }
      ]
    },
    {
      "cell_type": "code",
      "source": [
        "string = \"Great responsibility\";\n",
        "print(\"Duplicate characters in a given string: \");\n",
        "#Counts each character present in the string.\n",
        "for i in range(0, len(string)):\n",
        "    count = 1;\n",
        "for j in range(i+1, len(string)):\n",
        "   if(string[i] == string[j] and string[i] != ' '):\n",
        "       count = count + 1;"
      ],
      "metadata": {
        "colab": {
          "base_uri": "https://localhost:8080/"
        },
        "id": "m1kCzMFu2fik",
        "outputId": "7e390309-d71f-4436-f400-91cf70dab14e"
      },
      "execution_count": null,
      "outputs": [
        {
          "output_type": "stream",
          "name": "stdout",
          "text": [
            "Duplicate characters in a given string: \n"
          ]
        }
      ]
    },
    {
      "cell_type": "code",
      "source": [
        "from collections import OrderedDict\n",
        "def remove_duplicate(str1):\n",
        "  return \"\".join(OrderedDict.fromkeys(str1))\n",
        "str1=str(input())    \n",
        "print(remove_duplicate(str1))\n"
      ],
      "metadata": {
        "id": "4Az-ONnd3wBL",
        "outputId": "63a6a0c2-9703-427f-e27f-6a3bc1f4b004",
        "colab": {
          "base_uri": "https://localhost:8080/"
        }
      },
      "execution_count": null,
      "outputs": [
        {
          "output_type": "stream",
          "name": "stdout",
          "text": [
            "python exercises practice solution\n",
            "python exrcisalu\n"
          ]
        }
      ]
    },
    {
      "cell_type": "code",
      "source": [
        "from collections import OrderedDict\n",
        "def remove_duplicate(str1):\n",
        "  return \"\".join(OrderedDict.fromkeys(str1))\n",
        "     \n",
        "print(remove_duplicate(\"python exercises practice solution\"))"
      ],
      "metadata": {
        "id": "tOp_ERlS3xKx",
        "colab": {
          "base_uri": "https://localhost:8080/"
        },
        "outputId": "56c6451f-3aa5-414d-ad76-6c63cf5d84d3"
      },
      "execution_count": null,
      "outputs": [
        {
          "output_type": "stream",
          "name": "stdout",
          "text": [
            "python exrcisalu\n"
          ]
        }
      ]
    },
    {
      "cell_type": "code",
      "source": [
        "from collections import OrderedDict\n",
        "def remove_duplicate(str1):\n",
        "  return \"\".join(OrderedDict.fromkeys(str1))\n",
        "str=input()\n",
        "print(remove_duplicate(str))"
      ],
      "metadata": {
        "colab": {
          "base_uri": "https://localhost:8080/"
        },
        "id": "8gA-Y9yM8AC4",
        "outputId": "20d1a052-917c-4c02-df38-1e5f72b2cfec"
      },
      "execution_count": null,
      "outputs": [
        {
          "output_type": "stream",
          "name": "stdout",
          "text": [
            "python exercises practice solution\n",
            "python exrcisalu\n"
          ]
        }
      ]
    },
    {
      "cell_type": "code",
      "source": [
        "string=\"geeksforgeeks\"\n",
        "k2=[]\n",
        "for ele in k:\n",
        "    if ele not in k2:\n",
        "        k2.append(ele)\n",
        "for i in range(0,len(k2)):\n",
        "    print(k2[i],end=\"\")"
      ],
      "metadata": {
        "colab": {
          "base_uri": "https://localhost:8080/",
          "height": 235
        },
        "id": "LtgEMnzI8H_e",
        "outputId": "e951353c-e44c-4531-c2f3-8b24b0d79a7c"
      },
      "execution_count": null,
      "outputs": [
        {
          "output_type": "error",
          "ename": "NameError",
          "evalue": "ignored",
          "traceback": [
            "\u001b[0;31m---------------------------------------------------------------------------\u001b[0m",
            "\u001b[0;31mNameError\u001b[0m                                 Traceback (most recent call last)",
            "\u001b[0;32m<ipython-input-3-b10cf070bc25>\u001b[0m in \u001b[0;36m<module>\u001b[0;34m\u001b[0m\n\u001b[1;32m      1\u001b[0m \u001b[0mstring\u001b[0m\u001b[0;34m=\u001b[0m\u001b[0;34m\"geeksforgeeks\"\u001b[0m\u001b[0;34m\u001b[0m\u001b[0;34m\u001b[0m\u001b[0m\n\u001b[1;32m      2\u001b[0m \u001b[0mk2\u001b[0m\u001b[0;34m=\u001b[0m\u001b[0;34m[\u001b[0m\u001b[0;34m]\u001b[0m\u001b[0;34m\u001b[0m\u001b[0;34m\u001b[0m\u001b[0m\n\u001b[0;32m----> 3\u001b[0;31m \u001b[0;32mfor\u001b[0m \u001b[0mele\u001b[0m \u001b[0;32min\u001b[0m \u001b[0mk\u001b[0m\u001b[0;34m:\u001b[0m\u001b[0;34m\u001b[0m\u001b[0;34m\u001b[0m\u001b[0m\n\u001b[0m\u001b[1;32m      4\u001b[0m     \u001b[0;32mif\u001b[0m \u001b[0mele\u001b[0m \u001b[0;32mnot\u001b[0m \u001b[0;32min\u001b[0m \u001b[0mk2\u001b[0m\u001b[0;34m:\u001b[0m\u001b[0;34m\u001b[0m\u001b[0;34m\u001b[0m\u001b[0m\n\u001b[1;32m      5\u001b[0m         \u001b[0mk2\u001b[0m\u001b[0;34m.\u001b[0m\u001b[0mappend\u001b[0m\u001b[0;34m(\u001b[0m\u001b[0mele\u001b[0m\u001b[0;34m)\u001b[0m\u001b[0;34m\u001b[0m\u001b[0;34m\u001b[0m\u001b[0m\n",
            "\u001b[0;31mNameError\u001b[0m: name 'k' is not defined"
          ]
        }
      ]
    },
    {
      "cell_type": "code",
      "source": [
        "string=\"geeksforgeeks\"\n",
        "p=\"\"\n",
        "for char in string:\n",
        "    if char not in p:\n",
        "        p=p+char\n",
        "print(p)\n",
        "k=list(\"geeksforgeeks\")"
      ],
      "metadata": {
        "colab": {
          "base_uri": "https://localhost:8080/"
        },
        "id": "n5Hv6qPZ8nnu",
        "outputId": "e03cef03-2da5-4bb0-d6ab-48cd6f2bd7a7"
      },
      "execution_count": null,
      "outputs": [
        {
          "output_type": "stream",
          "name": "stdout",
          "text": [
            "geksfor\n"
          ]
        }
      ]
    },
    {
      "cell_type": "code",
      "source": [
        "def char_frequency(str1):\n",
        "    dict = {}\n",
        "    for n in str1:\n",
        "        keys = dict.keys()\n",
        "        if n in keys:\n",
        "            dict[n] += 1\n",
        "        else:\n",
        "            dict[n] = 1\n",
        "    return dict\n",
        "\n",
        "string=input()\n",
        "print(char_frequency(string))"
      ],
      "metadata": {
        "colab": {
          "base_uri": "https://localhost:8080/"
        },
        "id": "O931f7PS8wAf",
        "outputId": "48526a50-a514-49a9-8189-34f522c64a95"
      },
      "execution_count": null,
      "outputs": [
        {
          "output_type": "stream",
          "name": "stdout",
          "text": [
            "google.com\n",
            "{'g': 2, 'o': 3, 'l': 1, 'e': 1, '.': 1, 'c': 1, 'm': 1}\n"
          ]
        }
      ]
    },
    {
      "cell_type": "code",
      "source": [
        "from collections import OrderedDict\n",
        "\n",
        "def remove_duplicate(s): \n",
        "    return \"\".join(OrderedDict.fromkeys(s))\n",
        "\n",
        "s=input()\n",
        "print(remove_duplicate(s))"
      ],
      "metadata": {
        "colab": {
          "base_uri": "https://localhost:8080/"
        },
        "id": "j9yg_wWW9rix",
        "outputId": "86f42872-218b-49a6-83ae-9a6933ed0d82"
      },
      "execution_count": null,
      "outputs": [
        {
          "output_type": "stream",
          "name": "stdout",
          "text": [
            "python exercises practice solution\n",
            "python exrcisalu\n"
          ]
        }
      ]
    },
    {
      "cell_type": "code",
      "source": [
        "from collections import OrderedDict\n",
        "\n",
        "def remove_duplicate(s):\n",
        "    string=set(s)\n",
        "    string=\"\".join(string)\n",
        "    dup=\"\"\n",
        "    for i in s:\n",
        "        if(i in dup):\n",
        "            pass\n",
        "        else:\n",
        "            dup=dup+i\n",
        "    \n",
        "    print(dup)"
      ],
      "metadata": {
        "id": "zmo9MjZ0GC7y"
      },
      "execution_count": null,
      "outputs": []
    },
    {
      "cell_type": "code",
      "source": [
        "s=input()\n",
        "print(remove_duplicate(s))"
      ],
      "metadata": {
        "colab": {
          "base_uri": "https://localhost:8080/"
        },
        "id": "kGFDC69tHXh4",
        "outputId": "6b4d2bf4-421b-4c19-b3a5-8fe9d0fd695e"
      },
      "execution_count": null,
      "outputs": [
        {
          "output_type": "stream",
          "name": "stdout",
          "text": [
            "python exercises practice solution\n",
            "python exrcisalu\n",
            "None\n"
          ]
        }
      ]
    },
    {
      "cell_type": "code",
      "source": [
        "string=input()\n",
        "l=list(string)\n",
        "freq=[l.count(ele) for ele in l]\n",
        "d=dict(zip(l,freq))\n",
        "print(d)"
      ],
      "metadata": {
        "id": "VnV1pBmJJIUe",
        "colab": {
          "base_uri": "https://localhost:8080/"
        },
        "outputId": "f1878633-050a-4d8c-f50c-95267bdafc54"
      },
      "execution_count": null,
      "outputs": [
        {
          "output_type": "stream",
          "name": "stdout",
          "text": [
            "google.com\n",
            "{'g': 2, 'o': 3, 'l': 1, 'e': 1, '.': 1, 'c': 1, 'm': 1}\n"
          ]
        }
      ]
    },
    {
      "cell_type": "code",
      "source": [
        "def remove_duplicate(your_str):\n",
        "   result = ''\n",
        "   for char in your_str:\n",
        "       if char not in result:\n",
        "           result += char\n",
        "   return result\n",
        " \n",
        "user_input = input('what is your string:')\n",
        " \n",
        "no_duplicate = remove_duplicate(user_input)\n",
        "print(no_duplicate)"
      ],
      "metadata": {
        "colab": {
          "base_uri": "https://localhost:8080/"
        },
        "id": "pORJsJztQHb8",
        "outputId": "8521d597-d458-49bc-adc4-317f84f2f9d0"
      },
      "execution_count": null,
      "outputs": [
        {
          "output_type": "stream",
          "name": "stdout",
          "text": [
            "what is your string:python exercises practice solution\n",
            "python exrcisalu\n"
          ]
        }
      ]
    },
    {
      "cell_type": "code",
      "source": [
        "a=input()\n",
        "b=input()\n",
        "def chars_mix_up(a, b):\n",
        "  new_a = b[:2] + a[2:]\n",
        "  new_b = a[:2] + b[2:]\n",
        "\n",
        "  return new_a + ' ' + new_b\n",
        "print(chars_mix_up(a,b ))"
      ],
      "metadata": {
        "id": "X0soijN8SKdc",
        "colab": {
          "base_uri": "https://localhost:8080/"
        },
        "outputId": "4ccf9301-14da-4a75-84d5-db0505bd55d8"
      },
      "execution_count": null,
      "outputs": [
        {
          "output_type": "stream",
          "name": "stdout",
          "text": [
            "abc\n",
            "xyz\n",
            "xyc abz\n"
          ]
        }
      ]
    },
    {
      "cell_type": "code",
      "source": [
        "string=input()\n",
        "def change_char(str1):\n",
        "  char = str1[0]\n",
        "  str1 = str1.replace(char, '$')\n",
        "  str1 = char + str1[1:]\n",
        "\n",
        "  return str1\n",
        "\n",
        "print(change_char(string))"
      ],
      "metadata": {
        "colab": {
          "base_uri": "https://localhost:8080/"
        },
        "id": "ivtKLaHszjy8",
        "outputId": "3f9fa14e-9afd-4873-82c8-381f3865aafc"
      },
      "execution_count": null,
      "outputs": [
        {
          "output_type": "stream",
          "name": "stdout",
          "text": [
            "restart\n",
            "resta$t\n"
          ]
        }
      ]
    },
    {
      "cell_type": "code",
      "source": [
        "string=input()\n",
        "def word_count(str):\n",
        "    counts = dict()\n",
        "    words = str.split()\n",
        "\n",
        "    for word in words:\n",
        "        if word in counts:\n",
        "            counts[word] += 1\n",
        "        else:\n",
        "            counts[word] = 1\n",
        "\n",
        "    return counts\n",
        "print( word_count(string))   "
      ],
      "metadata": {
        "colab": {
          "base_uri": "https://localhost:8080/"
        },
        "id": "emYVoMYT0FxE",
        "outputId": "9789b4de-0639-4794-833c-03c4a62b495b"
      },
      "execution_count": null,
      "outputs": [
        {
          "output_type": "stream",
          "name": "stdout",
          "text": [
            "the quick brown fox jumps over the lazy dog\n",
            "{'the': 2, 'quick': 1, 'brown': 1, 'fox': 1, 'jumps': 1, 'over': 1, 'lazy': 1, 'dog': 1}\n"
          ]
        }
      ]
    },
    {
      "cell_type": "code",
      "source": [
        "list_items = input()\n",
        "words = [word for word in list_items.split(\",\")]\n",
        "print(\",\".join(sorted(list(set(words)))))"
      ],
      "metadata": {
        "colab": {
          "base_uri": "https://localhost:8080/"
        },
        "id": "m79I8Upi0rO-",
        "outputId": "205204e6-7e91-4739-dd55-dce363ed59a8"
      },
      "execution_count": null,
      "outputs": [
        {
          "output_type": "stream",
          "name": "stdout",
          "text": [
            "red, black, pink, green, black, green\n",
            " black, green, pink,red\n"
          ]
        }
      ]
    },
    {
      "cell_type": "code",
      "source": [
        "def insert_sting_middle(str, word):\n",
        "\treturn str[:2] + word + str[2:]\n",
        "print(insert_sting_middle('[[]]', 'Python'))\n",
        "print(insert_sting_middle('{{}}', 'PHP'))\n",
        "print(insert_sting_middle('<<>>', 'HTML'))  \n"
      ],
      "metadata": {
        "colab": {
          "base_uri": "https://localhost:8080/"
        },
        "id": "kmwMEh911luL",
        "outputId": "93c12f2e-4573-4183-b1f6-e69fc009ce43"
      },
      "execution_count": null,
      "outputs": [
        {
          "output_type": "stream",
          "name": "stdout",
          "text": [
            "[[Python]]\n",
            "{{PHP}}\n",
            "<<HTML>>\n"
          ]
        }
      ]
    },
    {
      "cell_type": "code",
      "source": [
        "string=input()\n",
        "worrd=input()\n",
        "def insert_sting_middle(str, word):\n",
        "\treturn str[:2] + word + str[2:]\n",
        "print(insert_sting_middle(string,worrd))  \n"
      ],
      "metadata": {
        "colab": {
          "base_uri": "https://localhost:8080/"
        },
        "id": "Z65KHn4j2Vwt",
        "outputId": "3b92a9a6-b8fb-4c76-f918-78506042ab1a"
      },
      "execution_count": null,
      "outputs": [
        {
          "output_type": "stream",
          "name": "stdout",
          "text": [
            "[[]]\n",
            "Python\n",
            "[[Python]]\n"
          ]
        }
      ]
    },
    {
      "cell_type": "code",
      "source": [
        "def reverse_string(str1):\n",
        "    if len(str1) % 4 == 0:\n",
        "       return ''.join(reversed(str1))\n",
        "    return str1\n",
        "\n",
        "print(reverse_string('abcd'))"
      ],
      "metadata": {
        "colab": {
          "base_uri": "https://localhost:8080/"
        },
        "id": "2vJckXBD2xaD",
        "outputId": "19fea295-2847-41a6-c668-bf5e3b602721"
      },
      "execution_count": null,
      "outputs": [
        {
          "output_type": "stream",
          "name": "stdout",
          "text": [
            "dcba\n"
          ]
        }
      ]
    },
    {
      "cell_type": "code",
      "source": [
        "string=input()\n",
        "def first_non_repeating_character(str1):\n",
        "  char_order = []\n",
        "  ctr = {}\n",
        "  for c in str1:\n",
        "    if c in ctr:\n",
        "      ctr[c] += 1\n",
        "    else:\n",
        "      ctr[c] = 1 \n",
        "      char_order.append(c)\n",
        "  for c in char_order:\n",
        "    if ctr[c] == 1:\n",
        "      return c\n",
        "  return None\n",
        "print(first_non_repeating_character(string))  "
      ],
      "metadata": {
        "colab": {
          "base_uri": "https://localhost:8080/"
        },
        "id": "7poYaVIr32oZ",
        "outputId": "30d34806-7aba-4348-9453-a68fc87d7906"
      },
      "execution_count": null,
      "outputs": [
        {
          "output_type": "stream",
          "name": "stdout",
          "text": [
            "aabcddf\n",
            "b\n"
          ]
        }
      ]
    },
    {
      "cell_type": "code",
      "source": [
        "def word_count(str):\n",
        "    counts = dict()\n",
        "    words = str.split()\n",
        "\n",
        "    for word in words:\n",
        "        if word in counts:\n",
        "            counts[word] += 1\n",
        "        else:\n",
        "            counts[word] = 1\n",
        "\n",
        "    counts_x = sorted(counts.items(), key=lambda kv: kv[1])\n",
        "    #print(counts_x)\n",
        "    return counts_x[-2]\n",
        " \n",
        "print(word_count(\"Both of these issues are fixed by postponing the evaluation of annotations. Instead of compiling code which executes expressions in annotations at their definition time, the compiler stores the annotation in a string form equivalent to the AST of the expression in question. If needed, annotations can be resolved at runtime using typing.get_type_hints(). In the common case where this is not required, the annotations are cheaper to store (since short strings are interned by the interpreter) and make startup time faster.\"))\n"
      ],
      "metadata": {
        "colab": {
          "base_uri": "https://localhost:8080/"
        },
        "id": "W2-Uhh4439U9",
        "outputId": "cba9c188-e887-4db6-82be-ab90a149fbde"
      },
      "execution_count": null,
      "outputs": [
        {
          "output_type": "stream",
          "name": "stdout",
          "text": [
            "('of', 4)\n"
          ]
        }
      ]
    },
    {
      "cell_type": "code",
      "source": [
        "string=input()\n",
        "def word_count(str):\n",
        "    counts = dict()\n",
        "    words = str.split()\n",
        "\n",
        "    for word in words:\n",
        "        if word in counts:\n",
        "            counts[word] += 1\n",
        "        else:\n",
        "            counts[word] = 1\n",
        "\n",
        "    counts_x = sorted(counts.items(), key=lambda kv: kv[1])\n",
        "    #print(counts_x)\n",
        "    return counts_x[-2]\n",
        "print(word_count(string))    \n"
      ],
      "metadata": {
        "colab": {
          "base_uri": "https://localhost:8080/"
        },
        "id": "UHVWe9nv4MNT",
        "outputId": "c3d7dcab-5331-4560-e818-d8844dcd35dc"
      },
      "execution_count": null,
      "outputs": [
        {
          "output_type": "stream",
          "name": "stdout",
          "text": [
            "Both of these issues are fixed by postponing the evaluation of annotations. Instead of compiling code which executes expressions in annotations at their definition time, the compiler stores the annotation in a string form equivalent to the AST of the expression in question. If needed, annotations can be resolved at runtime using typing.get_type_hints(). In the common case where this is not required, the annotations are cheaper to store (since short strings are interned by the interpreter) and make startup time faster.\n",
            "('of', 4)\n"
          ]
        }
      ]
    },
    {
      "cell_type": "code",
      "source": [
        "def last(n): return n[-1]\n",
        "\n",
        "def sort_list_last(tuples):\n",
        "  return sorted(tuples, key=last)\n",
        "\n",
        "print(sort_list_last([(2, 5), (1, 2), (4, 4), (2, 3), (2, 1)]))\n"
      ],
      "metadata": {
        "colab": {
          "base_uri": "https://localhost:8080/"
        },
        "id": "jY0QVy6F5mjo",
        "outputId": "49c3c07e-2abf-4093-cebd-1ed57e052059"
      },
      "execution_count": null,
      "outputs": [
        {
          "output_type": "stream",
          "name": "stdout",
          "text": [
            "[(2, 1), (1, 2), (2, 3), (4, 4), (2, 5)]\n"
          ]
        }
      ]
    },
    {
      "cell_type": "code",
      "source": [
        "lst= eval(input())\n",
        "def last(n): return n[-1]\n",
        "\n",
        "def sort_list_last(tuples):\n",
        "  return sorted(tuples, key=last)\n",
        "print(sort_list_last(lst))  "
      ],
      "metadata": {
        "colab": {
          "base_uri": "https://localhost:8080/"
        },
        "id": "1_cRxw8n6R-x",
        "outputId": "129f869f-531a-49ba-ecc4-f1c291505b35"
      },
      "execution_count": null,
      "outputs": [
        {
          "output_type": "stream",
          "name": "stdout",
          "text": [
            "[(2, 5), (1, 2), (4, 4), (2, 3), (2, 1)]\n",
            "[(2, 1), (1, 2), (2, 3), (4, 4), (2, 5)]\n"
          ]
        }
      ]
    },
    {
      "cell_type": "code",
      "source": [
        "lst=eval(input())\n",
        "def match_words(words):\n",
        "  ctr = 0\n",
        "\n",
        "  for word in words:\n",
        "    if len(word) > 1 and word[0] == word[-1]:\n",
        "      ctr += 1\n",
        "  return ctr\n",
        "print(match_words(lst))  "
      ],
      "metadata": {
        "colab": {
          "base_uri": "https://localhost:8080/"
        },
        "id": "n8qP3paL6d8-",
        "outputId": "f56b9f18-e1db-4ec8-d2f3-ec2cb9ce78f8"
      },
      "execution_count": null,
      "outputs": [
        {
          "output_type": "stream",
          "name": "stdout",
          "text": [
            "['abc', 'xyz', 'aba', '1221']\n",
            "2\n"
          ]
        }
      ]
    },
    {
      "cell_type": "code",
      "source": [
        "rownumbs = 4\n",
        "colnumbs = 3\n",
        "print(\"Print Number Pattern - 1 and 0 in alternative Columns\") \n",
        " \n",
        "for i in range(1, rownumbs + 1):\n",
        "    for j in range(1, colnumbs + 1):\n",
        "        if(j % 2 == 0):          \n",
        "            print('0', end = '.')\n",
        "        else:\n",
        "            print('1', end = '.')\n",
        "    print()"
      ],
      "metadata": {
        "colab": {
          "base_uri": "https://localhost:8080/"
        },
        "id": "Ux4mnhh675xu",
        "outputId": "87c7873c-ea89-4ddd-ec18-be90c7382cf1"
      },
      "execution_count": null,
      "outputs": [
        {
          "output_type": "stream",
          "name": "stdout",
          "text": [
            "Print Number Pattern - 1 and 0 in alternative Columns\n",
            "1.0.1.\n",
            "1.0.1.\n",
            "1.0.1.\n",
            "1.0.1.\n"
          ]
        }
      ]
    },
    {
      "cell_type": "code",
      "source": [
        "rows= 5\n",
        "colms= 5\n",
        "print(\"Hollow Rectangle Star Pattern\") \n",
        "for i in range(rows):\n",
        "    for j in range(colms):\n",
        "        if(i == 0 or i == rows - 1 or j == 0 or j == colms - 1):\n",
        "            print('0', end = '.')\n",
        "        else:\n",
        "            print(' ', end = '.')\n",
        "    print()"
      ],
      "metadata": {
        "colab": {
          "base_uri": "https://localhost:8080/"
        },
        "id": "yIYdbxeG-Pon",
        "outputId": "f6f80797-f304-4719-cd51-d45682d6c10b"
      },
      "execution_count": null,
      "outputs": [
        {
          "output_type": "stream",
          "name": "stdout",
          "text": [
            "Hollow Rectangle Star Pattern\n",
            "0.0.0.0.0.\n",
            "0. . . .0.\n",
            "0. . . .0.\n",
            "0. . . .0.\n",
            "0.0.0.0.0.\n"
          ]
        }
      ]
    },
    {
      "cell_type": "code",
      "source": [
        "rows=5\n",
        "colms=5\n",
        "for i in range(1,rows+1):\n",
        "    for j in range(1,colms+1):\n",
        "        if i==1 or i==rows or j==1 or j==colms:\n",
        "            print(\"o.\", end=\"\")\n",
        "        else:\n",
        "            print(\"  \", end=\"\")\n",
        "    print()"
      ],
      "metadata": {
        "colab": {
          "base_uri": "https://localhost:8080/"
        },
        "id": "Fcw_SyB2_Bnc",
        "outputId": "775d6b9d-3dda-4ee2-88c7-f25d239cc16f"
      },
      "execution_count": null,
      "outputs": [
        {
          "output_type": "stream",
          "name": "stdout",
          "text": [
            "o.o.o.o.o.\n",
            "o.      o.\n",
            "o.      o.\n",
            "o.      o.\n",
            "o.o.o.o.o.\n"
          ]
        }
      ]
    },
    {
      "cell_type": "code",
      "source": [
        "def print_rectangle(n, m) :\n",
        "     \n",
        "    for i in range(1, n+1) :\n",
        "        for j in range(1, m+1) :\n",
        "            if (i == 1 or i == n or\n",
        "                j == 1 or j == m) :\n",
        "                print(\"o.\", end=\"\")           \n",
        "            else :\n",
        "                print(\"  \", end=\"\")           \n",
        "         \n",
        "        print()\n",
        " \n",
        " \n",
        "# Driver program for above function\n",
        "rows = 5\n",
        "columns = 5\n",
        "print_rectangle(rows, columns)\n",
        " \n",
        " "
      ],
      "metadata": {
        "colab": {
          "base_uri": "https://localhost:8080/"
        },
        "id": "VQuQUoNjCFFz",
        "outputId": "0c5676ef-7081-4664-8675-76677d3a66bc"
      },
      "execution_count": null,
      "outputs": [
        {
          "output_type": "stream",
          "name": "stdout",
          "text": [
            "o.o.o.o.o.\n",
            "o.      o.\n",
            "o.      o.\n",
            "o.      o.\n",
            "o.o.o.o.o.\n"
          ]
        }
      ]
    },
    {
      "cell_type": "code",
      "source": [
        "def pairStar(Input, Output, i = 0) :\n",
        "     \n",
        "    # Append current character\n",
        "    Output = Output + Input[i]\n",
        " \n",
        "    # If we reached last character\n",
        "    if (i == len(Input) - 1) :\n",
        "        print(Output)\n",
        "        return;\n",
        " \n",
        "    # If next character is same,\n",
        "    # append '*'\n",
        "    if (Input[i] == Input[i + 1]) :\n",
        "        Output = Output + '*';\n",
        " \n",
        "    pairStar(Input, Output);\n",
        "Input = input()\n",
        "Output = \"\"\n",
        "print(pairStar(Input,Output))     "
      ],
      "metadata": {
        "colab": {
          "base_uri": "https://localhost:8080/",
          "height": 414
        },
        "id": "4gYbzlMCDS8S",
        "outputId": "fdc67294-a945-4484-b823-79e8f1989338"
      },
      "execution_count": null,
      "outputs": [
        {
          "name": "stdout",
          "output_type": "stream",
          "text": [
            "AlmaBetterr\n"
          ]
        },
        {
          "output_type": "error",
          "ename": "RecursionError",
          "evalue": "ignored",
          "traceback": [
            "\u001b[0;31m---------------------------------------------------------------------------\u001b[0m",
            "\u001b[0;31mRecursionError\u001b[0m                            Traceback (most recent call last)",
            "\u001b[0;32m<ipython-input-49-973b63fd0bd8>\u001b[0m in \u001b[0;36m<module>\u001b[0;34m\u001b[0m\n\u001b[1;32m     17\u001b[0m \u001b[0mInput\u001b[0m \u001b[0;34m=\u001b[0m \u001b[0minput\u001b[0m\u001b[0;34m(\u001b[0m\u001b[0;34m)\u001b[0m\u001b[0;34m\u001b[0m\u001b[0;34m\u001b[0m\u001b[0m\n\u001b[1;32m     18\u001b[0m \u001b[0mOutput\u001b[0m \u001b[0;34m=\u001b[0m \u001b[0;34m\"\"\u001b[0m\u001b[0;34m\u001b[0m\u001b[0;34m\u001b[0m\u001b[0m\n\u001b[0;32m---> 19\u001b[0;31m \u001b[0mprint\u001b[0m\u001b[0;34m(\u001b[0m\u001b[0mpairStar\u001b[0m\u001b[0;34m(\u001b[0m\u001b[0mInput\u001b[0m\u001b[0;34m,\u001b[0m\u001b[0mOutput\u001b[0m\u001b[0;34m)\u001b[0m\u001b[0;34m)\u001b[0m\u001b[0;34m\u001b[0m\u001b[0;34m\u001b[0m\u001b[0m\n\u001b[0m",
            "\u001b[0;32m<ipython-input-49-973b63fd0bd8>\u001b[0m in \u001b[0;36mpairStar\u001b[0;34m(Input, Output, i)\u001b[0m\n\u001b[1;32m     14\u001b[0m         \u001b[0mOutput\u001b[0m \u001b[0;34m=\u001b[0m \u001b[0mOutput\u001b[0m \u001b[0;34m+\u001b[0m \u001b[0;34m'*'\u001b[0m\u001b[0;34m;\u001b[0m\u001b[0;34m\u001b[0m\u001b[0;34m\u001b[0m\u001b[0m\n\u001b[1;32m     15\u001b[0m \u001b[0;34m\u001b[0m\u001b[0m\n\u001b[0;32m---> 16\u001b[0;31m     \u001b[0mpairStar\u001b[0m\u001b[0;34m(\u001b[0m\u001b[0mInput\u001b[0m\u001b[0;34m,\u001b[0m \u001b[0mOutput\u001b[0m\u001b[0;34m)\u001b[0m\u001b[0;34m;\u001b[0m\u001b[0;34m\u001b[0m\u001b[0;34m\u001b[0m\u001b[0m\n\u001b[0m\u001b[1;32m     17\u001b[0m \u001b[0mInput\u001b[0m \u001b[0;34m=\u001b[0m \u001b[0minput\u001b[0m\u001b[0;34m(\u001b[0m\u001b[0;34m)\u001b[0m\u001b[0;34m\u001b[0m\u001b[0;34m\u001b[0m\u001b[0m\n\u001b[1;32m     18\u001b[0m \u001b[0mOutput\u001b[0m \u001b[0;34m=\u001b[0m \u001b[0;34m\"\"\u001b[0m\u001b[0;34m\u001b[0m\u001b[0;34m\u001b[0m\u001b[0m\n",
            "... last 1 frames repeated, from the frame below ...\n",
            "\u001b[0;32m<ipython-input-49-973b63fd0bd8>\u001b[0m in \u001b[0;36mpairStar\u001b[0;34m(Input, Output, i)\u001b[0m\n\u001b[1;32m     14\u001b[0m         \u001b[0mOutput\u001b[0m \u001b[0;34m=\u001b[0m \u001b[0mOutput\u001b[0m \u001b[0;34m+\u001b[0m \u001b[0;34m'*'\u001b[0m\u001b[0;34m;\u001b[0m\u001b[0;34m\u001b[0m\u001b[0;34m\u001b[0m\u001b[0m\n\u001b[1;32m     15\u001b[0m \u001b[0;34m\u001b[0m\u001b[0m\n\u001b[0;32m---> 16\u001b[0;31m     \u001b[0mpairStar\u001b[0m\u001b[0;34m(\u001b[0m\u001b[0mInput\u001b[0m\u001b[0;34m,\u001b[0m \u001b[0mOutput\u001b[0m\u001b[0;34m)\u001b[0m\u001b[0;34m;\u001b[0m\u001b[0;34m\u001b[0m\u001b[0;34m\u001b[0m\u001b[0m\n\u001b[0m\u001b[1;32m     17\u001b[0m \u001b[0mInput\u001b[0m \u001b[0;34m=\u001b[0m \u001b[0minput\u001b[0m\u001b[0;34m(\u001b[0m\u001b[0;34m)\u001b[0m\u001b[0;34m\u001b[0m\u001b[0;34m\u001b[0m\u001b[0m\n\u001b[1;32m     18\u001b[0m \u001b[0mOutput\u001b[0m \u001b[0;34m=\u001b[0m \u001b[0;34m\"\"\u001b[0m\u001b[0;34m\u001b[0m\u001b[0;34m\u001b[0m\u001b[0m\n",
            "\u001b[0;31mRecursionError\u001b[0m: maximum recursion depth exceeded while calling a Python object"
          ]
        }
      ]
    },
    {
      "cell_type": "code",
      "source": [
        "void pairStar(char input[]) {\n",
        "    int len = strlen(input);\n",
        "\n",
        "    if(input[0] == '\\0'){\n",
        "        return ;\n",
        "    }\n",
        "    if(input[0] == input[1]){\n",
        "\n",
        "        for(int i = len; i >= 2; i--){\n",
        "            \n",
        "       input[i] = input[i-1];\n",
        "        }\n",
        "        \n",
        "        input[2] = input[1];\n",
        "        input[1] = '*';\n",
        "    }\n",
        "    pairStar(input+1);\n",
        "    \n",
        "}"
      ],
      "metadata": {
        "colab": {
          "base_uri": "https://localhost:8080/",
          "height": 134
        },
        "id": "bQwxvfI6ELJA",
        "outputId": "eb4aeb8b-b666-43a5-9330-a1d2be6abce9"
      },
      "execution_count": null,
      "outputs": [
        {
          "output_type": "error",
          "ename": "SyntaxError",
          "evalue": "ignored",
          "traceback": [
            "\u001b[0;36m  File \u001b[0;32m\"<ipython-input-50-0762b56adc4a>\"\u001b[0;36m, line \u001b[0;32m1\u001b[0m\n\u001b[0;31m    void pairStar(char input[]) {\u001b[0m\n\u001b[0m                ^\u001b[0m\n\u001b[0;31mSyntaxError\u001b[0m\u001b[0;31m:\u001b[0m invalid syntax\n"
          ]
        }
      ]
    },
    {
      "cell_type": "code",
      "source": [
        "gvn_str='AlmaBetterr'\n",
        "new_str = \"\"\n",
        "itr = 0\n",
        "for itr in range(0, len(gvn_str)-1):\n",
        "  new_str = new_str + gvn_str[itr]\n",
        "  if(gvn_str[itr] == gvn_str[itr+1]):\n",
        "    new_str += '*'\n",
        "    print(new_str)"
      ],
      "metadata": {
        "colab": {
          "base_uri": "https://localhost:8080/"
        },
        "id": "6A8K1n07E9vz",
        "outputId": "42259e06-58c1-4e7f-dccc-6094c7b3c39e"
      },
      "execution_count": null,
      "outputs": [
        {
          "output_type": "stream",
          "name": "stdout",
          "text": [
            "AlmaBet*\n",
            "AlmaBet*ter*\n"
          ]
        }
      ]
    },
    {
      "cell_type": "code",
      "source": [
        "gvn_str = input()\n",
        "new_str = \"\"\n",
        "itr = 0\n",
        "for itr in range(0, len(gvn_str)-1):\n",
        "  new_str = new_str + gvn_str[itr]\n",
        "  if(gvn_str[itr] == gvn_str[itr+1]):\n",
        "    new_str += '*'\n",
        "print(new_str)"
      ],
      "metadata": {
        "colab": {
          "base_uri": "https://localhost:8080/"
        },
        "id": "h-LISC2rFwlk",
        "outputId": "1f024ce3-3a2e-448e-a75a-731867cfcf50"
      },
      "execution_count": null,
      "outputs": [
        {
          "output_type": "stream",
          "name": "stdout",
          "text": [
            "AlmaBetterr\n",
            "AlmaBet*ter*\n"
          ]
        }
      ]
    },
    {
      "cell_type": "code",
      "source": [
        "string='AlmaBetterr'\n",
        "new_str = \"\"\n",
        "itr = 0\n",
        "for itr in range(0, len(string)-1):\n",
        "  new_str = new_str + string[itr]\n",
        "  if(string[itr] == string[itr+1]):\n",
        "    new_str += '*'\n",
        "print(new_str)"
      ],
      "metadata": {
        "colab": {
          "base_uri": "https://localhost:8080/"
        },
        "id": "G7f47roSGM83",
        "outputId": "536a5dc4-8d78-4f28-d290-3c9a44c59354"
      },
      "execution_count": null,
      "outputs": [
        {
          "output_type": "stream",
          "name": "stdout",
          "text": [
            "AlmaBet*ter*\n"
          ]
        }
      ]
    },
    {
      "cell_type": "code",
      "source": [
        "\n",
        "lst= eval(input())\n",
        "index= eval(input())\n",
        "def sort_by_indexes(lst, indexes, reverse=False):\n",
        "  return [val for (_, val) in sorted(zip(indexes, lst), key=lambda x: \\\n",
        "          x[0], reverse=reverse)]\n",
        "print(sort_by_indexes(\"The given list after reordering according to the given indexes list :\"lst, \"The Index list after reordering:\",index))"
      ],
      "metadata": {
        "colab": {
          "base_uri": "https://localhost:8080/",
          "height": 134
        },
        "id": "lK9rL87-HVG9",
        "outputId": "9b3541e9-ec43-47da-f984-15dc4fa8c03b"
      },
      "execution_count": null,
      "outputs": [
        {
          "output_type": "error",
          "ename": "SyntaxError",
          "evalue": "ignored",
          "traceback": [
            "\u001b[0;36m  File \u001b[0;32m\"<ipython-input-59-17d683616bda>\"\u001b[0;36m, line \u001b[0;32m6\u001b[0m\n\u001b[0;31m    print(sort_by_indexes(\"The given list after reordering according to the given indexes list :\"lst, \"The Index list after reordering:\",index))\u001b[0m\n\u001b[0m                                                                                                   ^\u001b[0m\n\u001b[0;31mSyntaxError\u001b[0m\u001b[0;31m:\u001b[0m invalid syntax\n"
          ]
        }
      ]
    },
    {
      "cell_type": "code",
      "source": [
        "def sort_by_indexes(lst, indexes, reverse=False):\n",
        "  return [val for (_, val) in sorted(zip(indexes, lst), key=lambda x: \\\n",
        "          x[0], reverse=reverse)]\n",
        "\n",
        "lst1= eval(input())\n",
        "index1= eval(input())\n",
        "print(sort_by_indexes(lst1, index1))  \n",
        "print(sort_by_indexes(index1, True))\n"
      ],
      "metadata": {
        "colab": {
          "base_uri": "https://localhost:8080/",
          "height": 390
        },
        "id": "KulJx8wlHryZ",
        "outputId": "20487ede-7804-449a-8a90-d6ad04c09b36"
      },
      "execution_count": null,
      "outputs": [
        {
          "output_type": "stream",
          "name": "stdout",
          "text": [
            "[10, 20, 30, 40, 50, 60]\n",
            "[4, 3, 5, 0, 1, 2]\n",
            "[40, 50, 60, 20, 10, 30]\n"
          ]
        },
        {
          "output_type": "error",
          "ename": "TypeError",
          "evalue": "ignored",
          "traceback": [
            "\u001b[0;31m---------------------------------------------------------------------------\u001b[0m",
            "\u001b[0;31mTypeError\u001b[0m                                 Traceback (most recent call last)",
            "\u001b[0;32m<ipython-input-61-e3c71a4fe62b>\u001b[0m in \u001b[0;36m<module>\u001b[0;34m\u001b[0m\n\u001b[1;32m      6\u001b[0m \u001b[0mindex1\u001b[0m\u001b[0;34m=\u001b[0m \u001b[0meval\u001b[0m\u001b[0;34m(\u001b[0m\u001b[0minput\u001b[0m\u001b[0;34m(\u001b[0m\u001b[0;34m)\u001b[0m\u001b[0;34m)\u001b[0m\u001b[0;34m\u001b[0m\u001b[0;34m\u001b[0m\u001b[0m\n\u001b[1;32m      7\u001b[0m \u001b[0mprint\u001b[0m\u001b[0;34m(\u001b[0m\u001b[0msort_by_indexes\u001b[0m\u001b[0;34m(\u001b[0m\u001b[0mlst1\u001b[0m\u001b[0;34m,\u001b[0m \u001b[0mindex1\u001b[0m\u001b[0;34m)\u001b[0m\u001b[0;34m)\u001b[0m\u001b[0;34m\u001b[0m\u001b[0;34m\u001b[0m\u001b[0m\n\u001b[0;32m----> 8\u001b[0;31m \u001b[0mprint\u001b[0m\u001b[0;34m(\u001b[0m\u001b[0msort_by_indexes\u001b[0m\u001b[0;34m(\u001b[0m\u001b[0mindex1\u001b[0m\u001b[0;34m,\u001b[0m \u001b[0;32mTrue\u001b[0m\u001b[0;34m)\u001b[0m\u001b[0;34m)\u001b[0m\u001b[0;34m\u001b[0m\u001b[0;34m\u001b[0m\u001b[0m\n\u001b[0m",
            "\u001b[0;32m<ipython-input-61-e3c71a4fe62b>\u001b[0m in \u001b[0;36msort_by_indexes\u001b[0;34m(lst, indexes, reverse)\u001b[0m\n\u001b[1;32m      1\u001b[0m \u001b[0;32mdef\u001b[0m \u001b[0msort_by_indexes\u001b[0m\u001b[0;34m(\u001b[0m\u001b[0mlst\u001b[0m\u001b[0;34m,\u001b[0m \u001b[0mindexes\u001b[0m\u001b[0;34m,\u001b[0m \u001b[0mreverse\u001b[0m\u001b[0;34m=\u001b[0m\u001b[0;32mFalse\u001b[0m\u001b[0;34m)\u001b[0m\u001b[0;34m:\u001b[0m\u001b[0;34m\u001b[0m\u001b[0;34m\u001b[0m\u001b[0m\n\u001b[0;32m----> 2\u001b[0;31m   return [val for (_, val) in sorted(zip(indexes, lst), key=lambda x: \\\n\u001b[0m\u001b[1;32m      3\u001b[0m           x[0], reverse=reverse)]\n\u001b[1;32m      4\u001b[0m \u001b[0;34m\u001b[0m\u001b[0m\n\u001b[1;32m      5\u001b[0m \u001b[0mlst1\u001b[0m\u001b[0;34m=\u001b[0m \u001b[0meval\u001b[0m\u001b[0;34m(\u001b[0m\u001b[0minput\u001b[0m\u001b[0;34m(\u001b[0m\u001b[0;34m)\u001b[0m\u001b[0;34m)\u001b[0m\u001b[0;34m\u001b[0m\u001b[0;34m\u001b[0m\u001b[0m\n",
            "\u001b[0;31mTypeError\u001b[0m: zip argument #1 must support iteration"
          ]
        }
      ]
    },
    {
      "cell_type": "code",
      "source": [
        "lambda <- 0.01\n",
        "t <- 1787\n",
        "ppois(10,lambda*t)"
      ],
      "metadata": {
        "id": "T6Lk97pEIsrV",
        "colab": {
          "base_uri": "https://localhost:8080/",
          "height": 134
        },
        "outputId": "461d4265-3ee9-4cc3-f987-908f7acbd05c"
      },
      "execution_count": null,
      "outputs": [
        {
          "output_type": "error",
          "ename": "SyntaxError",
          "evalue": "ignored",
          "traceback": [
            "\u001b[0;36m  File \u001b[0;32m\"<ipython-input-1-f51e4eab4b6c>\"\u001b[0;36m, line \u001b[0;32m1\u001b[0m\n\u001b[0;31m    lambda <- 0.01\u001b[0m\n\u001b[0m           ^\u001b[0m\n\u001b[0;31mSyntaxError\u001b[0m\u001b[0;31m:\u001b[0m invalid syntax\n"
          ]
        }
      ]
    },
    {
      "cell_type": "code",
      "source": [
        "x <- 11\n",
        "t <- 1787\n",
        "rate <- 1/100\n",
        "pval <- ppois(10, lambda = rate * t)\n",
        "round(pval, 2)"
      ],
      "metadata": {
        "colab": {
          "base_uri": "https://localhost:8080/",
          "height": 134
        },
        "id": "PwyQkoL24G8Y",
        "outputId": "4d261e5a-5838-4419-d4cb-d064b3a776aa"
      },
      "execution_count": null,
      "outputs": [
        {
          "output_type": "error",
          "ename": "SyntaxError",
          "evalue": "ignored",
          "traceback": [
            "\u001b[0;36m  File \u001b[0;32m\"<ipython-input-2-9b5ddf6974d2>\"\u001b[0;36m, line \u001b[0;32m4\u001b[0m\n\u001b[0;31m    pval <- ppois(10, lambda = rate * t)\u001b[0m\n\u001b[0m                             ^\u001b[0m\n\u001b[0;31mSyntaxError\u001b[0m\u001b[0;31m:\u001b[0m invalid syntax\n"
          ]
        }
      ]
    },
    {
      "cell_type": "code",
      "source": [
        "import math\n",
        "rate <- 1/100\n",
        "errors <- 10\n",
        "days <- 1787\n",
        "test <-  poisson.test(errors, T = days, r = rate, alt=\"less\")\n",
        "round(test$p.value,2)"
      ],
      "metadata": {
        "colab": {
          "base_uri": "https://localhost:8080/",
          "height": 134
        },
        "id": "x6kba7qW4Xvo",
        "outputId": "6821e928-23e1-4c59-a312-8c65e7742052"
      },
      "execution_count": null,
      "outputs": [
        {
          "output_type": "error",
          "ename": "SyntaxError",
          "evalue": "ignored",
          "traceback": [
            "\u001b[0;36m  File \u001b[0;32m\"<ipython-input-4-a758a0863e56>\"\u001b[0;36m, line \u001b[0;32m6\u001b[0m\n\u001b[0;31m    round(test$p.value,2)\u001b[0m\n\u001b[0m              ^\u001b[0m\n\u001b[0;31mSyntaxError\u001b[0m\u001b[0;31m:\u001b[0m invalid syntax\n"
          ]
        }
      ]
    },
    {
      "cell_type": "code",
      "source": [
        "from scipy.stats import poisson\n",
        "poisson.cdf(10,1787/100)\n",
        "0.032371526287371055"
      ],
      "metadata": {
        "id": "sq7-d2FK4-rK",
        "outputId": "5eda4d2a-39e1-460b-f967-2ad163394a4d",
        "colab": {
          "base_uri": "https://localhost:8080/"
        }
      },
      "execution_count": null,
      "outputs": [
        {
          "output_type": "execute_result",
          "data": {
            "text/plain": [
              "0.032371526287371055"
            ]
          },
          "metadata": {},
          "execution_count": 5
        }
      ]
    },
    {
      "cell_type": "code",
      "source": [
        "num = [1,2,3,4]\n",
        "print(['emp{0}'.format(i) for i in  num])"
      ],
      "metadata": {
        "colab": {
          "base_uri": "https://localhost:8080/"
        },
        "id": "vKT7-_zcDKGN",
        "outputId": "4946599c-c2ae-4207-8390-1d6828873b6e"
      },
      "execution_count": null,
      "outputs": [
        {
          "output_type": "stream",
          "name": "stdout",
          "text": [
            "['emp1', 'emp2', 'emp3', 'emp4']\n"
          ]
        }
      ]
    },
    {
      "cell_type": "code",
      "source": [
        "def test(lst):\n",
        "    result = sorted(lst, key=lambda x: not x) \n",
        "    return result\n",
        "nums = [3,4,0,0,0,6,2,0,6,7,6,0,0,0,9,10,7,4,4,5,3,0,0,2,9,7,1]\n",
        "print(\"\\nOriginal list:\")\n",
        "print(nums)\n",
        "print(\"\\nMove all zero digits to end of the said list of numbers:\")\n",
        "print(test(nums)) \n"
      ],
      "metadata": {
        "colab": {
          "base_uri": "https://localhost:8080/"
        },
        "id": "j45TUchqDgkz",
        "outputId": "f8650b5d-418c-449a-bde1-d92471dc070a"
      },
      "execution_count": null,
      "outputs": [
        {
          "output_type": "stream",
          "name": "stdout",
          "text": [
            "\n",
            "Original list:\n",
            "[3, 4, 0, 0, 0, 6, 2, 0, 6, 7, 6, 0, 0, 0, 9, 10, 7, 4, 4, 5, 3, 0, 0, 2, 9, 7, 1]\n",
            "\n",
            "Move all zero digits to end of the said list of numbers:\n",
            "[3, 4, 6, 2, 6, 7, 6, 9, 10, 7, 4, 4, 5, 3, 2, 9, 7, 1, 0, 0, 0, 0, 0, 0, 0, 0, 0]\n"
          ]
        }
      ]
    },
    {
      "cell_type": "code",
      "source": [
        "def test(lst):\n",
        "    result = sorted(lst, key=lambda x: not x) \n",
        "    return result\n",
        "nums = eval(input())\n",
        "print(test(nums))    "
      ],
      "metadata": {
        "colab": {
          "base_uri": "https://localhost:8080/"
        },
        "id": "KV_EGoFdDsTv",
        "outputId": "6df8d52d-e0c2-4290-e67c-ce13cfbb5a46"
      },
      "execution_count": null,
      "outputs": [
        {
          "output_type": "stream",
          "name": "stdout",
          "text": [
            "[3, 4, 0, 0, 0, 6, 2, 0, 6, 7, 6, 0, 0, 0, 9, 10, 7, 4, 4, 5, 3, 0, 0, 2, 9, 7, 1]\n",
            "[3, 4, 6, 2, 6, 7, 6, 9, 10, 7, 4, 4, 5, 3, 2, 9, 7, 1, 0, 0, 0, 0, 0, 0, 0, 0, 0]\n"
          ]
        }
      ]
    },
    {
      "cell_type": "code",
      "source": [
        "import itertools\n",
        "num = [[10, 20], [40], [30, 56, 25], [10, 20], [33], [40]]\n",
        "print(\"Original List\", num)\n",
        "num.sort()\n",
        "new_num = list(num for num,_ in itertools.groupby(num))\n",
        "print(\"New List\", new_num)"
      ],
      "metadata": {
        "id": "S1lyunaTD4DR",
        "colab": {
          "base_uri": "https://localhost:8080/"
        },
        "outputId": "360c7936-0fa9-40df-c15b-50ca9baa2418"
      },
      "execution_count": null,
      "outputs": [
        {
          "output_type": "stream",
          "name": "stdout",
          "text": [
            "Original List [[10, 20], [40], [30, 56, 25], [10, 20], [33], [40]]\n",
            "New List [[10, 20], [30, 56, 25], [33], [40]]\n"
          ]
        }
      ]
    },
    {
      "cell_type": "code",
      "source": [
        "lst = eval(input())\n",
        "lst.sort()\n",
        "new_num = list(lst for lst,_ in itertools.groupby(lst))\n",
        "a=new_num.pop()\n",
        "new_num.insert(1,a)\n",
        "print(new_num)\n",
        "\n"
      ],
      "metadata": {
        "colab": {
          "base_uri": "https://localhost:8080/"
        },
        "id": "LRLMRTazEqPZ",
        "outputId": "f3c89dee-07c9-48f2-810f-b3ed255cf923"
      },
      "execution_count": null,
      "outputs": [
        {
          "output_type": "stream",
          "name": "stdout",
          "text": [
            "[[10, 20], [40], [30, 56, 25], [10, 20], [33], [40]]\n",
            "[[10, 20], [40], [30, 56, 25], [33]]\n"
          ]
        }
      ]
    },
    {
      "cell_type": "code",
      "source": [
        "nums = [22.4, 4.0, -16.22, -9.10, 11.00, -12.22, 14.20, -5.20, 17.50]\n",
        "print(\"Original list: \", nums)\n",
        "print(\"Result:\")\n",
        "lenght=len(nums)\n",
        "print(sum(list(map(round,nums))* lenght)) "
      ],
      "metadata": {
        "colab": {
          "base_uri": "https://localhost:8080/"
        },
        "id": "hTZzLFoDFCy6",
        "outputId": "4b7a0f48-b68d-4ab4-e3a6-2a36531ccfb4"
      },
      "execution_count": null,
      "outputs": [
        {
          "output_type": "stream",
          "name": "stdout",
          "text": [
            "Original list:  [22.4, 4.0, -16.22, -9.1, 11.0, -12.22, 14.2, -5.2, 17.5]\n",
            "Result:\n",
            "243\n"
          ]
        }
      ]
    },
    {
      "cell_type": "code",
      "source": [
        "lst= eval(input())\n",
        "lenght=len(lst)\n",
        "print(sum(list(map(round,lst))* lenght)) \n"
      ],
      "metadata": {
        "colab": {
          "base_uri": "https://localhost:8080/"
        },
        "id": "TTuvmr0XHg68",
        "outputId": "6f33d81d-466f-4ab0-b81a-b0ecce55093f"
      },
      "execution_count": null,
      "outputs": [
        {
          "output_type": "stream",
          "name": "stdout",
          "text": [
            "[22.4, 4.0, -16.22, -9.10, 11.00, -12.22, 14.20, -5.20, 17.50]\n",
            "243\n"
          ]
        }
      ]
    },
    {
      "cell_type": "code",
      "source": [
        "n=int(input())\n",
        "for i in range(n):\n",
        "    for j in range(i):\n",
        "        print ('*.', end=\"\")\n",
        "    print('')\n",
        "\n",
        "for i in range(n,0,-1):\n",
        "    for j in range(i):\n",
        "        print('*.', end=\"\")\n",
        "    print('')"
      ],
      "metadata": {
        "colab": {
          "base_uri": "https://localhost:8080/"
        },
        "id": "CvkqjSnZHuu9",
        "outputId": "93b90f5e-963f-40f1-ffab-6b75ca3c3d73"
      },
      "execution_count": null,
      "outputs": [
        {
          "output_type": "stream",
          "name": "stdout",
          "text": [
            "5\n",
            "\n",
            "*.\n",
            "*.*.\n",
            "*.*.*.\n",
            "*.*.*.*.\n",
            "*.*.*.*.*.\n",
            "*.*.*.*.\n",
            "*.*.*.\n",
            "*.*.\n",
            "*.\n"
          ]
        }
      ]
    },
    {
      "cell_type": "code",
      "source": [
        "r=int(input())\n",
        "c=0\n",
        "for i in range(1,r+1):\n",
        "    for j in range(1,(r-i)+1):\n",
        "        print(end=\" \")\n",
        "    while c!=(2*i-1):\n",
        "        print(\"*\",end=\"\")\n",
        "        c+=1\n",
        "    c=0\n",
        "    print()"
      ],
      "metadata": {
        "colab": {
          "base_uri": "https://localhost:8080/"
        },
        "id": "lL7XkfpRJ1xj",
        "outputId": "dc7962e8-4ae9-4d9d-f209-dcb130163608"
      },
      "execution_count": null,
      "outputs": [
        {
          "output_type": "stream",
          "name": "stdout",
          "text": [
            "5\n",
            "    *\n",
            "   ***\n",
            "  *****\n",
            " *******\n",
            "*********\n"
          ]
        }
      ]
    },
    {
      "cell_type": "code",
      "source": [
        "def sort_by_indexes(lst, indexes, reverse=False):\n",
        "  return [val for (_, val) in sorted(zip(indexes, lst), key=lambda x: \\\n",
        "          x[0], reverse=reverse)]\n",
        "lst= eval(input())\n",
        "index= eval(input())\n",
        "print('The given list after reordering according to the given indexes list :')\n",
        "print(sort_by_indexes(lst,index)) \n",
        "print('The Index list after reordering:')\n",
        "print(sorted(index)) "
      ],
      "metadata": {
        "id": "VPv14o89Lg-R",
        "colab": {
          "base_uri": "https://localhost:8080/"
        },
        "outputId": "42dba372-4173-4742-de92-f89536600264"
      },
      "execution_count": null,
      "outputs": [
        {
          "output_type": "stream",
          "name": "stdout",
          "text": [
            "10, 20, 30, 40, 50, 60\n",
            "4, 3, 5, 0, 1, 2\n",
            "The given list after reordering according to the given indexes list :\n",
            "[40, 50, 60, 20, 10, 30]\n",
            "The Index list after reordering:\n",
            "[0, 1, 2, 3, 4, 5]\n"
          ]
        }
      ]
    },
    {
      "cell_type": "code",
      "source": [
        "MyList = [\"b\", \"a\", \"a\", \"c\", \"b\", \"a\", \"c\",'a']\n",
        "count=0\n",
        "for i in MyList:\n",
        "    if i == 'a': \n",
        "        count = count + 1  \n",
        "print (\"the number of a in MyList is :\", count)"
      ],
      "metadata": {
        "colab": {
          "base_uri": "https://localhost:8080/"
        },
        "id": "4CBxa96TBV23",
        "outputId": "d0a8a13c-184a-406a-a0e3-d4f1348b8edc"
      },
      "execution_count": null,
      "outputs": [
        {
          "output_type": "stream",
          "name": "stdout",
          "text": [
            "the number of a in MyList is : 4\n"
          ]
        }
      ]
    },
    {
      "cell_type": "code",
      "source": [
        "num_of_elements = int(input())\n",
        "arr=[Enter_the_element_between_0_to_4=int(input()),\n",
        "Enter_the_element_between_0_to_4=int(input()),\n",
        "Enter_the_element_between_0_to_4=int(input()),\n",
        "Enter_the_element_between_0_to_4=int(input()),\n",
        "Enter_the_element_between_0_to_4=int(input())]\n",
        "for i in range(0, len(arr)):\n",
        "    for j in range(i+1, len(arr)):\n",
        "       if(arr[i] == arr[j]):\n",
        "print(arr[j]);  \n"
      ],
      "metadata": {
        "colab": {
          "base_uri": "https://localhost:8080/",
          "height": 134
        },
        "id": "pYwXwzjRJY7l",
        "outputId": "035fdfe4-1416-43fa-be74-b260c51cde0a"
      },
      "execution_count": null,
      "outputs": [
        {
          "output_type": "error",
          "ename": "SyntaxError",
          "evalue": "ignored",
          "traceback": [
            "\u001b[0;36m  File \u001b[0;32m\"<ipython-input-24-628a7e4d5364>\"\u001b[0;36m, line \u001b[0;32m2\u001b[0m\n\u001b[0;31m    arr=[Enter_the_element_between_0_to_4=int(input()),\u001b[0m\n\u001b[0m                                         ^\u001b[0m\n\u001b[0;31mSyntaxError\u001b[0m\u001b[0;31m:\u001b[0m invalid syntax\n"
          ]
        }
      ]
    },
    {
      "cell_type": "code",
      "source": [
        "for i in range(0, len(arr)):\n",
        "for j in range(i+1, len(arr)):\n",
        "if(arr[i] == arr[j]):\n",
        "print(arr[j]);"
      ],
      "metadata": {
        "id": "hwnsL4JuS3BT"
      },
      "execution_count": null,
      "outputs": []
    },
    {
      "cell_type": "code",
      "source": [
        "lis = [1, 2, 1, 2, 3, 4, 5, 1, 1, 2, 5, 6, 7, 8, 9, 9]\n",
        " \n",
        "uniqueList = []\n",
        "duplicateList = []\n",
        " \n",
        "for i in lis:\n",
        "    if i not in uniqueList:\n",
        "        uniqueList.append(i)\n",
        "    elif i not in duplicateList:\n",
        "        duplicateList.append(i)\n",
        " \n",
        "print(duplicateList)"
      ],
      "metadata": {
        "id": "34Y-WxQwKyGG"
      },
      "execution_count": null,
      "outputs": []
    },
    {
      "cell_type": "code",
      "source": [
        "num_of_elements = int(input())\n",
        "a=int(input())\n",
        "b=int(input())\n",
        "c=int(input())\n",
        "d=int(input())\n",
        "e=int(input())\n",
        "arr=[a,b,c,d,e]\n",
        "for i in range(0, len(arr)):\n",
        "  for j in range(i+1, len(arr)):\n",
        "    if(arr[i] == arr[j]):\n",
        "print(arr[j])"
      ],
      "metadata": {
        "colab": {
          "base_uri": "https://localhost:8080/",
          "height": 134
        },
        "id": "cgrPmLb9ST2k",
        "outputId": "533104ac-3c91-4660-eee6-3d49cbeb9a71"
      },
      "execution_count": null,
      "outputs": [
        {
          "output_type": "error",
          "ename": "IndentationError",
          "evalue": "ignored",
          "traceback": [
            "\u001b[0;36m  File \u001b[0;32m\"<ipython-input-25-8ecfb747b956>\"\u001b[0;36m, line \u001b[0;32m11\u001b[0m\n\u001b[0;31m    print(arr[j])\u001b[0m\n\u001b[0m                 ^\u001b[0m\n\u001b[0;31mIndentationError\u001b[0m\u001b[0;31m:\u001b[0m expected an indented block\n"
          ]
        }
      ]
    },
    {
      "cell_type": "code",
      "source": [
        "def Remove(duplicate):\n",
        "    final_list = []\n",
        "    for num in duplicate:\n",
        "        if num not in final_list:\n",
        "            final_list.append(num)\n",
        "    return final_list\n",
        "     \n",
        "# Driver Code\n",
        "duplicate = [2, 4, 10, 20, 5, 2, 20, 4]\n",
        "print(Remove(duplicate))ca"
      ],
      "metadata": {
        "id": "IW3mVteJVQ9j"
      },
      "execution_count": null,
      "outputs": []
    },
    {
      "cell_type": "code",
      "source": [
        "def test(strs, prefix):\n",
        "     return [s for s in strs if s.startswith(prefix)]\n",
        "strs =  eval(input())\n",
        "prefix = input()\n",
        "print('Strings in the said list starting with a given prefix:')\n",
        "print(test(strs, prefix))\n",
        "\n"
      ],
      "metadata": {
        "colab": {
          "base_uri": "https://localhost:8080/"
        },
        "id": "EYCtjDeLWJbM",
        "outputId": "cdeb7e5d-0e2f-43f4-a07d-5f8254a50c51"
      },
      "execution_count": null,
      "outputs": [
        {
          "output_type": "stream",
          "name": "stdout",
          "text": [
            " ['cat', 'car', 'fear', 'center']\n",
            "ca\n",
            "Strings in the said list starting with a given prefix:\n",
            "['cat', 'car']\n"
          ]
        }
      ]
    },
    {
      "cell_type": "code",
      "source": [
        "def test(nums):\n",
        "    return \"Increasing.\" if all(nums[i] < nums[i + 1] for i in range(len(nums) - 1)) else \\\n",
        "        \"Decreasing.\" if all(nums[i + 1] < nums[i] for i in range(len(nums) - 1)) else \\\n",
        "        \"Not a monotonic sequence!\"\n",
        "n= eval(input())\n",
        "print(test(n))"
      ],
      "metadata": {
        "colab": {
          "base_uri": "https://localhost:8080/"
        },
        "id": "lG289BHmWN0V",
        "outputId": "d3ff6225-69a4-4b84-97b1-2a12926b8237"
      },
      "execution_count": null,
      "outputs": [
        {
          "output_type": "stream",
          "name": "stdout",
          "text": [
            "[1,2,3,4,5,6]\n",
            "Increasing.\n"
          ]
        }
      ]
    },
    {
      "cell_type": "code",
      "source": [
        "def test(a,b):\n",
        "    r = range(a, b)\n",
        "    if len(r) == 0:\n",
        "        return \"-1\"\n",
        "    return bin(round(sum(r) / len(r)))\n",
        "a = int(input())\n",
        "b = int(input())\n",
        "print(test(a, b))    "
      ],
      "metadata": {
        "colab": {
          "base_uri": "https://localhost:8080/"
        },
        "id": "v0NxPZ-sXK6g",
        "outputId": "0bc6ff6d-4664-43c7-9285-44d578b63f84"
      },
      "execution_count": null,
      "outputs": [
        {
          "output_type": "stream",
          "name": "stdout",
          "text": [
            "4\n",
            "7\n",
            "0b101\n"
          ]
        }
      ]
    },
    {
      "cell_type": "code",
      "source": [
        "def test(s):\n",
        "    for i in range(len(s) - 2):\n",
        "        if s[i] == s[i + 1]:\n",
        "            return [i, i + 1]\n",
        "        if s[i] == s[i + 2]:\n",
        "            return [i, i + 2] \n",
        "n =input()     \n",
        "print(test(n))       \n"
      ],
      "metadata": {
        "colab": {
          "base_uri": "https://localhost:8080/"
        },
        "id": "0CjF5yTkYSZy",
        "outputId": "460fcdc3-b1c6-4a5d-994f-837d683688f1"
      },
      "execution_count": null,
      "outputs": [
        {
          "output_type": "stream",
          "name": "stdout",
          "text": [
            "Python\n",
            "None\n"
          ]
        }
      ]
    },
    {
      "cell_type": "code",
      "source": [
        "def test(n):\n",
        "    ans = []\n",
        "    for i in range(10 ** (n - 1), 10 ** n):\n",
        "        assert len(str(i)) == n\n",
        "        if str(i).startswith(\"2\") or str(i).endswith(\"2\"):\n",
        "            ans.append(i)\n",
        "    return ans\n",
        "n = int(input())\n",
        "print(test(n))       "
      ],
      "metadata": {
        "colab": {
          "base_uri": "https://localhost:8080/"
        },
        "id": "9oLUiLETZWuv",
        "outputId": "ead5f2fd-0975-46f7-fbb5-58f80241b2d1"
      },
      "execution_count": null,
      "outputs": [
        {
          "output_type": "stream",
          "name": "stdout",
          "text": [
            "1\n",
            "[2]\n"
          ]
        }
      ]
    },
    {
      "cell_type": "code",
      "source": [
        "def test(nums, sep):\n",
        "    ans = [sep] * (2 * len(nums) - 1)\n",
        "    ans[::2] = nums\n",
        "    return ans \n",
        "lst=eval(input())\n",
        "n = int(input())\n",
        "print(test(lst,n))    "
      ],
      "metadata": {
        "colab": {
          "base_uri": "https://localhost:8080/"
        },
        "id": "GHkhVfjlZgle",
        "outputId": "d30a0d30-0929-47bb-d9f9-9ba343d361fb"
      },
      "execution_count": null,
      "outputs": [
        {
          "output_type": "stream",
          "name": "stdout",
          "text": [
            "[12, -7, 3, -89, 14, 88, -78, -1, 2, 7]\n",
            "6\n",
            "[12, 6, -7, 6, 3, 6, -89, 6, 14, 6, 88, 6, -78, 6, -1, 6, 2, 6, 7]\n"
          ]
        }
      ]
    },
    {
      "cell_type": "code",
      "source": [
        "def test(s):\n",
        "    cons = \"bcdfghjklmnpqrstvwxz\"\n",
        "    vows = \"aeiou\"\n",
        "    return next(s[i - 1:i + 2] for i in range(1, len(s) - 1)\n",
        "                if s[i].lower() in vows and s[i - 1].lower() in cons and s[i + 1].lower() in cons)\n",
        "\n",
        "n = input()\n",
        "print(test(n))    "
      ],
      "metadata": {
        "colab": {
          "base_uri": "https://localhost:8080/"
        },
        "id": "u8IK1l_ZaQwr",
        "outputId": "43691c9e-ad3a-4c21-e50c-723cc860ad57"
      },
      "execution_count": null,
      "outputs": [
        {
          "output_type": "stream",
          "name": "stdout",
          "text": [
            "Hello\n",
            "Hel\n"
          ]
        }
      ]
    },
    {
      "cell_type": "code",
      "source": [
        "def three_Sum(num):\n",
        "    if len(num)<3: return []\n",
        "    num.sort()\n",
        "    result=[]\n",
        "    for i in range(len(num)-2):\n",
        "        left=i+1\n",
        "        right=len(num)-1\n",
        "        if i!=0 and num[i]==num[i-1]:continue\n",
        "        while left<right:\n",
        "            if num[left]+num[right]==-num[i]:\n",
        "                result.append([num[i],num[left],num[right]])\n",
        "                left=left+1\n",
        "                right=right-1\n",
        "                while num[left]==num[left-1] and left<right:left=left+1\n",
        "                while num[right]==num[right+1] and left<right: right=right-1\n",
        "            elif num[left]+num[right]<-num[i]:\n",
        "                left=left+1\n",
        "            else:\n",
        "                right=right-1\n",
        "    return result\n",
        "n = eval(input())  \n",
        "print(three_Sum(n))  "
      ],
      "metadata": {
        "colab": {
          "base_uri": "https://localhost:8080/"
        },
        "id": "erlGE-Ucaz9x",
        "outputId": "20da9392-b05b-4f51-f619-4403a6b583d4"
      },
      "execution_count": null,
      "outputs": [
        {
          "output_type": "stream",
          "name": "stdout",
          "text": [
            "[-1,0,1,2,-1,-4]\n",
            "[[-1, -1, 2], [-1, 0, 1]]\n"
          ]
        }
      ]
    },
    {
      "cell_type": "code",
      "source": [
        "def test(nums):\n",
        "    inv = {n: i for i, n in enumerate(nums)}  # note that later duplicates will override earlier entries\n",
        "    for i, n in enumerate(nums):\n",
        "        if inv[n] == i:\n",
        "            del inv[n]\n",
        "        if any((-m - n) in inv for m in nums[:i]):  # found solution!\n",
        "            j, m = next((j, m) for j, m in enumerate(nums) if (-m - n) in inv)\n",
        "            k = inv[-m - n]\n",
        "            return sorted([i, j, k])\n",
        "n = eval(input())\n",
        "print(test(n))            "
      ],
      "metadata": {
        "colab": {
          "base_uri": "https://localhost:8080/"
        },
        "id": "fAlIKJ-Nbewl",
        "outputId": "97e2ec24-1126-4892-f682-4ebc4797a03d"
      },
      "execution_count": null,
      "outputs": [
        {
          "output_type": "stream",
          "name": "stdout",
          "text": [
            "[12, -7, 3, -89, 14, 4, -78, -1, 2, 7]\n",
            "[1, 2, 5]\n"
          ]
        }
      ]
    },
    {
      "cell_type": "code",
      "source": [
        "lst= eval(input())\n",
        "lenght=len(lst)\n",
        "print(sum(list(map(round,lst))* lenght))"
      ],
      "metadata": {
        "id": "1XddtwRmb9SK",
        "colab": {
          "base_uri": "https://localhost:8080/"
        },
        "outputId": "eb9119fd-d226-4e44-9fe8-23d53e73ff7d"
      },
      "execution_count": null,
      "outputs": [
        {
          "output_type": "stream",
          "name": "stdout",
          "text": [
            "[22.4, 4.0, -16.22, -9.10, 11.00, -12.22, 14.20, -5.20, 17.50]\n",
            "243\n"
          ]
        }
      ]
    },
    {
      "cell_type": "code",
      "source": [
        "n=5\n",
        "for i in range(n):\n",
        "  print('*.'*(i+1))\n",
        "for i in range(n-2,-1,-1):\n",
        "  print('*.'*(i+1))"
      ],
      "metadata": {
        "colab": {
          "base_uri": "https://localhost:8080/"
        },
        "id": "aOH2I_lv33-B",
        "outputId": "5f388ae7-de4c-4a07-c8de-8e71435cc743"
      },
      "execution_count": null,
      "outputs": [
        {
          "output_type": "stream",
          "name": "stdout",
          "text": [
            "*.\n",
            "*.*.\n",
            "*.*.*.\n",
            "*.*.*.*.\n",
            "*.*.*.*.*.\n",
            "*.*.*.*.\n",
            "*.*.*.\n",
            "*.*.\n",
            "*.\n"
          ]
        }
      ]
    },
    {
      "cell_type": "code",
      "source": [
        "n=5\n",
        "for i in range(n):\n",
        "  print('*.'*(i+1))"
      ],
      "metadata": {
        "colab": {
          "base_uri": "https://localhost:8080/"
        },
        "id": "-t3SDPpe-8Pz",
        "outputId": "709f4af3-a385-44c1-9ccf-6b8d8f7127f8"
      },
      "execution_count": null,
      "outputs": [
        {
          "output_type": "stream",
          "name": "stdout",
          "text": [
            "*.\n",
            "*.*.\n",
            "*.*.*.\n",
            "*.*.*.*.\n",
            "*.*.*.*.*.\n"
          ]
        }
      ]
    },
    {
      "cell_type": "code",
      "source": [
        "n=5\n",
        "for i in range(n-1,-1,-1):\n",
        "  print('*.'*(i+1))"
      ],
      "metadata": {
        "colab": {
          "base_uri": "https://localhost:8080/"
        },
        "id": "IQfCrX4M_CPn",
        "outputId": "f2003beb-afbc-4466-cc12-5a08bbba3308"
      },
      "execution_count": null,
      "outputs": [
        {
          "output_type": "stream",
          "name": "stdout",
          "text": [
            "*.*.*.*.*.\n",
            "*.*.*.*.\n",
            "*.*.*.\n",
            "*.*.\n",
            "*.\n"
          ]
        }
      ]
    },
    {
      "cell_type": "code",
      "source": [
        "import numpy as np\n",
        "a = np.random.uniform(1,50, 20)\n",
        "a\n",
        "print(\"Replace all elements of the said array with 30 which are greater than 30\")\n",
        "x[x > 30] = 30"
      ],
      "metadata": {
        "colab": {
          "base_uri": "https://localhost:8080/",
          "height": 226
        },
        "id": "E0bEOREw3ANz",
        "outputId": "407344ff-82bf-4502-bdf0-39603c7f2066"
      },
      "execution_count": null,
      "outputs": [
        {
          "output_type": "stream",
          "name": "stdout",
          "text": [
            "Replace all elements of the said array with 30 which are greater than 30\n"
          ]
        },
        {
          "output_type": "error",
          "ename": "NameError",
          "evalue": "ignored",
          "traceback": [
            "\u001b[0;31m---------------------------------------------------------------------------\u001b[0m",
            "\u001b[0;31mNameError\u001b[0m                                 Traceback (most recent call last)",
            "\u001b[0;32m<ipython-input-1-21234d1b1680>\u001b[0m in \u001b[0;36m<module>\u001b[0;34m\u001b[0m\n\u001b[1;32m      3\u001b[0m \u001b[0ma\u001b[0m\u001b[0;34m\u001b[0m\u001b[0;34m\u001b[0m\u001b[0m\n\u001b[1;32m      4\u001b[0m \u001b[0mprint\u001b[0m\u001b[0;34m(\u001b[0m\u001b[0;34m\"Replace all elements of the said array with 30 which are greater than 30\"\u001b[0m\u001b[0;34m)\u001b[0m\u001b[0;34m\u001b[0m\u001b[0;34m\u001b[0m\u001b[0m\n\u001b[0;32m----> 5\u001b[0;31m \u001b[0mx\u001b[0m\u001b[0;34m[\u001b[0m\u001b[0mx\u001b[0m \u001b[0;34m>\u001b[0m \u001b[0;36m30\u001b[0m\u001b[0;34m]\u001b[0m \u001b[0;34m=\u001b[0m \u001b[0;36m30\u001b[0m\u001b[0;34m\u001b[0m\u001b[0;34m\u001b[0m\u001b[0m\n\u001b[0m",
            "\u001b[0;31mNameError\u001b[0m: name 'x' is not defined"
          ]
        }
      ]
    },
    {
      "cell_type": "code",
      "source": [
        "def test(n):\n",
        "    ans = []\n",
        "    for i in range(10 ** (n - 1), 10 ** n):\n",
        "        assert len(str(i)) == n\n",
        "        if str(i).startswith(\"2\") or str(i).endswith(\"2\"):\n",
        "            ans.append(i)\n",
        "    return ans\n",
        "n = int(input())\n",
        "print(test(n)) "
      ],
      "metadata": {
        "id": "UMpVUN6e9DrW",
        "outputId": "37e35157-bd53-49e6-f664-5530c76da752",
        "colab": {
          "base_uri": "https://localhost:8080/"
        }
      },
      "execution_count": null,
      "outputs": [
        {
          "output_type": "stream",
          "name": "stdout",
          "text": [
            "1\n",
            "[2]\n"
          ]
        }
      ]
    },
    {
      "cell_type": "code",
      "source": [
        "row = 5\n",
        "col = 5\n",
        "\n",
        "print(\"Hollow rectangular pattern is: \")\n",
        "for i in range(1,row+1):\n",
        "    for j in range(1,col+1):\n",
        "        if i==1 or i==row or j==1 or j==col:\n",
        "            print(\"0.\", end=\"\")\n",
        "        else:\n",
        "            print(\"  \", end=\"\")\n",
        "    print()"
      ],
      "metadata": {
        "id": "hGBefknK9KVU",
        "colab": {
          "base_uri": "https://localhost:8080/"
        },
        "outputId": "fae6a3ea-b395-4ec0-8cec-9bbc1b28c455"
      },
      "execution_count": null,
      "outputs": [
        {
          "output_type": "stream",
          "name": "stdout",
          "text": [
            "Hollow rectangular pattern is: \n",
            "0.0.0.0.0.\n",
            "0.      0.\n",
            "0.      0.\n",
            "0.      0.\n",
            "0.0.0.0.0.\n"
          ]
        }
      ]
    },
    {
      "cell_type": "code",
      "source": [
        "rows = 5\n",
        "columns = 5\n",
        "\n",
        "# Loop through number of rows\n",
        "for i in range(rows):\n",
        "    \n",
        "    # Loop through number of columns\n",
        "    for j in range(columns):\n",
        "        \n",
        "        # Printing Pattern\n",
        "        if(i == 0 or i == rows - 1 or j == 0 or j == columns-1):\n",
        "            print('0.', end = '')\n",
        "        else:\n",
        "            print('  ', end = '')\n",
        "    print()\n",
        "\n"
      ],
      "metadata": {
        "colab": {
          "base_uri": "https://localhost:8080/"
        },
        "id": "pMlNnMKHDhRM",
        "outputId": "72e43054-2aa9-47d0-8fb1-2a2b90973433"
      },
      "execution_count": null,
      "outputs": [
        {
          "output_type": "stream",
          "name": "stdout",
          "text": [
            "0.0.0.0.0.\n",
            "0.      0.\n",
            "0.      0.\n",
            "0.      0.\n",
            "0.0.0.0.0.\n"
          ]
        }
      ]
    },
    {
      "cell_type": "code",
      "source": [
        "l=[2,2,3,2,2]\n",
        "l1=[]\n",
        "for i in l:\n",
        "    if i not in l1:\n",
        "        l1.append(i)\n",
        "    else:\n",
        "        print(i,end=' ')"
      ],
      "metadata": {
        "colab": {
          "base_uri": "https://localhost:8080/"
        },
        "id": "XvWHDQtG7kJi",
        "outputId": "ee4c5f96-3f1b-40eb-ba17-37160621e812"
      },
      "execution_count": null,
      "outputs": [
        {
          "output_type": "stream",
          "name": "stdout",
          "text": [
            "2 2 2 "
          ]
        }
      ]
    },
    {
      "cell_type": "code",
      "source": [
        "def count_dups(nums):\n",
        "    element = []\n",
        "    freque = []\n",
        "    if not nums:\n",
        "        return element\n",
        "    running_count = 1\n",
        "    for i in range(len(nums)-1):\n",
        "        if nums[i] == nums[i+1]:\n",
        "            running_count += 1\n",
        "        else:\n",
        "            freque.append(running_count)\n",
        "            element.append(nums[i])\n",
        "            running_count = 1\n",
        "    freque.append(running_count)\n",
        "    element.append(nums[i+1])\n",
        "    return element,freque\n",
        "\n",
        "nums =[5, 2, 2, 3, 2, 2]\n",
        "print(f'{nums} is repeated {count_dups(nums)} times')"
      ],
      "metadata": {
        "colab": {
          "base_uri": "https://localhost:8080/"
        },
        "id": "KjsKpJIf92p_",
        "outputId": "485acd5f-4a01-4b80-c4b6-c20da0d8b29c"
      },
      "execution_count": null,
      "outputs": [
        {
          "output_type": "stream",
          "name": "stdout",
          "text": [
            "[5, 2, 2, 3, 2, 2] is repeated ([5, 2, 3, 2], [1, 2, 1, 2]) times\n"
          ]
        }
      ]
    },
    {
      "cell_type": "code",
      "source": [
        "import numpy as np\n",
        "a = np.array([1, 3, 7, 1, 2, 6, 0, 1])\n",
        "def find_peaks(arr):\n",
        "  ll=list(arr)\n",
        "  nn=np.array(0)\n",
        "  lstt=[]\n",
        "  for i in range(1,len(ll)-1):\n",
        "    if ll[i-1]<ll[i] and ll[i+1]<ll[i]:\n",
        "          lstt.append(i)\n",
        "  return np.array(lstt)\n",
        "\n",
        "  \n",
        "find_peaks(a)\n",
        "\n",
        "\n"
      ],
      "metadata": {
        "id": "j2mX2ZAw-nhZ",
        "outputId": "b357fb2a-109d-40a3-87d0-c867f3d9bc5b",
        "colab": {
          "base_uri": "https://localhost:8080/"
        }
      },
      "execution_count": null,
      "outputs": [
        {
          "output_type": "execute_result",
          "data": {
            "text/plain": [
              "array([2, 5])"
            ]
          },
          "metadata": {},
          "execution_count": 1
        }
      ]
    },
    {
      "cell_type": "code",
      "source": [
        "students = {'Marc': 99, 'Amie': 76, 'Jonny': 98, 'Anne': 99, 'Andy': 77, 'Elli': 98, 'Acer': 67, 'Joan': 61, 'Mike': 54, 'Anna': 76, 'Bobi': 67, 'Kate': 99, 'Todd': 98, 'Emma': 49, 'Stan': 76, 'Harv': 99, 'Ward': 67, 'Hank': 54, 'Wendy': 98, 'Sven': 100}"
      ],
      "metadata": {
        "id": "2OXUFkztQSjb"
      },
      "execution_count": null,
      "outputs": []
    },
    {
      "cell_type": "code",
      "source": [
        "\n",
        "def most_prolific(input_dict):\n",
        "\n",
        "    values = []\n",
        "    for age in input_dict.values():\n",
        "        if age in input_dict.values():\n",
        "            values.append(age)\n",
        "\n",
        "\n",
        "    for most in values:\n",
        "        if most in values:\n",
        "         return max(values.count(most))"
      ],
      "metadata": {
        "id": "E5q2v6S8SH1M"
      },
      "execution_count": null,
      "outputs": []
    },
    {
      "cell_type": "code",
      "source": [
        "students.values()"
      ],
      "metadata": {
        "colab": {
          "base_uri": "https://localhost:8080/"
        },
        "id": "Em37DAV6SZ2x",
        "outputId": "f82c0f0b-f7ce-4abd-d789-8123006b490a"
      },
      "execution_count": null,
      "outputs": [
        {
          "output_type": "execute_result",
          "data": {
            "text/plain": [
              "dict_values([99, 76, 98, 99, 77, 98, 67, 61, 54, 76, 67, 99, 98, 49, 76, 99, 67, 54, 98, 100])"
            ]
          },
          "metadata": {},
          "execution_count": 9
        }
      ]
    },
    {
      "cell_type": "code",
      "source": [
        "print(values(students))"
      ],
      "metadata": {
        "colab": {
          "base_uri": "https://localhost:8080/",
          "height": 171
        },
        "id": "Qb_2lk1RS4Zp",
        "outputId": "4c24c655-be2b-410d-b48f-555aafc0de48"
      },
      "execution_count": null,
      "outputs": [
        {
          "output_type": "error",
          "ename": "NameError",
          "evalue": "ignored",
          "traceback": [
            "\u001b[0;31m---------------------------------------------------------------------------\u001b[0m",
            "\u001b[0;31mNameError\u001b[0m                                 Traceback (most recent call last)",
            "\u001b[0;32m<ipython-input-11-a865b3fba243>\u001b[0m in \u001b[0;36m<module>\u001b[0;34m\u001b[0m\n\u001b[0;32m----> 1\u001b[0;31m \u001b[0mprint\u001b[0m\u001b[0;34m(\u001b[0m\u001b[0mvalues\u001b[0m\u001b[0;34m(\u001b[0m\u001b[0mstudents\u001b[0m\u001b[0;34m)\u001b[0m\u001b[0;34m)\u001b[0m\u001b[0;34m\u001b[0m\u001b[0;34m\u001b[0m\u001b[0m\n\u001b[0m",
            "\u001b[0;31mNameError\u001b[0m: name 'values' is not defined"
          ]
        }
      ]
    },
    {
      "cell_type": "code",
      "source": [
        "from collections import Counter \n",
        "input_dict = {'A': 1963, 'B': 1963, 'C': 1964, 'D': 1964, 'E': 1964, 'F': 1965, 'G': 1965, 'H': 1966, 'I': 1967, 'J': 1967, 'K': 1968, 'L': 1969 ,'M': 1969, 'N': 1970}\n",
        "\n",
        "value, count = Counter(input_dict.values()).most_common(1)[0]"
      ],
      "metadata": {
        "id": "4W0Hj8ZBTWwT"
      },
      "execution_count": null,
      "outputs": []
    },
    {
      "cell_type": "code",
      "source": [
        "print(value)"
      ],
      "metadata": {
        "colab": {
          "base_uri": "https://localhost:8080/"
        },
        "id": "YK5GYj6XTbFq",
        "outputId": "b95f6a2d-5bfa-49ca-dfa3-926ad1ab3277"
      },
      "execution_count": null,
      "outputs": [
        {
          "output_type": "stream",
          "name": "stdout",
          "text": [
            "1964\n"
          ]
        }
      ]
    },
    {
      "cell_type": "code",
      "source": [
        "students = {'Marc': 99, 'Amie': 76, 'Jonny': 98, 'Anne': 99, 'Andy': 77, 'Elli': 98, 'Acer': 67, 'Joan': 61, 'Mike': 54, 'Anna': 76, 'Bobi': 67, 'Kate': 99, 'Todd': 98, 'Emma': 49, 'Stan': 76, 'Harv': 99, 'Ward': 67, 'Hank': 54, 'Wendy': 98, 'Sven': 100}"
      ],
      "metadata": {
        "id": "7ncxk8xSTm9v"
      },
      "execution_count": null,
      "outputs": []
    },
    {
      "cell_type": "code",
      "source": [
        "value, count = Counter(students.values()).most_common(1)[0]"
      ],
      "metadata": {
        "id": "r5XkMeaGTrSo"
      },
      "execution_count": null,
      "outputs": []
    },
    {
      "cell_type": "code",
      "source": [
        "print(value)"
      ],
      "metadata": {
        "colab": {
          "base_uri": "https://localhost:8080/"
        },
        "id": "MRgXMyrKTwuH",
        "outputId": "ad492c6b-88e9-4dc3-f21f-a58b07e91d96"
      },
      "execution_count": null,
      "outputs": [
        {
          "output_type": "stream",
          "name": "stdout",
          "text": [
            "99\n"
          ]
        }
      ]
    },
    {
      "cell_type": "code",
      "source": [
        "inputt='ALMABETTER'\n",
        "print(inputt[:4:-1])"
      ],
      "metadata": {
        "colab": {
          "base_uri": "https://localhost:8080/"
        },
        "id": "0DrnhZAYUfm5",
        "outputId": "6e4faaa1-991d-408c-c4ce-c99271483987"
      },
      "execution_count": null,
      "outputs": [
        {
          "output_type": "stream",
          "name": "stdout",
          "text": [
            "RETTE\n"
          ]
        }
      ]
    },
    {
      "cell_type": "code",
      "source": [
        "def reverse_string(strr):  \n",
        "    str1 = \"\"   # Declaring empty string to store the reversed string  \n",
        "    for i in strr:  \n",
        "        str1 = i + str1  \n",
        "    return str1    # It will return the reverse string to the caller function  \n",
        "    strr = \"ALMABETTER\"    # Given String        \n",
        "print(reverse_string(strr)) # Function call  "
      ],
      "metadata": {
        "colab": {
          "base_uri": "https://localhost:8080/",
          "height": 207
        },
        "id": "Q8_JjUh9VdR1",
        "outputId": "b3facda2-f9f9-4ccb-90b1-eadca853478b"
      },
      "execution_count": null,
      "outputs": [
        {
          "output_type": "error",
          "ename": "NameError",
          "evalue": "ignored",
          "traceback": [
            "\u001b[0;31m---------------------------------------------------------------------------\u001b[0m",
            "\u001b[0;31mNameError\u001b[0m                                 Traceback (most recent call last)",
            "\u001b[0;32m<ipython-input-25-140ed97d7975>\u001b[0m in \u001b[0;36m<module>\u001b[0;34m\u001b[0m\n\u001b[1;32m      5\u001b[0m     \u001b[0;32mreturn\u001b[0m \u001b[0mstr1\u001b[0m    \u001b[0;31m# It will return the reverse string to the caller function\u001b[0m\u001b[0;34m\u001b[0m\u001b[0;34m\u001b[0m\u001b[0m\n\u001b[1;32m      6\u001b[0m     \u001b[0mstrr\u001b[0m \u001b[0;34m=\u001b[0m \u001b[0;34m\"ALMABETTER\"\u001b[0m    \u001b[0;31m# Given String\u001b[0m\u001b[0;34m\u001b[0m\u001b[0;34m\u001b[0m\u001b[0m\n\u001b[0;32m----> 7\u001b[0;31m \u001b[0mprint\u001b[0m\u001b[0;34m(\u001b[0m\u001b[0mreverse_string\u001b[0m\u001b[0;34m(\u001b[0m\u001b[0mstrr\u001b[0m\u001b[0;34m)\u001b[0m\u001b[0;34m)\u001b[0m \u001b[0;31m# Function call\u001b[0m\u001b[0;34m\u001b[0m\u001b[0;34m\u001b[0m\u001b[0m\n\u001b[0m",
            "\u001b[0;31mNameError\u001b[0m: name 'strr' is not defined"
          ]
        }
      ]
    },
    {
      "cell_type": "code",
      "source": [
        "def reverse(s):\n",
        "    str = \"\"\n",
        "    for i in s:\n",
        "        str = i + str\n",
        "    return str\n",
        "  \n",
        "s = \"Geeksforgeeks\"\n",
        "  \n",
        "print(\"The original string is : \", end=\"\")\n",
        "print(s)\n",
        "  \n",
        "print(\"The reversed string(using loops) is : \", end=\"\")\n",
        "print(reverse(s))"
      ],
      "metadata": {
        "colab": {
          "base_uri": "https://localhost:8080/"
        },
        "id": "lAOKipTXWNuz",
        "outputId": "5e52cc55-cbb3-498e-84a6-6fb1288f3e41"
      },
      "execution_count": null,
      "outputs": [
        {
          "output_type": "stream",
          "name": "stdout",
          "text": [
            "The original string is : Geeksforgeeks\n",
            "The reversed string(using loops) is : skeegrofskeeG\n"
          ]
        }
      ]
    },
    {
      "cell_type": "code",
      "source": [
        "def reverse(s):\n",
        "    str = \"\"\n",
        "    for i in s:\n",
        "        str = i + str\n",
        "    return str\n",
        "s=\"ALMABETTER\"\n",
        "print(reverse(s))\n"
      ],
      "metadata": {
        "colab": {
          "base_uri": "https://localhost:8080/"
        },
        "id": "hV2yhmdcWSLq",
        "outputId": "d59c3a68-1203-48b7-9b93-f5173f438a41"
      },
      "execution_count": null,
      "outputs": [
        {
          "output_type": "stream",
          "name": "stdout",
          "text": [
            "RETTEBAMLA\n"
          ]
        }
      ]
    },
    {
      "cell_type": "code",
      "source": [
        "str=\"ALMABETTER\"\n",
        "even_chars=[]\n",
        "odd_chars=[]\n",
        "for i in range(len(str)):\n",
        "    # check if index is divisible by 2\n",
        "    if i % 2 != 0:\n",
        "        even_chars.append(str[i])\n",
        "    else:\n",
        "       odd_chars.append(str[i])  \n",
        "print('Odd characters: {}'.format(odd_chars))  \n",
        "print('Even characters: {}'.format(even_chars))     "
      ],
      "metadata": {
        "colab": {
          "base_uri": "https://localhost:8080/"
        },
        "id": "KdzdsfpaXCSL",
        "outputId": "7ca48d98-aef2-4e77-e59a-464e6890e906"
      },
      "execution_count": null,
      "outputs": [
        {
          "output_type": "stream",
          "name": "stdout",
          "text": [
            "Odd characters: ['A', 'M', 'B', 'T', 'E']\n",
            "Even characters: ['L', 'A', 'E', 'T', 'R']\n"
          ]
        }
      ]
    },
    {
      "cell_type": "code",
      "source": [
        "nterms = 15\n",
        "\n",
        "# first two terms\n",
        "n1, n2 = 0, 1\n",
        "count = 0\n",
        "\n",
        "# check if the number of terms is valid\n",
        "if nterms <= 0:\n",
        "   print(\"Please enter a positive integer\")\n",
        "# if there is only one term, return n1\n",
        "elif nterms == 1:\n",
        "   print(\"Fibonacci sequence upto\",nterms,\":\")\n",
        "   print(n1)\n",
        "# generate fibonacci sequence\n",
        "else:\n",
        "   print(\"Fibonacci Series:\")\n",
        "   while count < nterms:\n",
        "       print(n1, end=\",\")\n",
        "       nth = n1 + n2\n",
        "       # update values\n",
        "       n1 = n2\n",
        "       n2 = nth\n",
        "       count += 1"
      ],
      "metadata": {
        "colab": {
          "base_uri": "https://localhost:8080/"
        },
        "id": "3ytPQkHTa11N",
        "outputId": "34e928e0-d2f5-497b-a74f-a545433d3b9a"
      },
      "execution_count": null,
      "outputs": [
        {
          "output_type": "stream",
          "name": "stdout",
          "text": [
            "Fibonacci Series:\n",
            "0,1,1,2,3,5,8,13,21,34,55,89,144,233,377,"
          ]
        }
      ]
    },
    {
      "cell_type": "code",
      "source": [
        "nterms = 15\n",
        "\n",
        "# first two terms\n",
        "n1, n2 = 0, 1\n",
        "count = 0\n",
        "\n",
        "# check if the number of terms is valid\n",
        "if nterms <= 0:\n",
        "   print(\"Please enter a positive integer\")\n",
        "# if there is only one term, return n1\n",
        "elif nterms == 1:\n",
        "   print(\"Fibonacci sequence upto\",nterms,\":\")\n",
        "   print(n1)\n",
        "# generate fibonacci sequence\n",
        "else:\n",
        "  print(\"Fibonacci Series:\")\n",
        "  while count < nterms:\n",
        "       print(n1,end=\",\")\n",
        "       nth = n1 + n2\n",
        "       # update values\n",
        "       n1 = n2\n",
        "       n2 = nth\n",
        "       count += 1"
      ],
      "metadata": {
        "colab": {
          "base_uri": "https://localhost:8080/"
        },
        "id": "a8VwzeATbXLA",
        "outputId": "bf2f2ee6-72ab-4c39-fe14-4888e82aa2d8"
      },
      "execution_count": null,
      "outputs": [
        {
          "output_type": "stream",
          "name": "stdout",
          "text": [
            "Fibonacci Series:\n",
            "0,1,1,2,3,5,8,13,21,34,55,89,144,233,377,"
          ]
        }
      ]
    },
    {
      "cell_type": "code",
      "source": [
        "def Fibonacci(n):\n",
        "   \n",
        "    # Check if input is 0 then it will\n",
        "    # print incorrect input\n",
        "    if n < 0:\n",
        "        print(\"Incorrect input\")\n",
        " \n",
        "    # Check if n is 0\n",
        "    # then it will return 0\n",
        "    elif n == 0:\n",
        "        return 0\n",
        " \n",
        "    # Check if n is 1,2\n",
        "    # it will return 1\n",
        "    elif n == 1 or n == 2:\n",
        "        return 1\n",
        " \n",
        "    else:\n",
        "        return Fibonacci(n-1) + Fibonacci(n-2)\n",
        " \n",
        "# Driver Program\n",
        "print(Fibonacci(9))"
      ],
      "metadata": {
        "colab": {
          "base_uri": "https://localhost:8080/"
        },
        "id": "MOzinRWQdN8T",
        "outputId": "94142e02-5170-47be-897b-701767628fd1"
      },
      "execution_count": null,
      "outputs": [
        {
          "output_type": "stream",
          "name": "stdout",
          "text": [
            "34\n"
          ]
        }
      ]
    },
    {
      "cell_type": "code",
      "source": [
        "num = 15\n",
        "n1, n2 = 0, 1\n",
        "print(\"Fibonacci Series:\", n1, n2, end=\",\")\n",
        "for i in range(2, num):\n",
        "    n3 = n1 + n2\n",
        "    n1 = n2\n",
        "    n2 = n3\n",
        "    print(n3, end=\",\")\n",
        "\n",
        "print()"
      ],
      "metadata": {
        "colab": {
          "base_uri": "https://localhost:8080/"
        },
        "id": "NUlQix2LfA_f",
        "outputId": "7b956725-983a-406c-b9de-840ea1be34f4"
      },
      "execution_count": null,
      "outputs": [
        {
          "output_type": "stream",
          "name": "stdout",
          "text": [
            "Fibonacci Series: 0 1,1,2,3,5,8,13,21,34,55,89,144,233,377,\n"
          ]
        }
      ]
    },
    {
      "cell_type": "code",
      "source": [
        "nums = [10,15,20,25,30,14,20,19,34,14,20,12]\n",
        "\n",
        "index_20 = nums.index(20)\n",
        "print(index_20)"
      ],
      "metadata": {
        "colab": {
          "base_uri": "https://localhost:8080/"
        },
        "id": "oR3lLsUTf362",
        "outputId": "61b99af7-6a0b-48d8-9e6b-b2924ae89180"
      },
      "execution_count": null,
      "outputs": [
        {
          "output_type": "stream",
          "name": "stdout",
          "text": [
            "2\n"
          ]
        }
      ]
    },
    {
      "cell_type": "code",
      "source": [
        "nums = [10,15,20,25,30,14,20,19,34,14,20,12]\n",
        "index_20 = nums.index(20)\n",
        "print(index_20)"
      ],
      "metadata": {
        "colab": {
          "base_uri": "https://localhost:8080/"
        },
        "id": "u6MzXvncf85p",
        "outputId": "86964bf8-6578-4ba5-fa2b-cea23ad45666"
      },
      "execution_count": null,
      "outputs": [
        {
          "output_type": "stream",
          "name": "stdout",
          "text": [
            "2\n"
          ]
        }
      ]
    },
    {
      "cell_type": "code",
      "source": [
        "nums = [10,15,20,25,30,14,20,19,34,14,20,12]\n",
        "for i in enumerate(nums):\n",
        "    if i[1] == 20:\n",
        "        print(i[0],end=\",\")"
      ],
      "metadata": {
        "colab": {
          "base_uri": "https://localhost:8080/"
        },
        "id": "Vd-xyNOuf82R",
        "outputId": "cf10e199-6b4a-414d-c1f6-ef3ee06204d9"
      },
      "execution_count": null,
      "outputs": [
        {
          "output_type": "stream",
          "name": "stdout",
          "text": [
            "2,6,10,"
          ]
        }
      ]
    },
    {
      "cell_type": "code",
      "source": [
        "import numpy as np\n",
        "\n",
        "#creating a list\n",
        "list1 = [1,2,3,4,5,6,7,8,9]\n",
        "\n",
        "sub_lists = np.array_split(list1, 3)\n",
        "count=1\n",
        "for i in sub_lists:\n",
        "    print(\"List \", count, \": \",list(i))\n",
        "    count+=1"
      ],
      "metadata": {
        "colab": {
          "base_uri": "https://localhost:8080/"
        },
        "id": "q3XyRsS1hl5S",
        "outputId": "69db4bb5-4a25-445a-b6db-726658d33e09"
      },
      "execution_count": null,
      "outputs": [
        {
          "output_type": "stream",
          "name": "stdout",
          "text": [
            "List  1 :  [1, 2, 3]\n",
            "List  2 :  [4, 5, 6]\n",
            "List  3 :  [7, 8, 9]\n"
          ]
        }
      ]
    },
    {
      "cell_type": "code",
      "source": [
        "from keras.layers import concatenate\n",
        "list1 = [1,2,3,4,5,6,7,8]\n",
        "\n",
        "\n",
        "#initialize the middle index with the length of first half\n",
        "middle_index=4\n",
        "\n",
        "#Split the list from starting index upto middle index in first half\n",
        "first_half=list1[:middle_index]\n",
        "\n",
        "#Split the list from middle index index upto the last index in second half\n",
        "sec_half=list1[middle_index:]\n",
        "\n",
        "#printing original lists and two halves\n",
        "print(first_half[::-1]+sec_half[::-1])"
      ],
      "metadata": {
        "colab": {
          "base_uri": "https://localhost:8080/"
        },
        "id": "KVxeoLqih0fk",
        "outputId": "219bbd8d-bd8d-4748-bc6a-f66f031f54a5"
      },
      "execution_count": null,
      "outputs": [
        {
          "output_type": "stream",
          "name": "stdout",
          "text": [
            "[4, 3, 2, 1, 8, 7, 6, 5]\n"
          ]
        }
      ]
    },
    {
      "cell_type": "code",
      "source": [
        "def printWords(s):\n",
        "     \n",
        "    # split the string\n",
        "    s = s.split(' ')\n",
        "     \n",
        "    # iterate in words of string\n",
        "    for word in s:\n",
        "         \n",
        "        # if length is even\n",
        "        if len(word)%2==0:\n",
        "            print(word)\n",
        " \n",
        " \n",
        "# Driver Code\n",
        "s = \"I am working at Almabetter\"\n",
        "printWords(s)"
      ],
      "metadata": {
        "colab": {
          "base_uri": "https://localhost:8080/",
          "height": 207
        },
        "id": "QUi3P98gj1HE",
        "outputId": "6b5e7cfb-85fa-402d-aaa4-569c09d02f7f"
      },
      "execution_count": null,
      "outputs": [
        {
          "output_type": "error",
          "ename": "TypeError",
          "evalue": "ignored",
          "traceback": [
            "\u001b[0;31m---------------------------------------------------------------------------\u001b[0m",
            "\u001b[0;31mTypeError\u001b[0m                                 Traceback (most recent call last)",
            "\u001b[0;32m<ipython-input-75-1750ef623054>\u001b[0m in \u001b[0;36m<module>\u001b[0;34m\u001b[0m\n\u001b[1;32m     14\u001b[0m \u001b[0;31m# Driver Code\u001b[0m\u001b[0;34m\u001b[0m\u001b[0;34m\u001b[0m\u001b[0;34m\u001b[0m\u001b[0m\n\u001b[1;32m     15\u001b[0m \u001b[0ms\u001b[0m \u001b[0;34m=\u001b[0m \u001b[0;34m\"I am working at Almabetter\"\u001b[0m\u001b[0;34m\u001b[0m\u001b[0;34m\u001b[0m\u001b[0m\n\u001b[0;32m---> 16\u001b[0;31m \u001b[0mprintWords\u001b[0m\u001b[0;34m(\u001b[0m\u001b[0ms\u001b[0m\u001b[0;34m,\u001b[0m\u001b[0mend\u001b[0m\u001b[0;34m=\u001b[0m\u001b[0;34m\",\"\u001b[0m\u001b[0;34m)\u001b[0m\u001b[0;34m\u001b[0m\u001b[0;34m\u001b[0m\u001b[0m\n\u001b[0m",
            "\u001b[0;31mTypeError\u001b[0m: printWords() got an unexpected keyword argument 'end'"
          ]
        }
      ]
    },
    {
      "cell_type": "code",
      "source": [
        "n=\"I am working at Almabetter\"\n",
        "#splitting the words in a given string\n",
        "s=n.split(\" \")\n",
        "l=list(filter(lambda x: (len(x)%2==0),s))\n",
        "print(l)"
      ],
      "metadata": {
        "id": "VhS2wMx9k8Za",
        "outputId": "a2e78d30-3cc7-48cf-efbf-2ee18612bf20",
        "colab": {
          "base_uri": "https://localhost:8080/"
        }
      },
      "execution_count": null,
      "outputs": [
        {
          "output_type": "stream",
          "name": "stdout",
          "text": [
            "['am', 'at', 'Almabetter']\n"
          ]
        }
      ]
    },
    {
      "cell_type": "code",
      "source": [
        "def test(nums):\n",
        "    digits = {\"zero\": None,\n",
        "              \"one\": 1,\n",
        "              \"two\": 2,\n",
        "              \"three\": 3,\n",
        "              \"four\": 4,\n",
        "              \"five\": 5,\n",
        "              \"six\": 6,\n",
        "              \"seven\": 7,\n",
        "              \"eight\": 8,\n",
        "              \"nine\": 9}\n",
        "    digits_backwards = {digits[k]: k for k in digits}\n",
        "    digits = [digits[s] for s in digits]\n",
        "    li = [digits[n] for n in nums if n in digits]\n",
        "    return [digits_backwards[n] for n in sorted(li, reverse=True)]\n",
        "n=[1, 3, 4, 5, 11]\n",
        "print(test(n))    "
      ],
      "metadata": {
        "colab": {
          "base_uri": "https://localhost:8080/"
        },
        "id": "RrcJ5MKKO8_Q",
        "outputId": "6b4ad502-bca1-42a5-c469-72d0ea487277"
      },
      "execution_count": null,
      "outputs": [
        {
          "output_type": "stream",
          "name": "stdout",
          "text": [
            "['five', 'four', 'three', 'one']\n"
          ]
        }
      ]
    },
    {
      "cell_type": "code",
      "source": [
        "def test(file_names):\n",
        "         return [\"Yes\" if\n",
        "            f.split(\".\")[1:] in [['txt'], ['png'], ['dll'], ['exe'], ['jpg']] and f[0].isalpha() and sum(c.isdigit() for c in f) < 4\n",
        "            else \"No\"\n",
        "            for f in file_names]\n",
        "n=eval(input())\n",
        "print(test(n))            \n"
      ],
      "metadata": {
        "colab": {
          "base_uri": "https://localhost:8080/"
        },
        "id": "M17_LHj-P6x_",
        "outputId": "24ba59d2-bcfc-4500-f86d-b1d1c36c9629"
      },
      "execution_count": null,
      "outputs": [
        {
          "output_type": "stream",
          "name": "stdout",
          "text": [
            "['abc.txt', 'windows.dll', 'tiger.png', 'rose.jpg', 'test.py', 'win32.exe']\n",
            "['Yes', 'Yes', 'Yes', 'Yes', 'No', 'Yes']\n"
          ]
        }
      ]
    },
    {
      "cell_type": "code",
      "source": [
        "def compute():\n",
        "\tresult = sum(i for i in range(2, 1000000) if i == fifthPower_digitSum(i))\n",
        "\treturn str(result)\n",
        "\n",
        "def fifthPower_digitSum(n):\n",
        "\treturn sum(int(x)**5 for x in str(n))\n",
        "\n",
        "print(compute())"
      ],
      "metadata": {
        "colab": {
          "base_uri": "https://localhost:8080/"
        },
        "id": "36BnRxpBQSHM",
        "outputId": "3de55690-74b6-4611-f93f-4640acfd888c"
      },
      "execution_count": null,
      "outputs": [
        {
          "output_type": "stream",
          "name": "stdout",
          "text": [
            "443839\n"
          ]
        }
      ]
    },
    {
      "cell_type": "code",
      "source": [
        "def test(strs):\n",
        "        return [\"\".join(c for c in text if c.lower() in \"aeiou\") + (text[-1] if text[-1].lower() == \"y\" else \"\")\n",
        "            for text in strs]\n",
        "n = eval(input())\n",
        "print(test(n))"
      ],
      "metadata": {
        "colab": {
          "base_uri": "https://localhost:8080/"
        },
        "id": "_NRWjvwzRhc2",
        "outputId": "cc5a158b-8b84-4c73-9722-185ef67da4ef"
      },
      "execution_count": null,
      "outputs": [
        {
          "output_type": "stream",
          "name": "stdout",
          "text": [
            "['w3resource', 'Python', 'Java', 'C++']\n",
            "['eoue', 'o', 'aa', '']\n"
          ]
        }
      ]
    },
    {
      "cell_type": "code",
      "source": [
        "def test(nums):\n",
        "    n, i = max((n, i) for i, n in enumerate(nums) if is_prime(n))\n",
        "    return [i, sum(int(c) for c in str(n))]\n",
        "def is_prime(n):\n",
        "    return n > 1 and all(n % j for j in range(2, int(n ** 0.5) + 1))\n",
        "n = eval(input())\n",
        "print(\"Index of the largest prime in the said list and the sum of its digits:\")\n",
        "print(test(n))    \n",
        "    "
      ],
      "metadata": {
        "colab": {
          "base_uri": "https://localhost:8080/"
        },
        "id": "DbYJ2eukRk81",
        "outputId": "0e7d2639-d915-435e-c0ef-0e6b3b1651d2"
      },
      "execution_count": null,
      "outputs": [
        {
          "output_type": "stream",
          "name": "stdout",
          "text": [
            "[3, 7, 4]\n",
            "Index of the largest prime in the said list and the sum of its digits:\n",
            "[1, 7]\n"
          ]
        }
      ]
    },
    {
      "cell_type": "code",
      "source": [
        "def recur_factorial(n):\n",
        "   if n == 1:\n",
        "       return n\n",
        "   else:\n",
        "       return n*recur_factorial(n-1)\n",
        "num = int(input()) \n",
        "if num < 0:\n",
        "   print(\"Sorry, factorial does not exist for negative numbers\")\n",
        "elif num == 0:\n",
        "   print(\"The factorial of 0 is 1\")\n",
        "else:\n",
        "   print(\"The factorial of\", num, \"is\", recur_factorial(num))"
      ],
      "metadata": {
        "id": "YInaLveESX7M",
        "colab": {
          "base_uri": "https://localhost:8080/"
        },
        "outputId": "fe6b6c51-c645-445e-c47a-142b8b09cc75"
      },
      "execution_count": null,
      "outputs": [
        {
          "output_type": "stream",
          "name": "stdout",
          "text": [
            "5\n",
            "The factorial of 5 is 120\n"
          ]
        }
      ]
    },
    {
      "cell_type": "code",
      "source": [
        "def factorial(n): \n",
        "      \n",
        "    if (n==1 or n==0):\n",
        "          \n",
        "        return 1\n",
        "      \n",
        "    else:\n",
        "          \n",
        "        return (n * factorial(n - 1)) \n",
        "  \n",
        "# Driver Code \n",
        "num = -1; \n",
        "print(\"number : \",num)\n",
        "print(\"Factorial : \",factorial(num))"
      ],
      "metadata": {
        "colab": {
          "base_uri": "https://localhost:8080/",
          "height": 414
        },
        "id": "j0WvjOgsX058",
        "outputId": "a6507c4a-d930-4fa5-8b02-6f9359e4c5f4"
      },
      "execution_count": null,
      "outputs": [
        {
          "output_type": "stream",
          "name": "stdout",
          "text": [
            "number :  -1\n"
          ]
        },
        {
          "output_type": "error",
          "ename": "RecursionError",
          "evalue": "ignored",
          "traceback": [
            "\u001b[0;31m---------------------------------------------------------------------------\u001b[0m",
            "\u001b[0;31mRecursionError\u001b[0m                            Traceback (most recent call last)",
            "\u001b[0;32m<ipython-input-10-39c8a91d65c5>\u001b[0m in \u001b[0;36m<module>\u001b[0;34m\u001b[0m\n\u001b[1;32m     12\u001b[0m \u001b[0mnum\u001b[0m \u001b[0;34m=\u001b[0m \u001b[0;34m-\u001b[0m\u001b[0;36m1\u001b[0m\u001b[0;34m;\u001b[0m\u001b[0;34m\u001b[0m\u001b[0;34m\u001b[0m\u001b[0m\n\u001b[1;32m     13\u001b[0m \u001b[0mprint\u001b[0m\u001b[0;34m(\u001b[0m\u001b[0;34m\"number : \"\u001b[0m\u001b[0;34m,\u001b[0m\u001b[0mnum\u001b[0m\u001b[0;34m)\u001b[0m\u001b[0;34m\u001b[0m\u001b[0;34m\u001b[0m\u001b[0m\n\u001b[0;32m---> 14\u001b[0;31m \u001b[0mprint\u001b[0m\u001b[0;34m(\u001b[0m\u001b[0;34m\"Factorial : \"\u001b[0m\u001b[0;34m,\u001b[0m\u001b[0mfactorial\u001b[0m\u001b[0;34m(\u001b[0m\u001b[0mnum\u001b[0m\u001b[0;34m)\u001b[0m\u001b[0;34m)\u001b[0m\u001b[0;34m\u001b[0m\u001b[0;34m\u001b[0m\u001b[0m\n\u001b[0m",
            "\u001b[0;32m<ipython-input-10-39c8a91d65c5>\u001b[0m in \u001b[0;36mfactorial\u001b[0;34m(n)\u001b[0m\n\u001b[1;32m      7\u001b[0m     \u001b[0;32melse\u001b[0m\u001b[0;34m:\u001b[0m\u001b[0;34m\u001b[0m\u001b[0;34m\u001b[0m\u001b[0m\n\u001b[1;32m      8\u001b[0m \u001b[0;34m\u001b[0m\u001b[0m\n\u001b[0;32m----> 9\u001b[0;31m         \u001b[0;32mreturn\u001b[0m \u001b[0;34m(\u001b[0m\u001b[0mn\u001b[0m \u001b[0;34m*\u001b[0m \u001b[0mfactorial\u001b[0m\u001b[0;34m(\u001b[0m\u001b[0mn\u001b[0m \u001b[0;34m-\u001b[0m \u001b[0;36m1\u001b[0m\u001b[0;34m)\u001b[0m\u001b[0;34m)\u001b[0m\u001b[0;34m\u001b[0m\u001b[0;34m\u001b[0m\u001b[0m\n\u001b[0m\u001b[1;32m     10\u001b[0m \u001b[0;34m\u001b[0m\u001b[0m\n\u001b[1;32m     11\u001b[0m \u001b[0;31m# Driver Code\u001b[0m\u001b[0;34m\u001b[0m\u001b[0;34m\u001b[0m\u001b[0;34m\u001b[0m\u001b[0m\n",
            "... last 1 frames repeated, from the frame below ...\n",
            "\u001b[0;32m<ipython-input-10-39c8a91d65c5>\u001b[0m in \u001b[0;36mfactorial\u001b[0;34m(n)\u001b[0m\n\u001b[1;32m      7\u001b[0m     \u001b[0;32melse\u001b[0m\u001b[0;34m:\u001b[0m\u001b[0;34m\u001b[0m\u001b[0;34m\u001b[0m\u001b[0m\n\u001b[1;32m      8\u001b[0m \u001b[0;34m\u001b[0m\u001b[0m\n\u001b[0;32m----> 9\u001b[0;31m         \u001b[0;32mreturn\u001b[0m \u001b[0;34m(\u001b[0m\u001b[0mn\u001b[0m \u001b[0;34m*\u001b[0m \u001b[0mfactorial\u001b[0m\u001b[0;34m(\u001b[0m\u001b[0mn\u001b[0m \u001b[0;34m-\u001b[0m \u001b[0;36m1\u001b[0m\u001b[0;34m)\u001b[0m\u001b[0;34m)\u001b[0m\u001b[0;34m\u001b[0m\u001b[0;34m\u001b[0m\u001b[0m\n\u001b[0m\u001b[1;32m     10\u001b[0m \u001b[0;34m\u001b[0m\u001b[0m\n\u001b[1;32m     11\u001b[0m \u001b[0;31m# Driver Code\u001b[0m\u001b[0;34m\u001b[0m\u001b[0;34m\u001b[0m\u001b[0;34m\u001b[0m\u001b[0m\n",
            "\u001b[0;31mRecursionError\u001b[0m: maximum recursion depth exceeded in comparison"
          ]
        }
      ]
    },
    {
      "cell_type": "code",
      "source": [
        "def recur_factorial(n):\n",
        "   if n == 1:\n",
        "       return n\n",
        "   else:\n",
        "       return n*recur_factorial(n-1)\n",
        "num = int(input()) \n",
        "if num < 0:\n",
        "   print(\"Factorial can't be calculated for negative number\")\n",
        "elif num == 0:\n",
        "   print(\"Factorial of 0 is 1\")\n",
        "else:\n",
        "   print(f\"Factorial of {num} is {recur_factorial(num)}\")"
      ],
      "metadata": {
        "colab": {
          "base_uri": "https://localhost:8080/"
        },
        "id": "A23en3_-ZrJB",
        "outputId": "5eaefea6-8df2-46b8-fd3f-43453b41bbdc"
      },
      "execution_count": null,
      "outputs": [
        {
          "output_type": "stream",
          "name": "stdout",
          "text": [
            "-4\n",
            "Factorial can't be calculated for negative number\n"
          ]
        }
      ]
    },
    {
      "cell_type": "code",
      "source": [
        "def recur_factorial(n):\n",
        "   if n == 1:\n",
        "       return n\n",
        "   else:\n",
        "       return n*recur_factorial(n-1)\n",
        "num = int(input()) \n",
        "if num < 0:\n",
        "   print(\"Factorial can't be calculated for negative number\")\n",
        "elif num == 0:\n",
        "   print(\"Factorial of 0 is 1\")\n",
        "else:\n",
        "   print(f\"Factorial of {num} is {recur_factorial(num)}\")"
      ],
      "metadata": {
        "colab": {
          "base_uri": "https://localhost:8080/"
        },
        "id": "ybUPL5OiZ5D0",
        "outputId": "8be406ac-17c7-458e-f24e-a3d2f4012ee0"
      },
      "execution_count": null,
      "outputs": [
        {
          "output_type": "stream",
          "name": "stdout",
          "text": [
            "5\n",
            "Factorial of 5 is 120\n"
          ]
        }
      ]
    },
    {
      "cell_type": "code",
      "source": [
        "def recursive_factorial(n):\n",
        "  if n == 1:\n",
        "       return n\n",
        "  else:\n",
        "       return n*recursive_factorial(n-1)\n",
        "\n",
        "#taking input from the user\n",
        "number = int(input(\"User Input : \")\n",
        "\n",
        "# If the user input negative integer\n",
        "if number < 0:\n",
        "    print(\"Bad Input\")\n",
        "\n",
        "# If the user inputs 0\n",
        "elif number == 0:\n",
        "    print(\"The factorial of 0 is 1\")\n",
        "else:\n",
        "    print(\"The factorial of\", number, \"is\", recursive_factorial(number))\n"
      ],
      "metadata": {
        "colab": {
          "base_uri": "https://localhost:8080/",
          "height": 134
        },
        "id": "3x8K7dSJahqu",
        "outputId": "3ff59f68-d295-4a68-8467-71dd96406e58"
      },
      "execution_count": null,
      "outputs": [
        {
          "output_type": "error",
          "ename": "SyntaxError",
          "evalue": "ignored",
          "traceback": [
            "\u001b[0;36m  File \u001b[0;32m\"<ipython-input-15-848517748bb5>\"\u001b[0;36m, line \u001b[0;32m11\u001b[0m\n\u001b[0;31m    if number < 0:\u001b[0m\n\u001b[0m                 ^\u001b[0m\n\u001b[0;31mSyntaxError\u001b[0m\u001b[0;31m:\u001b[0m invalid syntax\n"
          ]
        }
      ]
    },
    {
      "cell_type": "code",
      "source": [
        "def factorial(n):\n",
        "  if n == 1:\n",
        "       return n\n",
        "  else:\n",
        "       return n*factorial(n-1)\n",
        "\n",
        "# taking input from the user\n",
        "num = int(input(\"Enter any number: \"))\n",
        "\n",
        "# If the user inputs a negative integer\n",
        "if num < 0:\n",
        "    print(\"Factorial can't be calculated for negative number\")\n",
        "# If the user inputs 0\n",
        "elif num == 0:\n",
        "    print(\"Factorial of 0 is 1\")\n",
        "else:\n",
        "    print(\"Factorial of\", num, \"is\", factorial(num))"
      ],
      "metadata": {
        "colab": {
          "base_uri": "https://localhost:8080/"
        },
        "id": "Wg9F9rDebA95",
        "outputId": "400ffb44-05d1-4770-b352-6d55a99f7e4c"
      },
      "execution_count": null,
      "outputs": [
        {
          "output_type": "stream",
          "name": "stdout",
          "text": [
            "Enter any number: 6\n",
            "Factorial of 6 is 720\n"
          ]
        }
      ]
    },
    {
      "cell_type": "code",
      "source": [
        "def test(nums):\n",
        "    return sum(i for i in nums[1::2] if i % 2 == 0) \n",
        "n = eval(input())\n",
        "print(test(n))"
      ],
      "metadata": {
        "colab": {
          "base_uri": "https://localhost:8080/"
        },
        "id": "ZMgVxDG5bDTq",
        "outputId": "27a5fe3d-8a68-414f-d7cd-e0682655c74b"
      },
      "execution_count": null,
      "outputs": [
        {
          "output_type": "stream",
          "name": "stdout",
          "text": [
            "[1, 2, 8, 3, 9, 4]\n",
            "6\n"
          ]
        }
      ]
    },
    {
      "cell_type": "code",
      "source": [
        "def test(n, shift):\n",
        "    s = str(n)\n",
        "    if shift > len(s):\n",
        "        return s[::-1]\n",
        "    return s[shift:] + s[:shift]\n",
        "n = int(input())\n",
        "shift= int(input())\n",
        "print(,test(n, shift))"
      ],
      "metadata": {
        "colab": {
          "base_uri": "https://localhost:8080/",
          "height": 134
        },
        "id": "ODVQBAIwcS6J",
        "outputId": "a1a76ce7-7bbf-4373-85cb-621b25a2bf5d"
      },
      "execution_count": null,
      "outputs": [
        {
          "output_type": "error",
          "ename": "SyntaxError",
          "evalue": "ignored",
          "traceback": [
            "\u001b[0;36m  File \u001b[0;32m\"<ipython-input-21-a9f8b2ef3610>\"\u001b[0;36m, line \u001b[0;32m8\u001b[0m\n\u001b[0;31m    print(,test(n, shift))\u001b[0m\n\u001b[0m          ^\u001b[0m\n\u001b[0;31mSyntaxError\u001b[0m\u001b[0;31m:\u001b[0m invalid syntax\n"
          ]
        }
      ]
    },
    {
      "cell_type": "code",
      "source": [
        "def test(n):\n",
        "    return [[i,j] for i in range(n) for j in range(len(str(i))) if str(i)[j] == '5' and (i%15==0 or i%9==0)]\n",
        "n = int(input())\n",
        "print(test(n))    "
      ],
      "metadata": {
        "colab": {
          "base_uri": "https://localhost:8080/"
        },
        "id": "uJ1i9EjAdKXe",
        "outputId": "7413af82-69f2-4c5c-f251-a85f6f09212f"
      },
      "execution_count": null,
      "outputs": [
        {
          "output_type": "stream",
          "name": "stdout",
          "text": [
            "50\n",
            "[[15, 1], [45, 1]]\n"
          ]
        }
      ]
    },
    {
      "cell_type": "code",
      "source": [
        "def recur_fibo(n):\n",
        "   if n <= 1:\n",
        "       return n\n",
        "   else:\n",
        "       return(recur_fibo(n-1) + recur_fibo(n-2))\n",
        "\n",
        "num =int(input())\n",
        "\n",
        "# check if the number of terms is valid\n",
        "if num <= 0:\n",
        "   print(\"Plese enter a positive integer\")\n",
        "else:\n",
        "   print(\"Fibonacci Series:\")\n",
        "   for i in range(num):\n",
        "       print(recur_fibo(i),end=',')\n"
      ],
      "metadata": {
        "colab": {
          "base_uri": "https://localhost:8080/"
        },
        "id": "pnqrRLeUdqNm",
        "outputId": "47e8af0f-4382-44ed-c49e-e16314cb891c"
      },
      "execution_count": null,
      "outputs": [
        {
          "output_type": "stream",
          "name": "stdout",
          "text": [
            "5\n",
            "Fibonacci Series:\n",
            "0,1,1,2,3,"
          ]
        }
      ]
    },
    {
      "cell_type": "code",
      "source": [
        "def rev(n, temp):\n",
        " \n",
        "    # base case\n",
        "    if (n == 0):\n",
        "        return temp;\n",
        " \n",
        "    # stores the reverse of a number\n",
        "    temp = (temp * 10) + (n % 10);\n",
        " \n",
        "    return rev(n // 10, temp);\n",
        " \n",
        "# Driver Code\n",
        "num = int(input())\n",
        "temp = rev(num, 0);\n",
        " \n",
        "if (temp == num):\n",
        "    print(\"It is Palindrome\")\n",
        "else:\n",
        "    print(\"It is not Palindrome\")"
      ],
      "metadata": {
        "colab": {
          "base_uri": "https://localhost:8080/"
        },
        "id": "uL0PvPZGfmp-",
        "outputId": "41baa968-3571-4082-9c7f-7c875cca4d0e"
      },
      "execution_count": null,
      "outputs": [
        {
          "output_type": "stream",
          "name": "stdout",
          "text": [
            "121\n",
            "It is Palindrome\n"
          ]
        }
      ]
    },
    {
      "cell_type": "code",
      "source": [
        "string= 'Emma25 is Data scientist50 and AI Expert'\n",
        "res = []\n",
        "temp = string.split()\n",
        "for idx in temp:\n",
        "    if any(chr.isalpha() for chr in idx) and any(chr.isdigit() for chr in idx):\n",
        "        res.append(idx)\n",
        "         \n",
        "# printing result\n",
        "print(\"Displaying words with alphabets and numbers\")\n",
        "print(str(res))"
      ],
      "metadata": {
        "colab": {
          "base_uri": "https://localhost:8080/"
        },
        "id": "1ztaGHEBgq5l",
        "outputId": "a1d2b86d-78fc-4503-e354-a828707fd7a6"
      },
      "execution_count": null,
      "outputs": [
        {
          "output_type": "stream",
          "name": "stdout",
          "text": [
            "Displaying words with alphabets and numbers\n",
            "['Emma25', 'scientist50']\n"
          ]
        }
      ]
    },
    {
      "cell_type": "code",
      "source": [
        "from itertools import groupby\n",
        "def pack_consecutive_duplicates(l_nums):\n",
        "    return [list(group) for key, group in groupby(l_nums)]\n",
        "l=eval(input())\n",
        "print(pack_consecutive_duplicates(l)) \n"
      ],
      "metadata": {
        "colab": {
          "base_uri": "https://localhost:8080/"
        },
        "id": "mGXjvlZBij8x",
        "outputId": "bf06f32a-8bb8-4463-ce02-975767b8bfad"
      },
      "execution_count": null,
      "outputs": [
        {
          "output_type": "stream",
          "name": "stdout",
          "text": [
            "[0, 0, 1, 2, 3, 4, 4, 5, 6, 6, 6, 7, 8, 9]\n",
            "[[0, 0], [1], [2], [3], [4, 4], [5], [6, 6, 6], [7], [8], [9]]\n"
          ]
        }
      ]
    },
    {
      "cell_type": "code",
      "source": [
        "rows=6\n",
        "for i in range(rows):\n",
        "    # nested loop\n",
        "    for j in range(i):\n",
        "        # display number\n",
        "        print(i, end=' ')\n",
        "    # new line after each row\n",
        "    print('')"
      ],
      "metadata": {
        "colab": {
          "base_uri": "https://localhost:8080/"
        },
        "id": "iYgF6UUginMR",
        "outputId": "3844d837-4911-4b71-a376-9f273c8f93f5"
      },
      "execution_count": null,
      "outputs": [
        {
          "output_type": "stream",
          "name": "stdout",
          "text": [
            "\n",
            "1 \n",
            "2 2 \n",
            "3 3 3 \n",
            "4 4 4 4 \n",
            "5 5 5 5 5 \n"
          ]
        }
      ]
    },
    {
      "cell_type": "code",
      "source": [
        "rows = 5\n",
        "for i in range(1, rows + 1):\n",
        "    for j in range(1, i + 1):\n",
        "        print(j, end=' ')\n",
        "    print('')"
      ],
      "metadata": {
        "colab": {
          "base_uri": "https://localhost:8080/"
        },
        "id": "HOwQ54QpjAXt",
        "outputId": "c97b691b-524a-49ef-933f-daaac06e2245"
      },
      "execution_count": null,
      "outputs": [
        {
          "output_type": "stream",
          "name": "stdout",
          "text": [
            "1 \n",
            "1 2 \n",
            "1 2 3 \n",
            "1 2 3 4 \n",
            "1 2 3 4 5 \n"
          ]
        }
      ]
    },
    {
      "cell_type": "code",
      "source": [
        "rows = 5\n",
        "b = 0\n",
        "# reverse for loop from 5 to 0\n",
        "for i in range(rows, 0, -1):\n",
        "    b += 1\n",
        "    for j in range(1, i + 1):\n",
        "        print(b, end=' ')\n",
        "    print('\\r')"
      ],
      "metadata": {
        "colab": {
          "base_uri": "https://localhost:8080/"
        },
        "id": "-e8lQL6XjJwS",
        "outputId": "d01c1f13-4a49-4f1e-ac32-967cd3dadbd9"
      },
      "execution_count": null,
      "outputs": [
        {
          "output_type": "stream",
          "name": "stdout",
          "text": [
            "1 1 1 1 1 \r\n",
            "2 2 2 2 \r\n",
            "3 3 3 \r\n",
            "4 4 \r\n",
            "5 \r\n"
          ]
        }
      ]
    },
    {
      "cell_type": "code",
      "source": [
        "rows = 5\n",
        "for j in range(1, rows+1):\n",
        "    print(\"* \" * j)"
      ],
      "metadata": {
        "colab": {
          "base_uri": "https://localhost:8080/"
        },
        "id": "QSxLkMqTj0NK",
        "outputId": "f97465eb-000f-4eef-9c98-fd01ad6c4cd3"
      },
      "execution_count": null,
      "outputs": [
        {
          "output_type": "stream",
          "name": "stdout",
          "text": [
            "* \n",
            "* * \n",
            "* * * \n",
            "* * * * \n",
            "* * * * * \n"
          ]
        }
      ]
    },
    {
      "cell_type": "code",
      "source": [
        "rows = 5\n",
        "for i in range(rows + 1, 0, -1):\n",
        "    # nested reverse loop\n",
        "    for j in range(0, i - 1):\n",
        "        # display star\n",
        "        print(\"*\", end=' ')\n",
        "    print(\" \")"
      ],
      "metadata": {
        "colab": {
          "base_uri": "https://localhost:8080/"
        },
        "id": "ID1rU6uhj7vf",
        "outputId": "c295b1ba-e67d-4801-fe97-7c6c587f3719"
      },
      "execution_count": null,
      "outputs": [
        {
          "output_type": "stream",
          "name": "stdout",
          "text": [
            "* * * * *  \n",
            "* * * *  \n",
            "* * *  \n",
            "* *  \n",
            "*  \n",
            " \n"
          ]
        }
      ]
    },
    {
      "cell_type": "code",
      "source": [
        "rows = 8\n",
        "for i in range(0, rows+1, 1):\n",
        "    for j in range(1, rows+1):\n",
        "        print(j, end=' ')\n",
        "    print()"
      ],
      "metadata": {
        "colab": {
          "base_uri": "https://localhost:8080/"
        },
        "id": "u68yTuGQkP3p",
        "outputId": "d77c5444-bcb8-4414-c86b-8848e5f9b21e"
      },
      "execution_count": null,
      "outputs": [
        {
          "output_type": "stream",
          "name": "stdout",
          "text": [
            "1 2 3 4 5 6 7 8 \n",
            "1 2 3 4 5 6 7 8 \n",
            "1 2 3 4 5 6 7 8 \n",
            "1 2 3 4 5 6 7 8 \n",
            "1 2 3 4 5 6 7 8 \n",
            "1 2 3 4 5 6 7 8 \n",
            "1 2 3 4 5 6 7 8 \n",
            "1 2 3 4 5 6 7 8 \n",
            "1 2 3 4 5 6 7 8 \n"
          ]
        }
      ]
    },
    {
      "cell_type": "code",
      "source": [
        "rows=8\n",
        "for i in range(rows,0,-1):\n",
        "    for j in range(0,i):\n",
        "        print(f'{j+1}*', end=\"\")\n",
        "    print(\"\")"
      ],
      "metadata": {
        "colab": {
          "base_uri": "https://localhost:8080/"
        },
        "id": "5MuFQ2a5oN74",
        "outputId": "76fe5ebc-b3fa-4cb1-cd4d-332681cd84f8"
      },
      "execution_count": null,
      "outputs": [
        {
          "output_type": "stream",
          "name": "stdout",
          "text": [
            "1*2*3*4*5*6*7*8*\n",
            "1*2*3*4*5*6*7*\n",
            "1*2*3*4*5*6*\n",
            "1*2*3*4*5*\n",
            "1*2*3*4*\n",
            "1*2*3*\n",
            "1*2*\n",
            "1*\n"
          ]
        }
      ]
    },
    {
      "cell_type": "code",
      "source": [
        "def factorial(n):\n",
        "  f=1\n",
        "  for i in range(1,n+1):\n",
        "    f=f*i\n",
        "  return f"
      ],
      "metadata": {
        "id": "GO6Xw8MGd-uK"
      },
      "execution_count": null,
      "outputs": []
    },
    {
      "cell_type": "code",
      "source": [
        "print(factorial(5))"
      ],
      "metadata": {
        "colab": {
          "base_uri": "https://localhost:8080/"
        },
        "id": "F_mUZQQyeoDK",
        "outputId": "5bad7f0c-d237-44bc-b9ae-5f834b05b5f0"
      },
      "execution_count": null,
      "outputs": [
        {
          "output_type": "stream",
          "name": "stdout",
          "text": [
            "120\n"
          ]
        }
      ]
    },
    {
      "cell_type": "code",
      "source": [
        "sting='my name is jayalaxmi mekap'\n",
        "rev_sting=''.join(reversed(sting))\n",
        "print(rev_sting)"
      ],
      "metadata": {
        "colab": {
          "base_uri": "https://localhost:8080/"
        },
        "id": "zFZSLNcGesGu",
        "outputId": "a55deac6-a620-4238-e37a-0947efce9c50"
      },
      "execution_count": null,
      "outputs": [
        {
          "output_type": "stream",
          "name": "stdout",
          "text": [
            "pakem imxalayaj si eman ym\n"
          ]
        }
      ]
    },
    {
      "cell_type": "code",
      "source": [
        "sting='my name is jayalaxmi mekap'\n",
        "rev_sting=sting.split(' ')\n",
        "for i in rev_sting:\n",
        "  print(i[::-1],end=\" \")"
      ],
      "metadata": {
        "colab": {
          "base_uri": "https://localhost:8080/"
        },
        "id": "GKJVxSUNf4AD",
        "outputId": "b1589900-c7c5-4efa-8e86-99cc0ffe9d8c"
      },
      "execution_count": null,
      "outputs": [
        {
          "output_type": "stream",
          "name": "stdout",
          "text": [
            "ym eman si imxalayaj pakem "
          ]
        }
      ]
    },
    {
      "cell_type": "code",
      "source": [
        "s ='my name is jayalaxmi mekap'  # initial string\n",
        "reversedString=[]\n",
        "index = len(s) # calculate length of string and save in index\n",
        "while index > 0: \n",
        "    reversedString += s[ index - 1 ] # save the value of str[index-1] in reverseString\n",
        "    index = index - 1 # decrement index\n",
        "print(reversedString) # reversed string\n"
      ],
      "metadata": {
        "colab": {
          "base_uri": "https://localhost:8080/"
        },
        "id": "kZyu-Znqgaam",
        "outputId": "50f9f395-e3b2-49c7-95e8-46563c9483d8"
      },
      "execution_count": null,
      "outputs": [
        {
          "output_type": "stream",
          "name": "stdout",
          "text": [
            "['p', 'a', 'k', 'e', 'm', ' ', 'i', 'm', 'x', 'a', 'l', 'a', 'y', 'a', 'j', ' ', 's', 'i', ' ', 'e', 'm', 'a', 'n', ' ', 'y', 'm']\n"
          ]
        }
      ]
    },
    {
      "cell_type": "code",
      "source": [
        "sting='my name is jayalaxmi mekap'\n",
        "sting[::-1]"
      ],
      "metadata": {
        "colab": {
          "base_uri": "https://localhost:8080/",
          "height": 36
        },
        "id": "TDq_OUgggr10",
        "outputId": "6217c11a-e674-4944-e0e6-e2d7feb6f947"
      },
      "execution_count": null,
      "outputs": [
        {
          "output_type": "execute_result",
          "data": {
            "text/plain": [
              "'pakem imxalayaj si eman ym'"
            ],
            "application/vnd.google.colaboratory.intrinsic+json": {
              "type": "string"
            }
          },
          "metadata": {},
          "execution_count": 10
        }
      ]
    },
    {
      "cell_type": "code",
      "source": [
        "MyString1 = \"A geek in need is a geek indeed\"\n",
        " \n",
        "if \"need\" in MyString1:\n",
        "    print(\"Yes! it is present in the string\")\n",
        "else:\n",
        "    print(\"No! it is not present\")"
      ],
      "metadata": {
        "colab": {
          "base_uri": "https://localhost:8080/"
        },
        "id": "whV9w0BchCHe",
        "outputId": "c95c3b5a-ff40-4af1-dcd4-5a1bec0e450a"
      },
      "execution_count": null,
      "outputs": [
        {
          "output_type": "stream",
          "name": "stdout",
          "text": [
            "Yes! it is present in the string\n"
          ]
        }
      ]
    },
    {
      "cell_type": "code",
      "source": [
        "mystr='my name is jaya'\n",
        "'jaya' in mystr"
      ],
      "metadata": {
        "colab": {
          "base_uri": "https://localhost:8080/"
        },
        "id": "oImdw6hBhH0-",
        "outputId": "215e0417-6085-499e-efd5-17ea43681d6c"
      },
      "execution_count": null,
      "outputs": [
        {
          "output_type": "execute_result",
          "data": {
            "text/plain": [
              "True"
            ]
          },
          "metadata": {},
          "execution_count": 13
        }
      ]
    },
    {
      "cell_type": "code",
      "source": [
        "import matplotlib.pyplot as plt"
      ],
      "metadata": {
        "id": "9Hbpf5d7icwX"
      },
      "execution_count": null,
      "outputs": []
    },
    {
      "cell_type": "code",
      "source": [
        "ts = pd.Series(np.random.randn(1000), index=pd.date_range(\"1/1/2000\", periods=1000))\n",
        "\n",
        "ts = ts.cumsum()\n",
        "\n",
        "ts.plot();"
      ],
      "metadata": {
        "colab": {
          "base_uri": "https://localhost:8080/",
          "height": 277
        },
        "id": "_F8K8OR1jR_r",
        "outputId": "a47702e3-f135-438d-dcd4-538eb39214a3"
      },
      "execution_count": null,
      "outputs": [
        {
          "output_type": "display_data",
          "data": {
            "text/plain": [
              "<Figure size 432x288 with 1 Axes>"
            ],
            "image/png": "[encoded data removed]"
          },
          "metadata": {
            "needs_background": "light"
          }
        }
      ]
    },
    {
      "cell_type": "code",
      "source": [
        "import pandas as pd\n",
        "import numpy as np\n",
        "df = pd.DataFrame(np.random.randn(1000, 4), index=ts.index, columns=list(\"ABCD\"))\n",
        "plt.figure();\n",
        "\n",
        "df.iloc[5].plot(kind=\"bar\");"
      ],
      "metadata": {
        "colab": {
          "base_uri": "https://localhost:8080/",
          "height": 263
        },
        "id": "G2wqSeILipdH",
        "outputId": "36b0af1e-2358-48da-afde-0ec0aa290a83"
      },
      "execution_count": null,
      "outputs": [
        {
          "output_type": "display_data",
          "data": {
            "text/plain": [
              "<Figure size 432x288 with 1 Axes>"
            ],
            "image/png": "[encoded data removed]"
          },
          "metadata": {
            "needs_background": "light"
          }
        }
      ]
    },
    {
      "cell_type": "code",
      "source": [
        "df2 = pd.DataFrame(np.random.rand(10, 4), columns=[\"a\", \"b\", \"c\", \"d\"])\n",
        "\n",
        "df2.plot.bar();"
      ],
      "metadata": {
        "colab": {
          "base_uri": "https://localhost:8080/",
          "height": 262
        },
        "id": "by93u0ghjjUE",
        "outputId": "7f269e86-c785-4995-fbf6-e97ef029d2fd"
      },
      "execution_count": null,
      "outputs": [
        {
          "output_type": "display_data",
          "data": {
            "text/plain": [
              "<Figure size 432x288 with 1 Axes>"
            ],
            "image/png": "[encoded data removed]"
          },
          "metadata": {
            "needs_background": "light"
          }
        }
      ]
    },
    {
      "cell_type": "code",
      "source": [
        "df2.plot.bar(stacked=True);"
      ],
      "metadata": {
        "colab": {
          "base_uri": "https://localhost:8080/",
          "height": 262
        },
        "id": "UwGfGhxojv9l",
        "outputId": "e0fc0f3b-aac9-4b2d-e26d-904dbf9da3ed"
      },
      "execution_count": null,
      "outputs": [
        {
          "output_type": "display_data",
          "data": {
            "text/plain": [
              "<Figure size 432x288 with 1 Axes>"
            ],
            "image/png": "[encoded data removed]"
          },
          "metadata": {
            "needs_background": "light"
          }
        }
      ]
    },
    {
      "cell_type": "code",
      "source": [
        "df = pd.DataFrame(np.random.rand(10, 5), columns=[\"A\", \"B\", \"C\", \"D\", \"E\"])\n",
        "\n",
        "df.plot.box();"
      ],
      "metadata": {
        "colab": {
          "base_uri": "https://localhost:8080/",
          "height": 265
        },
        "id": "ip0Ccnoij_KO",
        "outputId": "810efe8f-cf8e-44bf-ca65-8148aabf6a41"
      },
      "execution_count": null,
      "outputs": [
        {
          "output_type": "display_data",
          "data": {
            "text/plain": [
              "<Figure size 432x288 with 1 Axes>"
            ],
            "image/png": "[encoded data removed]"
          },
          "metadata": {
            "needs_background": "light"
          }
        }
      ]
    },
    {
      "cell_type": "code",
      "source": [
        "color = {\n",
        "    \"boxes\": \"DarkGreen\",\n",
        "    \"whiskers\": \"DarkOrange\",\n",
        "    \"medians\": \"DarkBlue\",\n",
        "    \"caps\": \"Gray\",\n",
        "}\n",
        "\n",
        "\n",
        "df.plot.box(color=color, sym=\"r+\");"
      ],
      "metadata": {
        "colab": {
          "base_uri": "https://localhost:8080/",
          "height": 265
        },
        "id": "xpsCiBhXkT53",
        "outputId": "b395ec33-e442-4d81-dc2a-a5218ebd86e7"
      },
      "execution_count": null,
      "outputs": [
        {
          "output_type": "display_data",
          "data": {
            "text/plain": [
              "<Figure size 432x288 with 1 Axes>"
            ],
            "image/png": "[encoded data removed]"
          },
          "metadata": {
            "needs_background": "light"
          }
        }
      ]
    },
    {
      "cell_type": "markdown",
      "source": [
        "A Box Plot is also known as Whisker plot is created to display the summary of the set of data values having properties like minimum, first quartile, median, third quartile and maximum. In the box plot, a box is created from the first quartile to the third quartile, a vertical line is also there which goes through the box at the median. Here x-axis denotes the data to be plotted while the y-axis shows the frequency distribution."
      ],
      "metadata": {
        "id": "0T5eHQcvkir0"
      }
    },
    {
      "cell_type": "code",
      "source": [
        "print([i.lower() for i in 'HELLO'])"
      ],
      "metadata": {
        "colab": {
          "base_uri": "https://localhost:8080/"
        },
        "id": "vag2ld02lLZ6",
        "outputId": "05a282be-45d6-4555-a6d4-3c4de49a3b10"
      },
      "execution_count": null,
      "outputs": [
        {
          "output_type": "stream",
          "name": "stdout",
          "text": [
            "['h', 'e', 'l', 'l', 'o']\n"
          ]
        }
      ]
    },
    {
      "cell_type": "code",
      "source": [
        "import numpy as np\n",
        "x = np.arange(101)\n",
        "print(x)"
      ],
      "metadata": {
        "colab": {
          "base_uri": "https://localhost:8080/"
        },
        "id": "94hWUtDioSnx",
        "outputId": "347ad4e6-4ddd-4031-e64b-2f38dff7b29f"
      },
      "execution_count": null,
      "outputs": [
        {
          "output_type": "stream",
          "name": "stdout",
          "text": [
            "[  0   1   2   3   4   5   6   7   8   9  10  11  12  13  14  15  16  17\n",
            "  18  19  20  21  22  23  24  25  26  27  28  29  30  31  32  33  34  35\n",
            "  36  37  38  39  40  41  42  43  44  45  46  47  48  49  50  51  52  53\n",
            "  54  55  56  57  58  59  60  61  62  63  64  65  66  67  68  69  70  71\n",
            "  72  73  74  75  76  77  78  79  80  81  82  83  84  85  86  87  88  89\n",
            "  90  91  92  93  94  95  96  97  98  99 100]\n"
          ]
        }
      ]
    },
    {
      "cell_type": "code",
      "source": [
        "nl=[]\n",
        "for x in range(1, 101):\n",
        "    if (x%2==0) and (x%5==0):\n",
        "        nl.append(str(x))\n",
        "print (','.join(nl))"
      ],
      "metadata": {
        "colab": {
          "base_uri": "https://localhost:8080/"
        },
        "id": "R1VmiltAqG-v",
        "outputId": "1c510393-962e-498b-e32d-4855e7693992"
      },
      "execution_count": null,
      "outputs": [
        {
          "output_type": "stream",
          "name": "stdout",
          "text": [
            "10,20,30,40,50,60,70,80,90,100\n"
          ]
        }
      ]
    },
    {
      "cell_type": "code",
      "source": [
        "def factorial(n):\n",
        "  f=1\n",
        "  for i in range(1,n+1):\n",
        "    f=f*i\n",
        "  return f\n",
        "num = int(input())\n",
        "if num < 0:\n",
        "    print(\"Factorial can't be calculated for negative number\")\n",
        "elif num == 0:\n",
        "    print(\"Factorial of 0 is 1\")      \n",
        "else:\n",
        "    print(\"Factorial of\", num, \"is\", factorial(num))    "
      ],
      "metadata": {
        "colab": {
          "base_uri": "https://localhost:8080/"
        },
        "id": "RBsrNKvsH6ax",
        "outputId": "1e34a357-9a5f-42ae-8aab-2ec2055709b3"
      },
      "execution_count": 3,
      "outputs": [
        {
          "output_type": "stream",
          "name": "stdout",
          "text": [
            "0\n",
            "Factorial of 0 is 1\n"
          ]
        }
      ]
    },
    {
      "cell_type": "code",
      "source": [
        "def restore_original_str(a1):\n",
        "  result = \"\"\n",
        "  ind = 0\n",
        "  end = len(a1)\n",
        "  while ind < end:\n",
        "    if a1[ind] == \"#\":\n",
        "      result += a1[ind + 2] * int(a1[ind + 1])\n",
        "      ind += 3\n",
        "    else:\n",
        "      result += a1[ind]\n",
        "      ind += 1\n",
        "  return result\n",
        "comp=input()\n",
        "print(restore_original_str(comp))"
      ],
      "metadata": {
        "colab": {
          "base_uri": "https://localhost:8080/"
        },
        "id": "KSzSIFAwIVdS",
        "outputId": "dc7c95e4-cba5-44d6-e601-a85533616a0d"
      },
      "execution_count": 5,
      "outputs": [
        {
          "output_type": "stream",
          "name": "stdout",
          "text": [
            "XY#6Z1#4023\n",
            "XYZZZZZZ1000023\n"
          ]
        }
      ]
    },
    {
      "cell_type": "code",
      "source": [
        "a, b, c, d, e, f = map(float, input().split())\n",
        "n = a*e - b*d\n",
        "print(\"Values of x and y:\")\n",
        "if n != 0:\n",
        "    x = (c*e - b*f) / n\n",
        "    y = (a*f - c*d) / n\n",
        "    print('{:.3f} {:.3f}'.format(x+0, y+0))"
      ],
      "metadata": {
        "colab": {
          "base_uri": "https://localhost:8080/"
        },
        "id": "IfhGL8aMeT6C",
        "outputId": "fbab83e0-14db-4a24-ab25-d1d18fedb764"
      },
      "execution_count": 7,
      "outputs": [
        {
          "output_type": "stream",
          "name": "stdout",
          "text": [
            "5 8 6 7 9 4\n",
            "Values of x and y:\n",
            "-2.000 2.000\n"
          ]
        }
      ]
    },
    {
      "cell_type": "code",
      "source": [
        "def areRotations(string1, string2):\n",
        "    size1 = len(string1)\n",
        "    size2 = len(string2)\n",
        "    temp = ''\n",
        "    if size1 != size2:\n",
        "        return 0\n",
        "    temp = string1 + string1\n",
        "    if (temp.count(string2)> 0):\n",
        "        return 1\n",
        "    else:\n",
        "        return 0\n",
        "fst_str = input()\n",
        "secnd_str = input()\n",
        "if areRotations(fst_str, secnd_str):\n",
        "    print(\"The given second string is the rotation of the given second string\")\n",
        "else:\n",
        "    print(\"The given second string is not the rotation of the given second string\")    "
      ],
      "metadata": {
        "colab": {
          "base_uri": "https://localhost:8080/"
        },
        "id": "RdQgA3gWfESC",
        "outputId": "5e389fca-5205-44d3-d423-c52ffef1fcf2"
      },
      "execution_count": 11,
      "outputs": [
        {
          "output_type": "stream",
          "name": "stdout",
          "text": [
            "btechgeeks\n",
            "geeksbtech\n",
            "The given second string is the rotation of the given second string\n"
          ]
        }
      ]
    },
    {
      "cell_type": "code",
      "source": [
        "def solve(s, t):\n",
        "   if len(s) != len(t):\n",
        "      return False\n",
        "   s = s + s\n",
        "   return \"The given second string is the rotation of the given second string\" if s.find(t) != -1 else \"The given second string is not the rotation of the given second string\"\n",
        "\n",
        "s = \"koLKAta\"\n",
        "t = \"KAtakoL\"\n",
        "print(solve(s, t))"
      ],
      "metadata": {
        "colab": {
          "base_uri": "https://localhost:8080/"
        },
        "id": "-YAHlXSsgmTE",
        "outputId": "77c75708-6345-4ff4-8f88-dbae033210d7"
      },
      "execution_count": 13,
      "outputs": [
        {
          "output_type": "stream",
          "name": "stdout",
          "text": [
            "The given second string is the rotation of the given second string\n"
          ]
        }
      ]
    },
    {
      "cell_type": "code",
      "source": [
        "def solve(s, t):\n",
        "   if len(s) != len(t):\n",
        "      return False\n",
        "   s = s + s\n",
        "   return \"The given second string is the rotation of the given second string\" if s.find(t) != -1 else \"The given second string is not the rotation of the given second string\"\n",
        "\n",
        "fst_str = input()\n",
        "secnd_str = input()\n",
        "print(solve(fst_str, secnd_str))"
      ],
      "metadata": {
        "colab": {
          "base_uri": "https://localhost:8080/"
        },
        "id": "NiRG5lLJhrln",
        "outputId": "acf969ce-6c5a-46b3-eafa-0c3a3f241dd5"
      },
      "execution_count": 14,
      "outputs": [
        {
          "output_type": "stream",
          "name": "stdout",
          "text": [
            "btechgeeks\n",
            "geeksbtech\n",
            "The given second string is the rotation of the given second string\n"
          ]
        }
      ]
    },
    {
      "cell_type": "code",
      "source": [
        "def test(nums):\n",
        "    return all([nums[i] != nums[i + 1] for i in range(len(nums)-1)]) and len(set(nums)) == 4\n",
        "l=eval(input())\n",
        "print(test(l))"
      ],
      "metadata": {
        "colab": {
          "base_uri": "https://localhost:8080/"
        },
        "id": "F4DqgDGQh-Za",
        "outputId": "722a2cc7-b270-4195-b6e6-4085c34e73d1"
      },
      "execution_count": 15,
      "outputs": [
        {
          "output_type": "stream",
          "name": "stdout",
          "text": [
            "[1, 2, 3, 4, 1, 2, 3, 4, 1, 2, 3, 4, 1, 2, 3, 4]\n",
            "True\n"
          ]
        }
      ]
    },
    {
      "cell_type": "code",
      "source": [
        "def test(nums):\n",
        "    return [max(nums[:i]) for i in range(1, len(nums) + 1)]\n",
        "n = eval(input())\n",
        "print(test(n))"
      ],
      "metadata": {
        "colab": {
          "base_uri": "https://localhost:8080/"
        },
        "id": "twqZUV5Zimsc",
        "outputId": "a312073d-7944-4635-a049-1d8ce23e9ee2"
      },
      "execution_count": 16,
      "outputs": [
        {
          "output_type": "stream",
          "name": "stdout",
          "text": [
            "[0, -1, 3, 8, 5, 9, 8, 14, 2, 4, 3, -10, 10, 17, 41, 22, -4, -4, -15, 0]\n",
            "[0, 0, 3, 8, 8, 9, 9, 14, 14, 14, 14, 14, 14, 17, 41, 41, 41, 41, 41, 41]\n"
          ]
        }
      ]
    },
    {
      "cell_type": "code",
      "source": [],
      "metadata": {
        "id": "zzpSc-lUi-r2"
      },
      "execution_count": null,
      "outputs": []
    }
  ]
}