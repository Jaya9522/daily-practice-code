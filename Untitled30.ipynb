{
  "nbformat": 4,
  "nbformat_minor": 0,
  "metadata": {
    "colab": {
      "provenance": [],
      "authorship_tag": "ABX9TyPfNhCAd9up+LowiNC2Tf4x",
      "include_colab_link": true
    },
    "kernelspec": {
      "name": "python3",
      "display_name": "Python 3"
    },
    "language_info": {
      "name": "python"
    }
  },
  "cells": [
    {
      "cell_type": "markdown",
      "metadata": {
        "id": "view-in-github",
        "colab_type": "text"
      },
      "source": [
        "<a href=\"https://colab.research.google.com/github/Jaya9522/daily-practice-code/blob/main/Untitled30.ipynb\" target=\"_parent\"><img src=\"https://colab.research.google.com/assets/colab-badge.svg\" alt=\"Open In Colab\"/></a>"
      ]
    },
    {
      "cell_type": "code",
      "execution_count": null,
      "metadata": {
        "colab": {
          "base_uri": "https://localhost:8080/"
        },
        "id": "5ovqzOJqxOKJ",
        "outputId": "bf9930df-6be3-4be5-c168-9e6793fc3f90"
      },
      "outputs": [
        {
          "output_type": "stream",
          "name": "stdout",
          "text": [
            "153\n",
            "Number is Armstrong\n"
          ]
        }
      ],
      "source": [
        "num = int(input())\n",
        "sum = 0\n",
        "temp = num\n",
        "while temp > 0:\n",
        "     digit = temp % 10\n",
        "     sum += digit **3\n",
        "     temp //= 10\n",
        "if num ==sum:\n",
        "   print(\"Number is Armstrong\")\n",
        "else:\n",
        "   print(Number is not Armstrong)        \n"
      ]
    },
    {
      "cell_type": "code",
      "source": [
        "def harmonic_sum(n):\n",
        "  if n < 2:\n",
        "    return 1\n",
        "  else:\n",
        "    return 1 / n + (harmonic_sum(n - 1))\n",
        "n = int(input())\n",
        "print(harmonic_sum(n))"
      ],
      "metadata": {
        "colab": {
          "base_uri": "https://localhost:8080/"
        },
        "id": "eM-N8w9dxZeP",
        "outputId": "1ed7428a-3797-42ff-d7ee-b907f9781c2a"
      },
      "execution_count": null,
      "outputs": [
        {
          "output_type": "stream",
          "name": "stdout",
          "text": [
            "7\n",
            "2.5928571428571425\n"
          ]
        }
      ]
    },
    {
      "cell_type": "code",
      "source": [
        "def test(nums):\n",
        "    pos = [n for n in nums if n > 0]\n",
        "    neg = [n for n in nums if n < 0]\n",
        "    return [max(neg) if neg else 0, min(pos) if pos else 0]  \n",
        "nums=eval(input())\n",
        "print(\"Largest negative and smallest positive numbers (or 0 if none) of the said list:\")\n",
        "print(test(nums))"
      ],
      "metadata": {
        "colab": {
          "base_uri": "https://localhost:8080/"
        },
        "id": "lLJEE_R9zD_j",
        "outputId": "888af36c-46d7-4c67-e1da-03ea9664370f"
      },
      "execution_count": null,
      "outputs": [
        {
          "output_type": "stream",
          "name": "stdout",
          "text": [
            "[-12, -6, 300, -40, 2, 2, 3, 57, -50, -22, 12, 40, 9, 11, 18]\n",
            "Largest negative and smallest positive numbers (or 0 if none) of the said list:\n",
            "[-6, 2]\n"
          ]
        }
      ]
    },
    {
      "cell_type": "code",
      "source": [
        "def Largest_Prime_Factor(n):\n",
        "    return next(n // i for i in range(1, n) if n % i == 0 and is_prime(n // i))\n",
        "def is_prime(m):\n",
        "    return all(m % i for i in range(2, m - 1))\n",
        "n = int(input())\n",
        "print(Largest_Prime_Factor(n))"
      ],
      "metadata": {
        "colab": {
          "base_uri": "https://localhost:8080/"
        },
        "id": "g03l_SO-zLSp",
        "outputId": "b2ea3ce9-2524-4257-b197-8de1ea09631a"
      },
      "execution_count": null,
      "outputs": [
        {
          "output_type": "stream",
          "name": "stdout",
          "text": [
            "330\n",
            "11\n"
          ]
        }
      ]
    },
    {
      "cell_type": "code",
      "source": [
        "def add_digits(num):\n",
        "        return (num - 1) % 9 + 1 if num > 0 else 0\n",
        "\n",
        "print(add_digits(48))\n",
        "print(add_digits(59))\n"
      ],
      "metadata": {
        "colab": {
          "base_uri": "https://localhost:8080/"
        },
        "id": "j3PXTcGwzu4h",
        "outputId": "66900f51-0432-4759-ec74-4a126373ced6"
      },
      "execution_count": null,
      "outputs": [
        {
          "output_type": "stream",
          "name": "stdout",
          "text": [
            "3\n",
            "5\n"
          ]
        }
      ]
    },
    {
      "cell_type": "code",
      "source": [
        "def add_digits(num):\n",
        "        return (num - 1) % 9 + 1 if num > 0 else 0\n",
        "\n",
        "print(add_digits(7548))\n",
        "\n"
      ],
      "metadata": {
        "colab": {
          "base_uri": "https://localhost:8080/"
        },
        "id": "HzYuNoUS0Rvu",
        "outputId": "3533548c-0bf1-4583-ad7f-850eb3977af9"
      },
      "execution_count": null,
      "outputs": [
        {
          "output_type": "stream",
          "name": "stdout",
          "text": [
            "6\n"
          ]
        }
      ]
    },
    {
      "cell_type": "code",
      "source": [
        "def GCD(a, b):\n",
        "    if(b == 0):\n",
        "        return a\n",
        "    else:\n",
        "        return GCD(b, a % b)\n",
        "a=int(input())\n",
        "b=int(input())\n",
        "print(GCD(a, b))\n"
      ],
      "metadata": {
        "colab": {
          "base_uri": "https://localhost:8080/"
        },
        "id": "lg7oGplwU31C",
        "outputId": "ac4680c4-3e4f-42a6-8ebf-46abed2261e3"
      },
      "execution_count": null,
      "outputs": [
        {
          "output_type": "stream",
          "name": "stdout",
          "text": [
            "12\n",
            "14\n",
            "2\n"
          ]
        }
      ]
    },
    {
      "cell_type": "code",
      "source": [
        "def test(m, n):\n",
        "    if m > n or (m == n and m % 2 == 1):\n",
        "        return -1\n",
        "    return n if n % 2 == 0 else n - 1\n",
        "m = int(input())\n",
        "n = int(input())\n",
        "print(\"Biggest even number between \",m, \"and\", n)\n",
        "print(test(m, n))"
      ],
      "metadata": {
        "colab": {
          "base_uri": "https://localhost:8080/"
        },
        "id": "tX3Rg9AFU8K3",
        "outputId": "09cb5fb5-46ec-4ec5-bcba-3514ce1ba345"
      },
      "execution_count": null,
      "outputs": [
        {
          "output_type": "stream",
          "name": "stdout",
          "text": [
            "12\n",
            "51\n",
            "Biggest even number between  12 and 51\n",
            "50\n"
          ]
        }
      ]
    },
    {
      "cell_type": "code",
      "source": [
        "def test(n,a):\n",
        "    m = 1\n",
        "    x = 0\n",
        "    while m != n:\n",
        "        x += 1\n",
        "        m *= a\n",
        "    return x\n",
        "n=int(input())\n",
        "a=int(input())\n",
        "print(test(n,a))"
      ],
      "metadata": {
        "colab": {
          "base_uri": "https://localhost:8080/"
        },
        "id": "mgjh-isqWOHK",
        "outputId": "efec6477-d0a7-4199-f3d9-84cc7cdc46f2"
      },
      "execution_count": null,
      "outputs": [
        {
          "output_type": "stream",
          "name": "stdout",
          "text": [
            "81\n",
            "3\n",
            "4\n"
          ]
        }
      ]
    },
    {
      "cell_type": "code",
      "source": [
        "def test(strs):\n",
        "    return \" \".join(strs for strs in strs.split() if is_prime(len(strs))) \n",
        "def is_prime(n):\n",
        "    return n > 1 and all(n % j for j in range(2, int(n ** 0.5) + 1))\n",
        "strs = input()\n",
        "print(test(strs))"
      ],
      "metadata": {
        "colab": {
          "base_uri": "https://localhost:8080/"
        },
        "id": "VxeBYs2UW0lT",
        "outputId": "7141312a-2c9c-4c5c-e306-3a65a89b42c1"
      },
      "execution_count": null,
      "outputs": [
        {
          "output_type": "stream",
          "name": "stdout",
          "text": [
            "Input: The quick brown fox jumps over the lazy dog.\n",
            "The quick brown fox jumps the\n"
          ]
        }
      ]
    },
    {
      "cell_type": "code",
      "source": [
        "def test(nums):\n",
        "    return sorted(n for n in nums if all(int(c) % 2 for c in str(abs(n))))\n",
        "nums = eval(input())\n",
        "print(\"Sublist of numbers of the said list with only odd digits in increasing order:\")\n",
        "print(test(nums))\n"
      ],
      "metadata": {
        "colab": {
          "base_uri": "https://localhost:8080/"
        },
        "id": "JeWmwk14XwWN",
        "outputId": "254d4f7f-ca2b-4f88-8ddf-ed9e6c88d2d6"
      },
      "execution_count": null,
      "outputs": [
        {
          "output_type": "stream",
          "name": "stdout",
          "text": [
            "[1, 3, 79, 10, 4, 2, 39]\n",
            "Sublist of numbers of the said list with only odd digits in increasing order:\n",
            "[1, 3, 39, 79]\n"
          ]
        }
      ]
    },
    {
      "cell_type": "code",
      "source": [
        "num=int(input())\n",
        "factorial = 1\n",
        "if num < 0:\n",
        "   print(\" Factorial can't be calculated for negative number\")\n",
        "elif num == 0:\n",
        "   print(\"Factorial of 0 is 1\")\n",
        "else:\n",
        "   for i in range(1,num + 1):\n",
        "       factorial = factorial*i\n",
        "   print(\"factorial of\",num,\"is\",factorial)\n"
      ],
      "metadata": {
        "colab": {
          "base_uri": "https://localhost:8080/"
        },
        "id": "baJ99_O6mwkQ",
        "outputId": "f4f3fc42-6779-47c4-efd7-6b2c39a2aadf"
      },
      "execution_count": null,
      "outputs": [
        {
          "output_type": "stream",
          "name": "stdout",
          "text": [
            "7\n",
            "factorial of 7 is 5040\n"
          ]
        }
      ]
    },
    {
      "cell_type": "code",
      "source": [
        "def factorial(n):\n",
        "   if n == 1: #base case\n",
        "       return n\n",
        "   else:\n",
        "       return n*factorial(n-1) # recursive case\n",
        "\n",
        "number = int(input())\n",
        "if number < 0:\n",
        "   print(\"Factorial exists for positive numbers only\")\n",
        "elif number == 0:\n",
        "   print(\"Factorial of 0 is 1\")\n",
        "else:\n",
        "   print(\"Factorial of\",number,\"is\",factorial(number))"
      ],
      "metadata": {
        "colab": {
          "base_uri": "https://localhost:8080/"
        },
        "id": "HU94Ogndm5b7",
        "outputId": "ccdaa769-8682-4606-aee3-7a3d80da3535"
      },
      "execution_count": null,
      "outputs": [
        {
          "output_type": "stream",
          "name": "stdout",
          "text": [
            "5\n",
            "Factorial of 5 : 120\n"
          ]
        }
      ]
    },
    {
      "cell_type": "code",
      "source": [
        "def fibonacci(num):\n",
        "    a,b = 0,1\n",
        "    for i in range(num):\n",
        "        a,b = b,a+b\n",
        "    return a\n",
        "num = int(input())\n",
        "print(fibonacci(num))\n"
      ],
      "metadata": {
        "colab": {
          "base_uri": "https://localhost:8080/"
        },
        "id": "vx7jCx2XnzpZ",
        "outputId": "4e7179ea-e026-46cd-d59f-c51da20541b0"
      },
      "execution_count": null,
      "outputs": [
        {
          "output_type": "stream",
          "name": "stdout",
          "text": [
            "5\n",
            "5\n"
          ]
        }
      ]
    },
    {
      "cell_type": "code",
      "source": [
        "def fibonacci(num):\n",
        "    a,b = 0,1\n",
        "    print(a, end=\",\")\n",
        "    while (b<num):\n",
        "        print(b, end=\",\")\n",
        "        c = a+b\n",
        "        a = b\n",
        "        b = c\n",
        "num = int(input())\n",
        "print(fibonacci(num))        "
      ],
      "metadata": {
        "colab": {
          "base_uri": "https://localhost:8080/"
        },
        "id": "muSM0FoJpF-g",
        "outputId": "8cd8344f-35a4-45dd-993f-3efd30daa881"
      },
      "execution_count": null,
      "outputs": [
        {
          "output_type": "stream",
          "name": "stdout",
          "text": [
            "10\n",
            "0,1,1,2,3,5,8,None\n"
          ]
        }
      ]
    },
    {
      "cell_type": "code",
      "source": [
        "def fibonacci(n):\n",
        "    a = 0\n",
        "    b = 1\n",
        "    if n < 0:\n",
        "        print(\"Incorrect input\")\n",
        "    elif n == 0:\n",
        "        return 0\n",
        "    elif n == 1:\n",
        "        return b\n",
        "    else:\n",
        "        for i in range(1, n):\n",
        "            c = a + b\n",
        "            a = b\n",
        "            b = c\n",
        "        return b \n",
        "n=int(input()) \n",
        "print(fibonacci(n, end=\" \"))                  "
      ],
      "metadata": {
        "colab": {
          "base_uri": "https://localhost:8080/",
          "height": 217
        },
        "id": "7qyel38NsJHG",
        "outputId": "f1143e0f-87c7-418a-db1e-6e33a5c2eaef"
      },
      "execution_count": null,
      "outputs": [
        {
          "name": "stdout",
          "output_type": "stream",
          "text": [
            "5\n"
          ]
        },
        {
          "output_type": "error",
          "ename": "TypeError",
          "evalue": "ignored",
          "traceback": [
            "\u001b[0;31m---------------------------------------------------------------------------\u001b[0m",
            "\u001b[0;31mTypeError\u001b[0m                                 Traceback (most recent call last)",
            "\u001b[0;32m<ipython-input-7-81850c3de971>\u001b[0m in \u001b[0;36m<module>\u001b[0;34m\u001b[0m\n\u001b[1;32m     15\u001b[0m         \u001b[0;32mreturn\u001b[0m \u001b[0mb\u001b[0m\u001b[0;34m\u001b[0m\u001b[0;34m\u001b[0m\u001b[0m\n\u001b[1;32m     16\u001b[0m \u001b[0mn\u001b[0m\u001b[0;34m=\u001b[0m\u001b[0mint\u001b[0m\u001b[0;34m(\u001b[0m\u001b[0minput\u001b[0m\u001b[0;34m(\u001b[0m\u001b[0;34m)\u001b[0m\u001b[0;34m)\u001b[0m\u001b[0;34m\u001b[0m\u001b[0;34m\u001b[0m\u001b[0m\n\u001b[0;32m---> 17\u001b[0;31m \u001b[0mprint\u001b[0m\u001b[0;34m(\u001b[0m\u001b[0mfibonacci\u001b[0m\u001b[0;34m(\u001b[0m\u001b[0mn\u001b[0m\u001b[0;34m,\u001b[0m \u001b[0mend\u001b[0m\u001b[0;34m=\u001b[0m\u001b[0;34m\" \"\u001b[0m\u001b[0;34m)\u001b[0m\u001b[0;34m)\u001b[0m\u001b[0;34m\u001b[0m\u001b[0;34m\u001b[0m\u001b[0m\n\u001b[0m",
            "\u001b[0;31mTypeError\u001b[0m: fibonacci() got an unexpected keyword argument 'end'"
          ]
        }
      ]
    },
    {
      "cell_type": "code",
      "source": [
        "num = int(input())\n",
        "n1, n2 = 0, 1\n",
        "print(\"Fibonacci Series:\")\n",
        "for i in range(2, num):\n",
        "    n3 = n1 + n2\n",
        "    n1 = n2\n",
        "    n2 = n3\n",
        "    print(n3, end=\",\")\n",
        "\n",
        "print( n1, n2, end=\",\")"
      ],
      "metadata": {
        "colab": {
          "base_uri": "https://localhost:8080/"
        },
        "id": "ftUSPPSGsMic",
        "outputId": "e8e7488b-d168-4f2c-cd11-1fba65b5c820"
      },
      "execution_count": null,
      "outputs": [
        {
          "output_type": "stream",
          "name": "stdout",
          "text": [
            "10\n",
            "Fibonacci Series:\n",
            "1,2,3,5,8,13,21,34,21 34,"
          ]
        }
      ]
    },
    {
      "cell_type": "code",
      "source": [
        "num = 10\n",
        "n1, n2 = 0, 1\n",
        "print(\"Fibonacci Series:\", n1, n2, end=\" \")\n",
        "for i in range(2, num):\n",
        "    n3 = n1 + n2\n",
        "    n1 = n2\n",
        "    n2 = n3\n",
        "    print(n3, end=\" \")\n",
        "\n",
        "print()"
      ],
      "metadata": {
        "colab": {
          "base_uri": "https://localhost:8080/"
        },
        "id": "uGVMmnQ7twBr",
        "outputId": "8d4d7471-a6f3-4718-b92f-c9b3cfc09be1"
      },
      "execution_count": null,
      "outputs": [
        {
          "output_type": "stream",
          "name": "stdout",
          "text": [
            "Fibonacci Series: 0 1 1 2 3 5 8 13 21 34 \n"
          ]
        }
      ]
    },
    {
      "cell_type": "code",
      "source": [
        "def fib(number_of_terms):\n",
        "   counter = 0\n",
        "\n",
        "   first = 0\n",
        "   second = 1\n",
        "   temp = 0\n",
        " \n",
        "   while counter <= number_of_terms:\n",
        "      print(first, end=\",\")\n",
        "      temp = first + second\n",
        "      first = second\n",
        "      second = temp\n",
        "      counter = counter+1 \n",
        "\n",
        "# Driver Code\n",
        "fib(10)"
      ],
      "metadata": {
        "colab": {
          "base_uri": "https://localhost:8080/"
        },
        "id": "MqKXCa07uzrQ",
        "outputId": "034f822c-bca3-435e-a922-4030b736307f"
      },
      "execution_count": null,
      "outputs": [
        {
          "output_type": "stream",
          "name": "stdout",
          "text": [
            "0,1,1,2,3,5,8,13,21,34,55,"
          ]
        }
      ]
    },
    {
      "cell_type": "code",
      "source": [
        "def fib(term):\n",
        "   if term <= 1:\n",
        "       return (term)\n",
        "   else:\n",
        "       return (fib(term-1) + fib(term-2))\n",
        "\n",
        "# Change this value to adjust the number of terms in the sequence.\n",
        "print(\"Fibonacci Series:\")\n",
        "number_of_terms = int(input())\n",
        "for i in range(number_of_terms):\n",
        "    print(fib(i),end=\",\")"
      ],
      "metadata": {
        "colab": {
          "base_uri": "https://localhost:8080/"
        },
        "id": "ukRJIHE-v_sz",
        "outputId": "6618bfbd-c6a8-460a-9ed8-574065a7e4ac"
      },
      "execution_count": null,
      "outputs": [
        {
          "output_type": "stream",
          "name": "stdout",
          "text": [
            "Fibonacci Series:\n",
            "10\n",
            "0,1,1,2,3,5,8,13,21,34,"
          ]
        }
      ]
    },
    {
      "cell_type": "code",
      "source": [
        "num= int(input())\n",
        "reverse,temp = 0,n\n",
        "while temp!=0:\n",
        "    reverse = reverse*10 + temp%10;        \n",
        "    temp=temp//10;\n",
        "if reverse==n:\n",
        "    print(\"number is palindrom\")\n",
        "else:\n",
        "    print(\"number is not palindrom\")\n",
        " "
      ],
      "metadata": {
        "colab": {
          "base_uri": "https://localhost:8080/"
        },
        "id": "mOIXATR-w2vl",
        "outputId": "a9c43b7c-c888-4618-aea6-acc955602061"
      },
      "execution_count": null,
      "outputs": [
        {
          "output_type": "stream",
          "name": "stdout",
          "text": [
            "1331\n",
            "number is palindrom\n"
          ]
        }
      ]
    },
    {
      "cell_type": "code",
      "source": [
        "from collections import OrderedDict\n",
        "def remove_duplicate(str1):\n",
        "  return \"\".join(OrderedDict.fromkeys(str1))\n",
        "str1=str(input())\n",
        "print(remove_duplicate(str1))"
      ],
      "metadata": {
        "colab": {
          "base_uri": "https://localhost:8080/"
        },
        "id": "uO4aYT7yyW0Q",
        "outputId": "70ac8db7-8cab-45f3-eeee-efdacf4a9b0a"
      },
      "execution_count": null,
      "outputs": [
        {
          "output_type": "stream",
          "name": "stdout",
          "text": [
            "python exercises practice solution\n",
            "python exrcisalu\n"
          ]
        }
      ]
    },
    {
      "cell_type": "code",
      "source": [
        "from collections import OrderedDict\n",
        "\n",
        "def remove_duplicate(s):\n",
        "    string=set(s)\n",
        "    string=\"\".join(string)\n",
        "    dup=\"\"\n",
        "    for i in s:\n",
        "        if(i in dup):\n",
        "            pass\n",
        "        else:\n",
        "            dup=dup+i\n",
        "    print(dup)   \n",
        "\n"
      ],
      "metadata": {
        "id": "WW53a_7MzzSP"
      },
      "execution_count": null,
      "outputs": []
    },
    {
      "cell_type": "code",
      "source": [
        "s=input()\n",
        "print(remove_duplicate(s))"
      ],
      "metadata": {
        "colab": {
          "base_uri": "https://localhost:8080/"
        },
        "id": "OZ9n33oh0R1b",
        "outputId": "563e04dd-b444-4471-dc7e-03057690253c"
      },
      "execution_count": null,
      "outputs": [
        {
          "output_type": "stream",
          "name": "stdout",
          "text": [
            "print(dup)\n",
            "print(du)\n",
            "None\n"
          ]
        }
      ]
    },
    {
      "cell_type": "code",
      "source": [
        "from collections import OrderedDict\n",
        "def solve(s):\n",
        "   d = OrderedDict()\n",
        "   for c in s:\n",
        "      if c not in d:\n",
        "         d[c] = 0\n",
        "      d[c] += 1\n",
        "\n",
        "   return ''.join(d.keys())\n",
        "\n",
        "s =str(input())\n",
        "print(solve(s))\n"
      ],
      "metadata": {
        "colab": {
          "base_uri": "https://localhost:8080/"
        },
        "id": "1MvilAJQ1ca5",
        "outputId": "f0916f91-655e-4a07-a2a0-deaf0e3e8df6"
      },
      "execution_count": null,
      "outputs": [
        {
          "output_type": "stream",
          "name": "stdout",
          "text": [
            "python exercises practice solution\n",
            "python exrcisalu\n"
          ]
        }
      ]
    },
    {
      "cell_type": "code",
      "source": [
        "string = \"Great responsibility\";\n",
        "print(\"Duplicate characters in a given string: \");\n",
        "#Counts each character present in the string.\n",
        "for i in range(0, len(string)):\n",
        "    count = 1;\n",
        "for j in range(i+1, len(string)):\n",
        "   if(string[i] == string[j] and string[i] != ' '):\n",
        "       count = count + 1;"
      ],
      "metadata": {
        "colab": {
          "base_uri": "https://localhost:8080/"
        },
        "id": "m1kCzMFu2fik",
        "outputId": "7e390309-d71f-4436-f400-91cf70dab14e"
      },
      "execution_count": null,
      "outputs": [
        {
          "output_type": "stream",
          "name": "stdout",
          "text": [
            "Duplicate characters in a given string: \n"
          ]
        }
      ]
    },
    {
      "cell_type": "code",
      "source": [
        "from collections import OrderedDict\n",
        "def remove_duplicate(str1):\n",
        "  return \"\".join(OrderedDict.fromkeys(str1))\n",
        "str1=str(input())    \n",
        "print(remove_duplicate(str1))\n"
      ],
      "metadata": {
        "id": "4Az-ONnd3wBL",
        "outputId": "63a6a0c2-9703-427f-e27f-6a3bc1f4b004",
        "colab": {
          "base_uri": "https://localhost:8080/"
        }
      },
      "execution_count": null,
      "outputs": [
        {
          "output_type": "stream",
          "name": "stdout",
          "text": [
            "python exercises practice solution\n",
            "python exrcisalu\n"
          ]
        }
      ]
    },
    {
      "cell_type": "code",
      "source": [
        "from collections import OrderedDict\n",
        "def remove_duplicate(str1):\n",
        "  return \"\".join(OrderedDict.fromkeys(str1))\n",
        "     \n",
        "print(remove_duplicate(\"python exercises practice solution\"))"
      ],
      "metadata": {
        "id": "tOp_ERlS3xKx",
        "colab": {
          "base_uri": "https://localhost:8080/"
        },
        "outputId": "56c6451f-3aa5-414d-ad76-6c63cf5d84d3"
      },
      "execution_count": null,
      "outputs": [
        {
          "output_type": "stream",
          "name": "stdout",
          "text": [
            "python exrcisalu\n"
          ]
        }
      ]
    },
    {
      "cell_type": "code",
      "source": [
        "from collections import OrderedDict\n",
        "def remove_duplicate(str1):\n",
        "  return \"\".join(OrderedDict.fromkeys(str1))\n",
        "str=input()\n",
        "print(remove_duplicate(str))"
      ],
      "metadata": {
        "colab": {
          "base_uri": "https://localhost:8080/"
        },
        "id": "8gA-Y9yM8AC4",
        "outputId": "20d1a052-917c-4c02-df38-1e5f72b2cfec"
      },
      "execution_count": null,
      "outputs": [
        {
          "output_type": "stream",
          "name": "stdout",
          "text": [
            "python exercises practice solution\n",
            "python exrcisalu\n"
          ]
        }
      ]
    },
    {
      "cell_type": "code",
      "source": [
        "string=\"geeksforgeeks\"\n",
        "k2=[]\n",
        "for ele in k:\n",
        "    if ele not in k2:\n",
        "        k2.append(ele)\n",
        "for i in range(0,len(k2)):\n",
        "    print(k2[i],end=\"\")"
      ],
      "metadata": {
        "colab": {
          "base_uri": "https://localhost:8080/",
          "height": 235
        },
        "id": "LtgEMnzI8H_e",
        "outputId": "e951353c-e44c-4531-c2f3-8b24b0d79a7c"
      },
      "execution_count": null,
      "outputs": [
        {
          "output_type": "error",
          "ename": "NameError",
          "evalue": "ignored",
          "traceback": [
            "\u001b[0;31m---------------------------------------------------------------------------\u001b[0m",
            "\u001b[0;31mNameError\u001b[0m                                 Traceback (most recent call last)",
            "\u001b[0;32m<ipython-input-3-b10cf070bc25>\u001b[0m in \u001b[0;36m<module>\u001b[0;34m\u001b[0m\n\u001b[1;32m      1\u001b[0m \u001b[0mstring\u001b[0m\u001b[0;34m=\u001b[0m\u001b[0;34m\"geeksforgeeks\"\u001b[0m\u001b[0;34m\u001b[0m\u001b[0;34m\u001b[0m\u001b[0m\n\u001b[1;32m      2\u001b[0m \u001b[0mk2\u001b[0m\u001b[0;34m=\u001b[0m\u001b[0;34m[\u001b[0m\u001b[0;34m]\u001b[0m\u001b[0;34m\u001b[0m\u001b[0;34m\u001b[0m\u001b[0m\n\u001b[0;32m----> 3\u001b[0;31m \u001b[0;32mfor\u001b[0m \u001b[0mele\u001b[0m \u001b[0;32min\u001b[0m \u001b[0mk\u001b[0m\u001b[0;34m:\u001b[0m\u001b[0;34m\u001b[0m\u001b[0;34m\u001b[0m\u001b[0m\n\u001b[0m\u001b[1;32m      4\u001b[0m     \u001b[0;32mif\u001b[0m \u001b[0mele\u001b[0m \u001b[0;32mnot\u001b[0m \u001b[0;32min\u001b[0m \u001b[0mk2\u001b[0m\u001b[0;34m:\u001b[0m\u001b[0;34m\u001b[0m\u001b[0;34m\u001b[0m\u001b[0m\n\u001b[1;32m      5\u001b[0m         \u001b[0mk2\u001b[0m\u001b[0;34m.\u001b[0m\u001b[0mappend\u001b[0m\u001b[0;34m(\u001b[0m\u001b[0mele\u001b[0m\u001b[0;34m)\u001b[0m\u001b[0;34m\u001b[0m\u001b[0;34m\u001b[0m\u001b[0m\n",
            "\u001b[0;31mNameError\u001b[0m: name 'k' is not defined"
          ]
        }
      ]
    },
    {
      "cell_type": "code",
      "source": [
        "string=\"geeksforgeeks\"\n",
        "p=\"\"\n",
        "for char in string:\n",
        "    if char not in p:\n",
        "        p=p+char\n",
        "print(p)\n",
        "k=list(\"geeksforgeeks\")"
      ],
      "metadata": {
        "colab": {
          "base_uri": "https://localhost:8080/"
        },
        "id": "n5Hv6qPZ8nnu",
        "outputId": "e03cef03-2da5-4bb0-d6ab-48cd6f2bd7a7"
      },
      "execution_count": null,
      "outputs": [
        {
          "output_type": "stream",
          "name": "stdout",
          "text": [
            "geksfor\n"
          ]
        }
      ]
    },
    {
      "cell_type": "code",
      "source": [
        "def char_frequency(str1):\n",
        "    dict = {}\n",
        "    for n in str1:\n",
        "        keys = dict.keys()\n",
        "        if n in keys:\n",
        "            dict[n] += 1\n",
        "        else:\n",
        "            dict[n] = 1\n",
        "    return dict\n",
        "\n",
        "string=input()\n",
        "print(char_frequency(string))"
      ],
      "metadata": {
        "colab": {
          "base_uri": "https://localhost:8080/"
        },
        "id": "O931f7PS8wAf",
        "outputId": "48526a50-a514-49a9-8189-34f522c64a95"
      },
      "execution_count": null,
      "outputs": [
        {
          "output_type": "stream",
          "name": "stdout",
          "text": [
            "google.com\n",
            "{'g': 2, 'o': 3, 'l': 1, 'e': 1, '.': 1, 'c': 1, 'm': 1}\n"
          ]
        }
      ]
    },
    {
      "cell_type": "code",
      "source": [
        "from collections import OrderedDict\n",
        "\n",
        "def remove_duplicate(s): \n",
        "    return \"\".join(OrderedDict.fromkeys(s))\n",
        "\n",
        "s=input()\n",
        "print(remove_duplicate(s))"
      ],
      "metadata": {
        "colab": {
          "base_uri": "https://localhost:8080/"
        },
        "id": "j9yg_wWW9rix",
        "outputId": "86f42872-218b-49a6-83ae-9a6933ed0d82"
      },
      "execution_count": null,
      "outputs": [
        {
          "output_type": "stream",
          "name": "stdout",
          "text": [
            "python exercises practice solution\n",
            "python exrcisalu\n"
          ]
        }
      ]
    },
    {
      "cell_type": "code",
      "source": [
        "from collections import OrderedDict\n",
        "\n",
        "def remove_duplicate(s):\n",
        "    string=set(s)\n",
        "    string=\"\".join(string)\n",
        "    dup=\"\"\n",
        "    for i in s:\n",
        "        if(i in dup):\n",
        "            pass\n",
        "        else:\n",
        "            dup=dup+i\n",
        "    \n",
        "    print(dup)"
      ],
      "metadata": {
        "id": "zmo9MjZ0GC7y"
      },
      "execution_count": null,
      "outputs": []
    },
    {
      "cell_type": "code",
      "source": [
        "s=input()\n",
        "print(remove_duplicate(s))"
      ],
      "metadata": {
        "colab": {
          "base_uri": "https://localhost:8080/"
        },
        "id": "kGFDC69tHXh4",
        "outputId": "6b4d2bf4-421b-4c19-b3a5-8fe9d0fd695e"
      },
      "execution_count": null,
      "outputs": [
        {
          "output_type": "stream",
          "name": "stdout",
          "text": [
            "python exercises practice solution\n",
            "python exrcisalu\n",
            "None\n"
          ]
        }
      ]
    },
    {
      "cell_type": "code",
      "source": [
        "string=input()\n",
        "l=list(string)\n",
        "freq=[l.count(ele) for ele in l]\n",
        "d=dict(zip(l,freq))\n",
        "print(d)"
      ],
      "metadata": {
        "id": "VnV1pBmJJIUe",
        "colab": {
          "base_uri": "https://localhost:8080/"
        },
        "outputId": "f1878633-050a-4d8c-f50c-95267bdafc54"
      },
      "execution_count": 1,
      "outputs": [
        {
          "output_type": "stream",
          "name": "stdout",
          "text": [
            "google.com\n",
            "{'g': 2, 'o': 3, 'l': 1, 'e': 1, '.': 1, 'c': 1, 'm': 1}\n"
          ]
        }
      ]
    },
    {
      "cell_type": "code",
      "source": [],
      "metadata": {
        "id": "pORJsJztQHb8"
      },
      "execution_count": null,
      "outputs": []
    }
  ]
}